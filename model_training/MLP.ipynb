{
 "cells": [
  {
   "cell_type": "code",
   "execution_count": 1,
   "id": "098185d9",
   "metadata": {},
   "outputs": [],
   "source": [
    "# Libraries\n",
    "import numpy as np\n",
    "import pandas as pd\n",
    "from sklearn.neural_network import MLPClassifier\n",
    "from sklearn.model_selection import StratifiedKFold\n",
    "from sklearn.preprocessing import MinMaxScaler\n",
    "from sklearn.decomposition import PCA"
   ]
  },
  {
   "cell_type": "code",
   "execution_count": 2,
   "id": "a6dadb60",
   "metadata": {},
   "outputs": [],
   "source": [
    "# Constants\n",
    "game_sit_feat = ['month', 'year', 'inning', 'inning_topbot', \n",
    "                 'outs', 'strikes', 'balls', 'pitch_number', \n",
    "                 'on_1b', 'on_2b', 'on_3b', 'score_diff', \n",
    "                 'of_std', 'of_strat', 'if_std', 'if_strat', 'if_shift']\n",
    "wo_recursive_feat = game_sit_feat + ['Pitcher_Tend_FF', 'Pitcher_Tend_CU', 'Pitcher_Tend_CH', 'Pitcher_Tend_SL', 'Pitcher_Tend_SI', \n",
    "                                     'Pitcher_Strike_Tend_FF', 'Pitcher_Strike_Tend_CU', 'Pitcher_Strike_Tend_CH', 'Pitcher_Strike_Tend_SL', 'Pitcher_Strike_Tend_SI', \n",
    "                                     'batter_stance', 'Strike_Tend_FF', 'Strike_Tend_CU', 'Strike_Tend_CH', 'Strike_Tend_SL', 'Strike_Tend_SI', 'Overall_Strike_Tend', \n",
    "                                     'Slug_Avg_FF', 'Slug_Avg_CU', 'Slug_Avg_CH', 'Slug_Avg_SL', 'Slug_Avg_SI', 'Overall_Slug_Avg', \n",
    "                                     'Zone_1_Strike_Pcnt', 'Zone_2_Strike_Pcnt', 'Zone_3_Strike_Pcnt', 'Zone_4_Strike_Pcnt', 'Zone_5_Strike_Pcnt', 'Zone_6_Strike_Pcnt', 'Zone_7_Strike_Pcnt', 'Zone_8_Strike_Pcnt', 'Zone_9_Strike_Pcnt', 'Zone_11_Strike_Pcnt', 'Zone_12_Strike_Pcnt', 'Zone_13_Strike_Pcnt', 'Zone_14_Strike_Pcnt']"
   ]
  },
  {
   "cell_type": "code",
   "execution_count": 3,
   "id": "773e21ea",
   "metadata": {},
   "outputs": [],
   "source": [
    "# Import the data\n",
    "X_whole = pd.read_csv(\"../data/VerlanderOnly_X_train.csv\").to_numpy()\n",
    "y = pd.read_csv(\"../data/VerlanderOnly_y_train.csv\").to_numpy().T[0]\n",
    "\n",
    "verlander_cols = np.array(pd.read_csv(\"../data/VerlanderOnlyDataset.csv\", index_col=0).columns)\n",
    "game_sit_cols = np.where(np.isin(verlander_cols, game_sit_feat))[0] - 1\n",
    "wo_recursive_cols = np.where(np.isin(verlander_cols, wo_recursive_feat))[0] - 1\n",
    "\n",
    "X_game_sit = X_whole[:, game_sit_cols]\n",
    "X_wo_recurse = X_whole[:, wo_recursive_cols]"
   ]
  },
  {
   "cell_type": "markdown",
   "id": "104c1322",
   "metadata": {},
   "source": [
    "## Non-Regularized"
   ]
  },
  {
   "cell_type": "code",
   "execution_count": 4,
   "id": "efb843da",
   "metadata": {
    "scrolled": true
   },
   "outputs": [
    {
     "name": "stdout",
     "output_type": "stream",
     "text": [
      "Train Accuracy:  0.6202160288038405\n",
      "Test Accuracy:  0.5569777777777778\n",
      "Predictions:\n",
      "['CH' 'CU' 'FF' 'SI' 'SL']\n",
      "[ 224  703 4315   18  365]\n",
      "Actual:\n",
      "['CH' 'CU' 'FF' 'SI' 'SL']\n",
      "[ 758  939 3277   38  613]\n",
      "Train Accuracy:  0.6151042361203716\n",
      "Test Accuracy:  0.5706666666666667\n",
      "Predictions:\n",
      "['CH' 'CU' 'FF' 'SI' 'SL']\n",
      "[ 319  687 4500   13  106]\n",
      "Actual:\n",
      "['CH' 'CU' 'FF' 'SI' 'SL']\n",
      "[ 757  939 3277   39  613]\n",
      "Train Accuracy:  0.6160103120277358\n",
      "Test Accuracy:  0.5638335704125178\n",
      "Predictions:\n",
      "['CH' 'CU' 'FF' 'SI' 'SL']\n",
      "[ 268  462 4594   23  277]\n",
      "Actual:\n",
      "['CH' 'CU' 'FF' 'SI' 'SL']\n",
      "[ 757  939 3278   38  612]\n",
      "Train Accuracy:  0.6245444039470175\n",
      "Test Accuracy:  0.5677453769559033\n",
      "Predictions:\n",
      "['CH' 'CU' 'FF' 'SI' 'SL']\n",
      "[ 209  571 4567   18  259]\n",
      "Actual:\n",
      "['CH' 'CU' 'FF' 'SI' 'SL']\n",
      "[ 757  939 3278   38  612]\n",
      "Train Accuracy:  0.6183660769846209\n",
      "Test Accuracy:  0.5670341394025604\n",
      "Predictions:\n",
      "['CH' 'CU' 'FF' 'SI' 'SL']\n",
      "[ 313  501 4425   19  366]\n",
      "Actual:\n",
      "['CH' 'CU' 'FF' 'SI' 'SL']\n",
      "[ 758  938 3278   38  612]\n"
     ]
    }
   ],
   "source": [
    "# Without Recursive Features: Non-regularized (53 features)\n",
    "mlp_wo_recurse_models = []\n",
    "mlp_wo_recurse_train_accs = []\n",
    "mlp_wo_recurse_test_accs = []\n",
    "\n",
    "skf = StratifiedKFold(n_splits=5, shuffle=True, random_state=42)\n",
    "\n",
    "for train_index, test_index in skf.split(X_wo_recurse, y):\n",
    "    X_train, X_test = X_wo_recurse[train_index], X_wo_recurse[test_index]\n",
    "    y_train, y_test = y[train_index], y[test_index]\n",
    "    \n",
    "    model = MLPClassifier(hidden_layer_sizes=[70, 35, 20], \n",
    "                          learning_rate_init=0.0001, \n",
    "                          batch_size=100, \n",
    "                          max_iter=1000)\n",
    "    \n",
    "    model.fit(X_train, y_train)\n",
    "    \n",
    "    test_acc = model.score(X_test, y_test)\n",
    "    train_acc = model.score(X_train, y_train)\n",
    "    print(\"Train Accuracy: \", train_acc)\n",
    "    print(\"Test Accuracy: \", test_acc)\n",
    "    \n",
    "    print(\"Predictions:\")\n",
    "    print(np.unique(model.predict(X_test)))\n",
    "    print(np.unique(model.predict(X_test), return_counts=True)[1])\n",
    "    print(\"Actual:\")\n",
    "    print(np.unique(y_test))\n",
    "    print(np.unique(y_test, return_counts=True)[1])\n",
    "    \n",
    "    mlp_wo_recurse_train_accs.append(train_acc)\n",
    "    mlp_wo_recurse_test_accs.append(test_acc)\n",
    "    mlp_wo_recurse_models.append(model)"
   ]
  },
  {
   "cell_type": "code",
   "execution_count": 5,
   "id": "5f513691",
   "metadata": {},
   "outputs": [
    {
     "name": "stdout",
     "output_type": "stream",
     "text": [
      "Train Accuracy:  0.5932791038805174\n",
      "Test Accuracy:  0.5800888888888889\n",
      "Predictions:\n",
      "['CH' 'CU' 'FF' 'SI' 'SL']\n",
      "[  21  497 5085    8   14]\n",
      "Actual:\n",
      "['CH' 'CU' 'FF' 'SI' 'SL']\n",
      "[ 758  939 3277   38  613]\n",
      "Train Accuracy:  0.5929235009112326\n",
      "Test Accuracy:  0.5841777777777778\n",
      "Predictions:\n",
      "['CH' 'CU' 'FF' 'SI' 'SL']\n",
      "[  46  372 5170   16   21]\n",
      "Actual:\n",
      "['CH' 'CU' 'FF' 'SI' 'SL']\n",
      "[ 757  939 3277   39  613]\n",
      "Train Accuracy:  0.5968975020001778\n",
      "Test Accuracy:  0.5812588904694168\n",
      "Predictions:\n",
      "['CH' 'CU' 'FF' 'SI' 'SL']\n",
      "[  45  480 5082   13    4]\n",
      "Actual:\n",
      "['CH' 'CU' 'FF' 'SI' 'SL']\n",
      "[ 757  939 3278   38  612]\n",
      "Train Accuracy:  0.5928526980176015\n",
      "Test Accuracy:  0.5832147937411095\n",
      "Predictions:\n",
      "['CH' 'CU' 'FF' 'SI']\n",
      "[  29  454 5124   17]\n",
      "Actual:\n",
      "['CH' 'CU' 'FF' 'SI' 'SL']\n",
      "[ 757  939 3278   38  612]\n",
      "Train Accuracy:  0.591385900968975\n",
      "Test Accuracy:  0.5844594594594594\n",
      "Predictions:\n",
      "['CH' 'CU' 'FF' 'SI' 'SL']\n",
      "[  19  450 5126   13   16]\n",
      "Actual:\n",
      "['CH' 'CU' 'FF' 'SI' 'SL']\n",
      "[ 758  938 3278   38  612]\n"
     ]
    }
   ],
   "source": [
    "# Game Situational Features: Non-regularized (17 features)\n",
    "mlp_game_sit_models = []\n",
    "mlp_game_sit_train_accs = []\n",
    "mlp_game_sit_test_accs = []\n",
    "\n",
    "skf = StratifiedKFold(n_splits=5, shuffle=True, random_state=42)\n",
    "\n",
    "for train_index, test_index in skf.split(X_game_sit, y):\n",
    "    X_train, X_test = X_game_sit[train_index], X_game_sit[test_index]\n",
    "    y_train, y_test = y[train_index], y[test_index]\n",
    "    \n",
    "    model = MLPClassifier(hidden_layer_sizes=[50, 25, 10], \n",
    "                          learning_rate_init=0.0001, \n",
    "                          batch_size=100, \n",
    "                          max_iter=1000)\n",
    "    \n",
    "    model.fit(X_train, y_train)\n",
    "    \n",
    "    test_acc = model.score(X_test, y_test)\n",
    "    train_acc = model.score(X_train, y_train)\n",
    "    print(\"Train Accuracy: \", train_acc)\n",
    "    print(\"Test Accuracy: \", test_acc)\n",
    "    \n",
    "    print(\"Predictions:\")\n",
    "    print(np.unique(model.predict(X_test)))\n",
    "    print(np.unique(model.predict(X_test), return_counts=True)[1])\n",
    "    print(\"Actual:\")\n",
    "    print(np.unique(y_test))\n",
    "    print(np.unique(y_test, return_counts=True)[1])\n",
    "    \n",
    "    mlp_game_sit_train_accs.append(train_acc)\n",
    "    mlp_game_sit_test_accs.append(test_acc)\n",
    "    mlp_game_sit_models.append(model)"
   ]
  },
  {
   "cell_type": "code",
   "execution_count": 6,
   "id": "d04823d3",
   "metadata": {
    "scrolled": true
   },
   "outputs": [
    {
     "name": "stdout",
     "output_type": "stream",
     "text": [
      "Train Accuracy:  0.7589456371960706\n",
      "Test Accuracy:  0.5313777777777777\n",
      "Predictions:\n",
      "['CH' 'CU' 'FF' 'SI' 'SL']\n",
      "[ 548  890 3648   31  508]\n",
      "Actual:\n",
      "['CH' 'CU' 'FF' 'SI' 'SL']\n",
      "[ 758  939 3277   38  613]\n"
     ]
    },
    {
     "name": "stderr",
     "output_type": "stream",
     "text": [
      "/opt/miniconda3/lib/python3.9/site-packages/sklearn/neural_network/_multilayer_perceptron.py:702: ConvergenceWarning: Stochastic Optimizer: Maximum iterations (1000) reached and the optimization hasn't converged yet.\n",
      "  warnings.warn(\n"
     ]
    },
    {
     "name": "stdout",
     "output_type": "stream",
     "text": [
      "Train Accuracy:  0.771436191492199\n",
      "Test Accuracy:  0.5182222222222223\n",
      "Predictions:\n",
      "['CH' 'CU' 'FF' 'SI' 'SL']\n",
      "[ 638  759 3504   20  704]\n",
      "Actual:\n",
      "['CH' 'CU' 'FF' 'SI' 'SL']\n",
      "[ 757  939 3277   39  613]\n"
     ]
    },
    {
     "name": "stderr",
     "output_type": "stream",
     "text": [
      "/opt/miniconda3/lib/python3.9/site-packages/sklearn/neural_network/_multilayer_perceptron.py:702: ConvergenceWarning: Stochastic Optimizer: Maximum iterations (1000) reached and the optimization hasn't converged yet.\n",
      "  warnings.warn(\n"
     ]
    },
    {
     "name": "stdout",
     "output_type": "stream",
     "text": [
      "Train Accuracy:  0.7650902302426882\n",
      "Test Accuracy:  0.5302275960170697\n",
      "Predictions:\n",
      "['CH' 'CU' 'FF' 'SI' 'SL']\n",
      "[ 633  716 3764   32  479]\n",
      "Actual:\n",
      "['CH' 'CU' 'FF' 'SI' 'SL']\n",
      "[ 757  939 3278   38  612]\n"
     ]
    },
    {
     "name": "stderr",
     "output_type": "stream",
     "text": [
      "/opt/miniconda3/lib/python3.9/site-packages/sklearn/neural_network/_multilayer_perceptron.py:702: ConvergenceWarning: Stochastic Optimizer: Maximum iterations (1000) reached and the optimization hasn't converged yet.\n",
      "  warnings.warn(\n"
     ]
    },
    {
     "name": "stdout",
     "output_type": "stream",
     "text": [
      "Train Accuracy:  0.764645746288559\n",
      "Test Accuracy:  0.5145803698435277\n",
      "Predictions:\n",
      "['CH' 'CU' 'FF' 'SI' 'SL']\n",
      "[ 706  743 3622   25  528]\n",
      "Actual:\n",
      "['CH' 'CU' 'FF' 'SI' 'SL']\n",
      "[ 757  939 3278   38  612]\n"
     ]
    },
    {
     "name": "stderr",
     "output_type": "stream",
     "text": [
      "/opt/miniconda3/lib/python3.9/site-packages/sklearn/neural_network/_multilayer_perceptron.py:702: ConvergenceWarning: Stochastic Optimizer: Maximum iterations (1000) reached and the optimization hasn't converged yet.\n",
      "  warnings.warn(\n"
     ]
    },
    {
     "name": "stdout",
     "output_type": "stream",
     "text": [
      "Train Accuracy:  0.7597564227931372\n",
      "Test Accuracy:  0.5304054054054054\n",
      "Predictions:\n",
      "['CH' 'CU' 'FF' 'SI' 'SL']\n",
      "[ 548  606 3825   34  611]\n",
      "Actual:\n",
      "['CH' 'CU' 'FF' 'SI' 'SL']\n",
      "[ 758  938 3278   38  612]\n"
     ]
    }
   ],
   "source": [
    "# All Features: Non-regularized (100 features)\n",
    "mlp_whole_models = []\n",
    "mlp_whole_train_accs = []\n",
    "mlp_whole_test_accs = []\n",
    "\n",
    "skf = StratifiedKFold(n_splits=5, shuffle=True, random_state=42)\n",
    "\n",
    "for train_index, test_index in skf.split(X_whole, y):\n",
    "    X_train, X_test = X_whole[train_index], X_whole[test_index]\n",
    "    y_train, y_test = y[train_index], y[test_index]\n",
    "    \n",
    "    model = MLPClassifier(hidden_layer_sizes=[100, 50, 25], \n",
    "                          learning_rate_init=0.0001,\n",
    "                          batch_size=50, \n",
    "                          max_iter=1000)\n",
    "    \n",
    "    model.fit(X_train, y_train)\n",
    "    \n",
    "    test_acc = model.score(X_test, y_test)\n",
    "    train_acc = model.score(X_train, y_train)\n",
    "    print(\"Train Accuracy: \", train_acc)\n",
    "    print(\"Test Accuracy: \", test_acc)\n",
    "    \n",
    "    print(\"Predictions:\")\n",
    "    print(np.unique(model.predict(X_test)))\n",
    "    print(np.unique(model.predict(X_test), return_counts=True)[1])\n",
    "    print(\"Actual:\")\n",
    "    print(np.unique(y_test))\n",
    "    print(np.unique(y_test, return_counts=True)[1])\n",
    "    \n",
    "    mlp_whole_train_accs.append(train_acc)\n",
    "    mlp_whole_test_accs.append(test_acc)\n",
    "    mlp_whole_models.append(model)"
   ]
  },
  {
   "cell_type": "markdown",
   "id": "bb06d611",
   "metadata": {},
   "source": [
    "## Regularized"
   ]
  },
  {
   "cell_type": "code",
   "execution_count": 7,
   "id": "b0aea660",
   "metadata": {},
   "outputs": [
    {
     "name": "stdout",
     "output_type": "stream",
     "text": [
      "Train Accuracy:  0.6090589856425301\n",
      "Test Accuracy:  0.5644444444444444\n",
      "Predictions:\n",
      "['CH' 'CU' 'FF' 'SI' 'SL']\n",
      "[ 219  610 4462   18  316]\n",
      "Actual:\n",
      "['CH' 'CU' 'FF' 'SI' 'SL']\n",
      "[ 758  939 3277   38  613]\n",
      "Train Accuracy:  0.6131928701604659\n",
      "Test Accuracy:  0.5664\n",
      "Predictions:\n",
      "['CH' 'CU' 'FF' 'SI' 'SL']\n",
      "[ 204  732 4444   17  228]\n",
      "Actual:\n",
      "['CH' 'CU' 'FF' 'SI' 'SL']\n",
      "[ 757  939 3277   39  613]\n",
      "Train Accuracy:  0.6106320561827718\n",
      "Test Accuracy:  0.5654338549075392\n",
      "Predictions:\n",
      "['CH' 'CU' 'FF' 'SI' 'SL']\n",
      "[ 167  503 4584   27  343]\n",
      "Actual:\n",
      "['CH' 'CU' 'FF' 'SI' 'SL']\n",
      "[ 757  939 3278   38  612]\n",
      "Train Accuracy:  0.6074317717130412\n",
      "Test Accuracy:  0.5691678520625889\n",
      "Predictions:\n",
      "['CH' 'CU' 'FF' 'SI' 'SL']\n",
      "[ 182  549 4636   18  239]\n",
      "Actual:\n",
      "['CH' 'CU' 'FF' 'SI' 'SL']\n",
      "[ 757  939 3278   38  612]\n",
      "Train Accuracy:  0.6134323050937861\n",
      "Test Accuracy:  0.5771692745376956\n",
      "Predictions:\n",
      "['CH' 'CU' 'FF' 'SI' 'SL']\n",
      "[ 108  476 4795   19  226]\n",
      "Actual:\n",
      "['CH' 'CU' 'FF' 'SI' 'SL']\n",
      "[ 758  938 3278   38  612]\n"
     ]
    }
   ],
   "source": [
    "# Without Recursive Features: Non-regularized (53 features)\n",
    "mlp_wo_recurse_reg_models = []\n",
    "mlp_wo_recurse_reg_train_accs = []\n",
    "mlp_wo_recurse_reg_test_accs = []\n",
    "\n",
    "skf = StratifiedKFold(n_splits=5, shuffle=True, random_state=42)\n",
    "\n",
    "for train_index, test_index in skf.split(X_wo_recurse, y):\n",
    "    X_train, X_test = X_wo_recurse[train_index], X_wo_recurse[test_index]\n",
    "    y_train, y_test = y[train_index], y[test_index]\n",
    "    \n",
    "    scaler = MinMaxScaler()\n",
    "    scaled_X_train = scaler.fit_transform(X_train)\n",
    "    scaled_X_test = scaler.transform(X_test)\n",
    "    \n",
    "    model = MLPClassifier(hidden_layer_sizes=[70, 35, 20], \n",
    "                          learning_rate_init=0.0001, \n",
    "                          batch_size=100, \n",
    "                          max_iter=1000)\n",
    "    \n",
    "    model.fit(scaled_X_train, y_train)\n",
    "    \n",
    "    test_acc = model.score(scaled_X_test, y_test)\n",
    "    train_acc = model.score(scaled_X_train, y_train)\n",
    "    print(\"Train Accuracy: \", train_acc)\n",
    "    print(\"Test Accuracy: \", test_acc)\n",
    "    \n",
    "    print(\"Predictions:\")\n",
    "    print(np.unique(model.predict(scaled_X_test)))\n",
    "    print(np.unique(model.predict(scaled_X_test), return_counts=True)[1])\n",
    "    print(\"Actual:\")\n",
    "    print(np.unique(y_test))\n",
    "    print(np.unique(y_test, return_counts=True)[1])\n",
    "    \n",
    "    mlp_wo_recurse_reg_train_accs.append(train_acc)\n",
    "    mlp_wo_recurse_reg_test_accs.append(test_acc)\n",
    "    mlp_wo_recurse_reg_models.append(model)"
   ]
  },
  {
   "cell_type": "code",
   "execution_count": 8,
   "id": "af367a6d",
   "metadata": {},
   "outputs": [
    {
     "name": "stdout",
     "output_type": "stream",
     "text": [
      "Train Accuracy:  0.5925234475707872\n",
      "Test Accuracy:  0.5781333333333334\n",
      "Predictions:\n",
      "['CH' 'CU' 'FF' 'SI' 'SL']\n",
      "[  41  463 5099    7   15]\n",
      "Actual:\n",
      "['CH' 'CU' 'FF' 'SI' 'SL']\n",
      "[ 758  939 3277   38  613]\n",
      "Train Accuracy:  0.591767791261057\n",
      "Test Accuracy:  0.5843555555555555\n",
      "Predictions:\n",
      "['CH' 'CU' 'FF' 'SI' 'SL']\n",
      "[  13  501 5094   14    3]\n",
      "Actual:\n",
      "['CH' 'CU' 'FF' 'SI' 'SL']\n",
      "[ 757  939 3277   39  613]\n",
      "Train Accuracy:  0.5914747977598008\n",
      "Test Accuracy:  0.5819701280227596\n",
      "Predictions:\n",
      "['CH' 'CU' 'FF' 'SI' 'SL']\n",
      "[  46  365 5202   10    1]\n",
      "Actual:\n",
      "['CH' 'CU' 'FF' 'SI' 'SL']\n",
      "[ 757  939 3278   38  612]\n",
      "Train Accuracy:  0.5909414170148458\n",
      "Test Accuracy:  0.5860597439544808\n",
      "Predictions:\n",
      "['CH' 'CU' 'FF' 'SI' 'SL']\n",
      "[  32  377 5188   16   11]\n",
      "Actual:\n",
      "['CH' 'CU' 'FF' 'SI' 'SL']\n",
      "[ 757  939 3278   38  612]\n",
      "Train Accuracy:  0.5902746910836518\n",
      "Test Accuracy:  0.5892603129445235\n",
      "Predictions:\n",
      "['CH' 'CU' 'FF' 'SI' 'SL']\n",
      "[  30  350 5191   11   42]\n",
      "Actual:\n",
      "['CH' 'CU' 'FF' 'SI' 'SL']\n",
      "[ 758  938 3278   38  612]\n"
     ]
    }
   ],
   "source": [
    "# Game Situational Features: Regularized (17 features)\n",
    "mlp_game_sit_reg_models = []\n",
    "mlp_game_sit_reg_train_accs = []\n",
    "mlp_game_sit_reg_test_accs = []\n",
    "\n",
    "skf = StratifiedKFold(n_splits=5, shuffle=True, random_state=42)\n",
    "\n",
    "for train_index, test_index in skf.split(X_game_sit, y):\n",
    "    X_train, X_test = X_game_sit[train_index], X_game_sit[test_index]\n",
    "    y_train, y_test = y[train_index], y[test_index]\n",
    "    \n",
    "    scaler = MinMaxScaler()\n",
    "    scaled_X_train = scaler.fit_transform(X_train)\n",
    "    scaled_X_test = scaler.transform(X_test)\n",
    "    \n",
    "    model = MLPClassifier(hidden_layer_sizes=[50, 25, 10], \n",
    "                          learning_rate_init=0.0001, \n",
    "                          batch_size=100, \n",
    "                          max_iter=1000)\n",
    "    \n",
    "    model.fit(scaled_X_train, y_train)\n",
    "    \n",
    "    test_acc = model.score(scaled_X_test, y_test)\n",
    "    train_acc = model.score(scaled_X_train, y_train)\n",
    "    print(\"Train Accuracy: \", train_acc)\n",
    "    print(\"Test Accuracy: \", test_acc)\n",
    "    \n",
    "    print(\"Predictions:\")\n",
    "    print(np.unique(model.predict(scaled_X_test)))\n",
    "    print(np.unique(model.predict(scaled_X_test), return_counts=True)[1])\n",
    "    print(\"Actual:\")\n",
    "    print(np.unique(y_test))\n",
    "    print(np.unique(y_test, return_counts=True)[1])\n",
    "    \n",
    "    mlp_game_sit_reg_train_accs.append(train_acc)\n",
    "    mlp_game_sit_reg_test_accs.append(test_acc)\n",
    "    mlp_game_sit_reg_models.append(model)"
   ]
  },
  {
   "cell_type": "code",
   "execution_count": 9,
   "id": "91092123",
   "metadata": {
    "scrolled": true
   },
   "outputs": [
    {
     "name": "stdout",
     "output_type": "stream",
     "text": [
      "Train Accuracy:  0.7393874738854069\n",
      "Test Accuracy:  0.5235555555555556\n",
      "Predictions:\n",
      "['CH' 'CU' 'FF' 'SI' 'SL']\n",
      "[ 517  934 3723   30  421]\n",
      "Actual:\n",
      "['CH' 'CU' 'FF' 'SI' 'SL']\n",
      "[ 758  939 3277   38  613]\n"
     ]
    },
    {
     "name": "stderr",
     "output_type": "stream",
     "text": [
      "/opt/miniconda3/lib/python3.9/site-packages/sklearn/neural_network/_multilayer_perceptron.py:702: ConvergenceWarning: Stochastic Optimizer: Maximum iterations (1000) reached and the optimization hasn't converged yet.\n",
      "  warnings.warn(\n"
     ]
    },
    {
     "name": "stdout",
     "output_type": "stream",
     "text": [
      "Train Accuracy:  0.7331199715517625\n",
      "Test Accuracy:  0.5340444444444444\n",
      "Predictions:\n",
      "['CH' 'CU' 'FF' 'SI' 'SL']\n",
      "[ 455  943 3721   19  487]\n",
      "Actual:\n",
      "['CH' 'CU' 'FF' 'SI' 'SL']\n",
      "[ 757  939 3277   39  613]\n"
     ]
    },
    {
     "name": "stderr",
     "output_type": "stream",
     "text": [
      "/opt/miniconda3/lib/python3.9/site-packages/sklearn/neural_network/_multilayer_perceptron.py:702: ConvergenceWarning: Stochastic Optimizer: Maximum iterations (1000) reached and the optimization hasn't converged yet.\n",
      "  warnings.warn(\n"
     ]
    },
    {
     "name": "stdout",
     "output_type": "stream",
     "text": [
      "Train Accuracy:  0.7322873144279491\n",
      "Test Accuracy:  0.52649359886202\n",
      "Predictions:\n",
      "['CH' 'CU' 'FF' 'SI' 'SL']\n",
      "[ 496  962 3570   29  567]\n",
      "Actual:\n",
      "['CH' 'CU' 'FF' 'SI' 'SL']\n",
      "[ 757  939 3278   38  612]\n"
     ]
    },
    {
     "name": "stderr",
     "output_type": "stream",
     "text": [
      "/opt/miniconda3/lib/python3.9/site-packages/sklearn/neural_network/_multilayer_perceptron.py:702: ConvergenceWarning: Stochastic Optimizer: Maximum iterations (1000) reached and the optimization hasn't converged yet.\n",
      "  warnings.warn(\n"
     ]
    },
    {
     "name": "stdout",
     "output_type": "stream",
     "text": [
      "Train Accuracy:  0.7481998399857765\n",
      "Test Accuracy:  0.5280938833570412\n",
      "Predictions:\n",
      "['CH' 'CU' 'FF' 'SI' 'SL']\n",
      "[ 543  696 3774   28  583]\n",
      "Actual:\n",
      "['CH' 'CU' 'FF' 'SI' 'SL']\n",
      "[ 757  939 3278   38  612]\n",
      "Train Accuracy:  0.7470441817050405\n",
      "Test Accuracy:  0.5248933143669986\n",
      "Predictions:\n",
      "['CH' 'CU' 'FF' 'SI' 'SL']\n",
      "[ 479  919 3705   29  492]\n",
      "Actual:\n",
      "['CH' 'CU' 'FF' 'SI' 'SL']\n",
      "[ 758  938 3278   38  612]\n"
     ]
    },
    {
     "name": "stderr",
     "output_type": "stream",
     "text": [
      "/opt/miniconda3/lib/python3.9/site-packages/sklearn/neural_network/_multilayer_perceptron.py:702: ConvergenceWarning: Stochastic Optimizer: Maximum iterations (1000) reached and the optimization hasn't converged yet.\n",
      "  warnings.warn(\n"
     ]
    }
   ],
   "source": [
    "# All Features: Regularized (100 features)\n",
    "mlp_whole_reg_models = []\n",
    "mlp_whole_reg_train_accs = []\n",
    "mlp_whole_reg_test_accs = []\n",
    "\n",
    "skf = StratifiedKFold(n_splits=5, shuffle=True, random_state=42)\n",
    "\n",
    "for train_index, test_index in skf.split(X_whole, y):\n",
    "    X_train, X_test = X_whole[train_index], X_whole[test_index]\n",
    "    y_train, y_test = y[train_index], y[test_index]\n",
    "    \n",
    "    scaler = MinMaxScaler()\n",
    "    scaled_X_train = scaler.fit_transform(X_train)\n",
    "    scaled_X_test = scaler.transform(X_test)\n",
    "    \n",
    "    model = MLPClassifier(hidden_layer_sizes=[100, 50, 25], \n",
    "                          learning_rate_init=0.0001, \n",
    "                          batch_size=100, \n",
    "                          max_iter=1000)\n",
    "    \n",
    "    model.fit(scaled_X_train, y_train)\n",
    "    \n",
    "    test_acc = model.score(scaled_X_test, y_test)\n",
    "    train_acc = model.score(scaled_X_train, y_train)\n",
    "    print(\"Train Accuracy: \", train_acc)\n",
    "    print(\"Test Accuracy: \", test_acc)\n",
    "    \n",
    "    print(\"Predictions:\")\n",
    "    print(np.unique(model.predict(scaled_X_test)))\n",
    "    print(np.unique(model.predict(scaled_X_test), return_counts=True)[1])\n",
    "    print(\"Actual:\")\n",
    "    print(np.unique(y_test))\n",
    "    print(np.unique(y_test, return_counts=True)[1])\n",
    "    \n",
    "    mlp_whole_reg_train_accs.append(train_acc)\n",
    "    mlp_whole_reg_test_accs.append(test_acc)\n",
    "    mlp_whole_reg_models.append(model)"
   ]
  },
  {
   "cell_type": "code",
   "execution_count": 10,
   "id": "5b06c0b3",
   "metadata": {
    "scrolled": true
   },
   "outputs": [
    {
     "name": "stdout",
     "output_type": "stream",
     "text": [
      "PCA Reduced Dimensions:  (22497, 18)\n"
     ]
    },
    {
     "name": "stderr",
     "output_type": "stream",
     "text": [
      "/opt/miniconda3/lib/python3.9/site-packages/sklearn/neural_network/_multilayer_perceptron.py:702: ConvergenceWarning: Stochastic Optimizer: Maximum iterations (1000) reached and the optimization hasn't converged yet.\n",
      "  warnings.warn(\n"
     ]
    },
    {
     "name": "stdout",
     "output_type": "stream",
     "text": [
      "Train Accuracy:  0.6326176823576477\n",
      "Test Accuracy:  0.5482666666666667\n",
      "Predictions:\n",
      "['CH' 'CU' 'FF' 'SI' 'SL']\n",
      "[ 320  630 4312   14  349]\n",
      "Actual:\n",
      "['CH' 'CU' 'FF' 'SI' 'SL']\n",
      "[ 758  939 3277   38  613]\n",
      "PCA Reduced Dimensions:  (22497, 19)\n"
     ]
    },
    {
     "name": "stderr",
     "output_type": "stream",
     "text": [
      "/opt/miniconda3/lib/python3.9/site-packages/sklearn/neural_network/_multilayer_perceptron.py:702: ConvergenceWarning: Stochastic Optimizer: Maximum iterations (1000) reached and the optimization hasn't converged yet.\n",
      "  warnings.warn(\n"
     ]
    },
    {
     "name": "stdout",
     "output_type": "stream",
     "text": [
      "Train Accuracy:  0.6276392407876605\n",
      "Test Accuracy:  0.5569777777777778\n",
      "Predictions:\n",
      "['CH' 'CU' 'FF' 'SI' 'SL']\n",
      "[ 196  814 4355   17  243]\n",
      "Actual:\n",
      "['CH' 'CU' 'FF' 'SI' 'SL']\n",
      "[ 757  939 3277   39  613]\n",
      "PCA Reduced Dimensions:  (22498, 18)\n",
      "Train Accuracy:  0.6233887456662814\n",
      "Test Accuracy:  0.5665007112375533\n",
      "Predictions:\n",
      "['CH' 'CU' 'FF' 'SI' 'SL']\n",
      "[ 241  583 4438   22  340]\n",
      "Actual:\n",
      "['CH' 'CU' 'FF' 'SI' 'SL']\n",
      "[ 757  939 3278   38  612]\n",
      "PCA Reduced Dimensions:  (22498, 19)\n"
     ]
    },
    {
     "name": "stderr",
     "output_type": "stream",
     "text": [
      "/opt/miniconda3/lib/python3.9/site-packages/sklearn/neural_network/_multilayer_perceptron.py:702: ConvergenceWarning: Stochastic Optimizer: Maximum iterations (1000) reached and the optimization hasn't converged yet.\n",
      "  warnings.warn(\n"
     ]
    },
    {
     "name": "stdout",
     "output_type": "stream",
     "text": [
      "Train Accuracy:  0.6352120188461197\n",
      "Test Accuracy:  0.5417852062588905\n",
      "Predictions:\n",
      "['CH' 'CU' 'FF' 'SI' 'SL']\n",
      "[ 277  592 4394   23  338]\n",
      "Actual:\n",
      "['CH' 'CU' 'FF' 'SI' 'SL']\n",
      "[ 757  939 3278   38  612]\n",
      "PCA Reduced Dimensions:  (22498, 19)\n",
      "Train Accuracy:  0.6281891723708775\n",
      "Test Accuracy:  0.5533428165007113\n",
      "Predictions:\n",
      "['CH' 'CU' 'FF' 'SI' 'SL']\n",
      "[ 273  517 4442   16  376]\n",
      "Actual:\n",
      "['CH' 'CU' 'FF' 'SI' 'SL']\n",
      "[ 758  938 3278   38  612]\n"
     ]
    },
    {
     "name": "stderr",
     "output_type": "stream",
     "text": [
      "/opt/miniconda3/lib/python3.9/site-packages/sklearn/neural_network/_multilayer_perceptron.py:702: ConvergenceWarning: Stochastic Optimizer: Maximum iterations (1000) reached and the optimization hasn't converged yet.\n",
      "  warnings.warn(\n"
     ]
    }
   ],
   "source": [
    "# Without Recursive Features: PCA 95% (53 features)\n",
    "mlp_wo_recurse_pca_models = []\n",
    "mlp_wo_recurse_pca_train_accs = []\n",
    "mlp_wo_recurse_pca_test_accs = []\n",
    "\n",
    "skf = StratifiedKFold(n_splits=5, shuffle=True, random_state=42)\n",
    "\n",
    "for train_index, test_index in skf.split(X_wo_recurse, y):\n",
    "    X_train, X_test = X_wo_recurse[train_index], X_wo_recurse[test_index]\n",
    "    y_train, y_test = y[train_index], y[test_index]\n",
    "    \n",
    "    scaler = MinMaxScaler()\n",
    "    scaled_X_train = scaler.fit_transform(X_train)\n",
    "    scaled_X_test = scaler.transform(X_test)\n",
    "    \n",
    "    pca = PCA(n_components=0.95, svd_solver='full')\n",
    "    reduced_X_train = pca.fit_transform(scaled_X_train)\n",
    "    reduced_X_test = pca.transform(scaled_X_test)\n",
    "    \n",
    "    print(\"PCA Reduced Dimensions: \", reduced_X_train.shape)\n",
    "    \n",
    "    model = MLPClassifier(hidden_layer_sizes=[70, 35, 20], \n",
    "                          learning_rate_init=0.0001, \n",
    "                          batch_size=100, \n",
    "                          max_iter=1000)\n",
    "    \n",
    "    model.fit(reduced_X_train, y_train)\n",
    "    \n",
    "    test_acc = model.score(reduced_X_test, y_test)\n",
    "    train_acc = model.score(reduced_X_train, y_train)\n",
    "    print(\"Train Accuracy: \", train_acc)\n",
    "    print(\"Test Accuracy: \", test_acc)\n",
    "    \n",
    "    print(\"Predictions:\")\n",
    "    print(np.unique(model.predict(reduced_X_test)))\n",
    "    print(np.unique(model.predict(reduced_X_test), return_counts=True)[1])\n",
    "    print(\"Actual:\")\n",
    "    print(np.unique(y_test))\n",
    "    print(np.unique(y_test, return_counts=True)[1])\n",
    "    \n",
    "    mlp_wo_recurse_pca_train_accs.append(train_acc)\n",
    "    mlp_wo_recurse_pca_test_accs.append(test_acc)\n",
    "    mlp_wo_recurse_pca_models.append(model)"
   ]
  },
  {
   "cell_type": "code",
   "execution_count": 22,
   "id": "f3facefa",
   "metadata": {},
   "outputs": [
    {
     "data": {
      "text/plain": [
       "(28122, 53)"
      ]
     },
     "execution_count": 22,
     "metadata": {},
     "output_type": "execute_result"
    }
   ],
   "source": [
    "X_wo_recurse.shape"
   ]
  },
  {
   "cell_type": "code",
   "execution_count": 11,
   "id": "d48d534c",
   "metadata": {},
   "outputs": [
    {
     "name": "stdout",
     "output_type": "stream",
     "text": [
      "PCA Reduced Dimensions:  (22497, 12)\n",
      "Train Accuracy:  0.5952793705827444\n",
      "Test Accuracy:  0.5813333333333334\n",
      "Predictions:\n",
      "['CH' 'CU' 'FF' 'SI' 'SL']\n",
      "[  27  498 5088    8    4]\n",
      "Actual:\n",
      "['CH' 'CU' 'FF' 'SI' 'SL']\n",
      "[ 758  939 3277   38  613]\n",
      "PCA Reduced Dimensions:  (22497, 12)\n",
      "Train Accuracy:  0.5912788371782904\n",
      "Test Accuracy:  0.5832888888888889\n",
      "Predictions:\n",
      "['CH' 'CU' 'FF' 'SI' 'SL']\n",
      "[   8  426 5174   12    5]\n",
      "Actual:\n",
      "['CH' 'CU' 'FF' 'SI' 'SL']\n",
      "[ 757  939 3277   39  613]\n",
      "PCA Reduced Dimensions:  (22498, 12)\n",
      "Train Accuracy:  0.590185794292826\n",
      "Test Accuracy:  0.5796586059743954\n",
      "Predictions:\n",
      "['CU' 'FF' 'SI']\n",
      "[ 359 5255   10]\n",
      "Actual:\n",
      "['CH' 'CU' 'FF' 'SI' 'SL']\n",
      "[ 757  939 3278   38  612]\n",
      "PCA Reduced Dimensions:  (22498, 12)\n",
      "Train Accuracy:  0.594363943461641\n",
      "Test Accuracy:  0.5828591749644382\n",
      "Predictions:\n",
      "['CH' 'CU' 'FF' 'SI' 'SL']\n",
      "[   8  414 5164    7   31]\n",
      "Actual:\n",
      "['CH' 'CU' 'FF' 'SI' 'SL']\n",
      "[ 757  939 3278   38  612]\n",
      "PCA Reduced Dimensions:  (22498, 12)\n",
      "Train Accuracy:  0.5912081073873233\n",
      "Test Accuracy:  0.585348506401138\n",
      "Predictions:\n",
      "['CH' 'CU' 'FF' 'SI' 'SL']\n",
      "[  40  383 5166   12   23]\n",
      "Actual:\n",
      "['CH' 'CU' 'FF' 'SI' 'SL']\n",
      "[ 758  938 3278   38  612]\n"
     ]
    }
   ],
   "source": [
    "# Game Situational Features: PCA 95% (17 features)\n",
    "mlp_game_sit_pca_models = []\n",
    "mlp_game_sit_pca_train_accs = []\n",
    "mlp_game_sit_pca_test_accs = []\n",
    "\n",
    "skf = StratifiedKFold(n_splits=5, shuffle=True, random_state=42)\n",
    "\n",
    "for train_index, test_index in skf.split(X_game_sit, y):\n",
    "    X_train, X_test = X_game_sit[train_index], X_game_sit[test_index]\n",
    "    y_train, y_test = y[train_index], y[test_index]\n",
    "    \n",
    "    scaler = MinMaxScaler()\n",
    "    scaled_X_train = scaler.fit_transform(X_train)\n",
    "    scaled_X_test = scaler.transform(X_test)\n",
    "    \n",
    "    pca = PCA(n_components=0.95, svd_solver='full')\n",
    "    reduced_X_train = pca.fit_transform(scaled_X_train)\n",
    "    reduced_X_test = pca.transform(scaled_X_test)\n",
    "    \n",
    "    print(\"PCA Reduced Dimensions: \", reduced_X_train.shape)\n",
    "    \n",
    "    model = MLPClassifier(hidden_layer_sizes=[50, 25, 10], \n",
    "                          learning_rate_init=0.0001, \n",
    "                          batch_size=100, \n",
    "                          max_iter=1000)\n",
    "    \n",
    "    model.fit(reduced_X_train, y_train)\n",
    "    \n",
    "    test_acc = model.score(reduced_X_test, y_test)\n",
    "    train_acc = model.score(reduced_X_train, y_train)\n",
    "    print(\"Train Accuracy: \", train_acc)\n",
    "    print(\"Test Accuracy: \", test_acc)\n",
    "    \n",
    "    print(\"Predictions:\")\n",
    "    print(np.unique(model.predict(reduced_X_test)))\n",
    "    print(np.unique(model.predict(reduced_X_test), return_counts=True)[1])\n",
    "    print(\"Actual:\")\n",
    "    print(np.unique(y_test))\n",
    "    print(np.unique(y_test, return_counts=True)[1])\n",
    "    \n",
    "    mlp_game_sit_pca_train_accs.append(train_acc)\n",
    "    mlp_game_sit_pca_test_accs.append(test_acc)\n",
    "    mlp_game_sit_pca_models.append(model)"
   ]
  },
  {
   "cell_type": "code",
   "execution_count": 12,
   "id": "65f09467",
   "metadata": {
    "scrolled": true
   },
   "outputs": [
    {
     "name": "stdout",
     "output_type": "stream",
     "text": [
      "PCA Reduced Dimensions:  (22497, 35)\n"
     ]
    },
    {
     "name": "stderr",
     "output_type": "stream",
     "text": [
      "/opt/miniconda3/lib/python3.9/site-packages/sklearn/neural_network/_multilayer_perceptron.py:702: ConvergenceWarning: Stochastic Optimizer: Maximum iterations (1000) reached and the optimization hasn't converged yet.\n",
      "  warnings.warn(\n"
     ]
    },
    {
     "name": "stdout",
     "output_type": "stream",
     "text": [
      "Train Accuracy:  0.748144197004045\n",
      "Test Accuracy:  0.5121777777777777\n",
      "Predictions:\n",
      "['CH' 'CU' 'FF' 'SI' 'SL']\n",
      "[ 556  955 3444   30  640]\n",
      "Actual:\n",
      "['CH' 'CU' 'FF' 'SI' 'SL']\n",
      "[ 758  939 3277   38  613]\n",
      "PCA Reduced Dimensions:  (22497, 35)\n"
     ]
    },
    {
     "name": "stderr",
     "output_type": "stream",
     "text": [
      "/opt/miniconda3/lib/python3.9/site-packages/sklearn/neural_network/_multilayer_perceptron.py:702: ConvergenceWarning: Stochastic Optimizer: Maximum iterations (1000) reached and the optimization hasn't converged yet.\n",
      "  warnings.warn(\n"
     ]
    },
    {
     "name": "stdout",
     "output_type": "stream",
     "text": [
      "Train Accuracy:  0.7563675156687558\n",
      "Test Accuracy:  0.5127111111111111\n",
      "Predictions:\n",
      "['CH' 'CU' 'FF' 'SI' 'SL']\n",
      "[ 518  980 3527   23  577]\n",
      "Actual:\n",
      "['CH' 'CU' 'FF' 'SI' 'SL']\n",
      "[ 757  939 3277   39  613]\n",
      "PCA Reduced Dimensions:  (22498, 35)\n"
     ]
    },
    {
     "name": "stderr",
     "output_type": "stream",
     "text": [
      "/opt/miniconda3/lib/python3.9/site-packages/sklearn/neural_network/_multilayer_perceptron.py:702: ConvergenceWarning: Stochastic Optimizer: Maximum iterations (1000) reached and the optimization hasn't converged yet.\n",
      "  warnings.warn(\n"
     ]
    },
    {
     "name": "stdout",
     "output_type": "stream",
     "text": [
      "Train Accuracy:  0.7486887723353187\n",
      "Test Accuracy:  0.5181365576102418\n",
      "Predictions:\n",
      "['CH' 'CU' 'FF' 'SI' 'SL']\n",
      "[ 477  995 3565   32  555]\n",
      "Actual:\n",
      "['CH' 'CU' 'FF' 'SI' 'SL']\n",
      "[ 757  939 3278   38  612]\n",
      "PCA Reduced Dimensions:  (22498, 35)\n"
     ]
    },
    {
     "name": "stderr",
     "output_type": "stream",
     "text": [
      "/opt/miniconda3/lib/python3.9/site-packages/sklearn/neural_network/_multilayer_perceptron.py:702: ConvergenceWarning: Stochastic Optimizer: Maximum iterations (1000) reached and the optimization hasn't converged yet.\n",
      "  warnings.warn(\n"
     ]
    },
    {
     "name": "stdout",
     "output_type": "stream",
     "text": [
      "Train Accuracy:  0.7477998044270602\n",
      "Test Accuracy:  0.5181365576102418\n",
      "Predictions:\n",
      "['CH' 'CU' 'FF' 'SI' 'SL']\n",
      "[ 551  781 3746   24  522]\n",
      "Actual:\n",
      "['CH' 'CU' 'FF' 'SI' 'SL']\n",
      "[ 757  939 3278   38  612]\n",
      "PCA Reduced Dimensions:  (22498, 35)\n",
      "Train Accuracy:  0.7445995199573295\n",
      "Test Accuracy:  0.5280938833570412\n",
      "Predictions:\n",
      "['CH' 'CU' 'FF' 'SI' 'SL']\n",
      "[ 558  932 3699   28  407]\n",
      "Actual:\n",
      "['CH' 'CU' 'FF' 'SI' 'SL']\n",
      "[ 758  938 3278   38  612]\n"
     ]
    },
    {
     "name": "stderr",
     "output_type": "stream",
     "text": [
      "/opt/miniconda3/lib/python3.9/site-packages/sklearn/neural_network/_multilayer_perceptron.py:702: ConvergenceWarning: Stochastic Optimizer: Maximum iterations (1000) reached and the optimization hasn't converged yet.\n",
      "  warnings.warn(\n"
     ]
    }
   ],
   "source": [
    "# All Features: PCA 95% (100 features)\n",
    "mlp_whole_pca_models = []\n",
    "mlp_whole_pca_train_accs = []\n",
    "mlp_whole_pca_test_accs = []\n",
    "\n",
    "skf = StratifiedKFold(n_splits=5, shuffle=True, random_state=42)\n",
    "\n",
    "for train_index, test_index in skf.split(X_whole, y):\n",
    "    X_train, X_test = X_whole[train_index], X_whole[test_index]\n",
    "    y_train, y_test = y[train_index], y[test_index]\n",
    "    \n",
    "    scaler = MinMaxScaler()\n",
    "    scaled_X_train = scaler.fit_transform(X_train)\n",
    "    scaled_X_test = scaler.transform(X_test)\n",
    "    \n",
    "    pca = PCA(n_components=0.95, svd_solver='full')\n",
    "    reduced_X_train = pca.fit_transform(scaled_X_train)\n",
    "    reduced_X_test = pca.transform(scaled_X_test)\n",
    "    \n",
    "    print(\"PCA Reduced Dimensions: \", reduced_X_train.shape)\n",
    "    \n",
    "    model = MLPClassifier(hidden_layer_sizes=[100, 50, 25], \n",
    "                          learning_rate_init=0.0001, \n",
    "                          batch_size=100, \n",
    "                          max_iter=1000)\n",
    "\n",
    "    model.fit(reduced_X_train, y_train)\n",
    "    \n",
    "    test_acc = model.score(reduced_X_test, y_test)\n",
    "    train_acc = model.score(reduced_X_train, y_train)\n",
    "    print(\"Train Accuracy: \", train_acc)\n",
    "    print(\"Test Accuracy: \", test_acc)\n",
    "    \n",
    "    print(\"Predictions:\")\n",
    "    print(np.unique(model.predict(reduced_X_test)))\n",
    "    print(np.unique(model.predict(reduced_X_test), return_counts=True)[1])\n",
    "    print(\"Actual:\")\n",
    "    print(np.unique(y_test))\n",
    "    print(np.unique(y_test, return_counts=True)[1])\n",
    "    \n",
    "    mlp_whole_pca_train_accs.append(train_acc)\n",
    "    mlp_whole_pca_test_accs.append(test_acc)\n",
    "    mlp_whole_pca_models.append(model)"
   ]
  },
  {
   "cell_type": "markdown",
   "id": "56c57915",
   "metadata": {},
   "source": [
    "## Ensemble"
   ]
  },
  {
   "cell_type": "code",
   "execution_count": 15,
   "id": "d0422b0e",
   "metadata": {},
   "outputs": [],
   "source": [
    "from sklearn.linear_model import LogisticRegression"
   ]
  },
  {
   "cell_type": "code",
   "execution_count": 20,
   "id": "a635dbfc",
   "metadata": {
    "scrolled": true
   },
   "outputs": [
    {
     "name": "stdout",
     "output_type": "stream",
     "text": [
      "Train Accuracy:  0.6299062097168512\n",
      "Test Accuracy:  0.5683555555555555 \n",
      "\n",
      "Predictions:\n",
      "['CH' 'CU' 'FF' 'SI' 'SL']\n",
      "[ 205  597 4549   16  258] \n",
      "\n",
      "Actual:\n",
      "['CH' 'CU' 'FF' 'SI' 'SL']\n",
      "[ 758  939 3277   38  613] \n",
      "\n",
      "Train Accuracy:  0.6282170956127484\n",
      "Test Accuracy:  0.5733333333333334 \n",
      "\n",
      "Predictions:\n",
      "['CH' 'CU' 'FF' 'SI' 'SL']\n",
      "[ 197  680 4605   16  127] \n",
      "\n",
      "Actual:\n",
      "['CH' 'CU' 'FF' 'SI' 'SL']\n",
      "[ 757  939 3277   39  613] \n",
      "\n",
      "Train Accuracy:  0.6263667881589474\n",
      "Test Accuracy:  0.5737908961593172 \n",
      "\n",
      "Predictions:\n",
      "['CH' 'CU' 'FF' 'SI' 'SL']\n",
      "[ 197  457 4704   21  245] \n",
      "\n",
      "Actual:\n",
      "['CH' 'CU' 'FF' 'SI' 'SL']\n",
      "[ 757  939 3278   38  612] \n",
      "\n",
      "Train Accuracy:  0.6291225886745488\n",
      "Test Accuracy:  0.5720128022759602 \n",
      "\n",
      "Predictions:\n",
      "['CH' 'CU' 'FF' 'SI' 'SL']\n",
      "[ 178  532 4720   17  177] \n",
      "\n",
      "Actual:\n",
      "['CH' 'CU' 'FF' 'SI' 'SL']\n",
      "[ 757  939 3278   38  612] \n",
      "\n",
      "Train Accuracy:  0.629611521024091\n",
      "Test Accuracy:  0.5825035561877667 \n",
      "\n",
      "Predictions:\n",
      "['CH' 'CU' 'FF' 'SI' 'SL']\n",
      "[ 179  453 4755   17  220] \n",
      "\n",
      "Actual:\n",
      "['CH' 'CU' 'FF' 'SI' 'SL']\n",
      "[ 758  938 3278   38  612] \n",
      "\n"
     ]
    }
   ],
   "source": [
    "# Ensemble of MLP models\n",
    "ensemble_models = []\n",
    "ensemble_train_accs = []\n",
    "ensemble_test_accs = []\n",
    "\n",
    "skf = StratifiedKFold(n_splits=5, shuffle=True, random_state=42)\n",
    "\n",
    "for fold, (train_index, test_index) in enumerate(skf.split(X_wo_recurse, y)):\n",
    "    X_train, X_test = X_wo_recurse[train_index], X_wo_recurse[test_index]\n",
    "    y_train, y_test = y[train_index], y[test_index]\n",
    "    \n",
    "    scaler = MinMaxScaler()\n",
    "    scaled_X_train = scaler.fit_transform(X_train)\n",
    "    scaled_X_test = scaler.transform(X_test)\n",
    "    \n",
    "    pca = PCA(n_components=0.95, svd_solver='full')\n",
    "    reduced_X_train = pca.fit_transform(scaled_X_train)\n",
    "    reduced_X_test = pca.transform(scaled_X_test)\n",
    "    \n",
    "    mlp_pca_model = mlp_wo_recurse_pca_models[fold]\n",
    "    mlp_stdz_model = mlp_wo_recurse_reg_models[fold]\n",
    "    mlp_model = mlp_wo_recurse_models[fold]\n",
    "\n",
    "    pca_mod_probs_train = mlp_pca_model.predict(reduced_X_train)\n",
    "    stdz_mod_probs_train = mlp_stdz_model.predict(scaled_X_train)\n",
    "    mod_probs_train = mlp_model.predict(X_train)\n",
    "    \n",
    "    pca_mod_probs_test = mlp_pca_model.predict(reduced_X_test)\n",
    "    stdz_mod_probs_test = mlp_stdz_model.predict(scaled_X_test)\n",
    "    mod_probs_test = mlp_model.predict(X_test)\n",
    "    \n",
    "#     print(\"Agreement PCA-STDZ: \", np.mean(pca_mod_probs_test == stdz_mod_probs_test))\n",
    "#     print(\"Agreement PCA-REGULAR: \", np.mean(pca_mod_probs_test == mod_probs_test))\n",
    "#     print(\"Agreement STDZ-REGULAR: \", np.mean(stdz_mod_probs_test == mod_probs_test))\n",
    "    \n",
    "    model_prob_votes_train = np.hstack([pca_mod_probs_train.reshape(-1, 1), stdz_mod_probs_train.reshape(-1, 1), mod_probs_train.reshape(-1, 1)])\n",
    "    model_prob_votes_test = np.hstack([pca_mod_probs_test.reshape(-1, 1), stdz_mod_probs_test.reshape(-1, 1), mod_probs_test.reshape(-1, 1)])\n",
    "    \n",
    "    train_pred = []\n",
    "    for votes in model_prob_votes_train:\n",
    "        values, counts = np.unique(votes, return_counts=True)\n",
    "        train_pred.append(values[np.argmax(counts)])\n",
    "    train_pred = np.array(train_pred)\n",
    "    \n",
    "    test_pred = []\n",
    "    for votes in model_prob_votes_test:\n",
    "        values, counts = np.unique(votes, return_counts=True)\n",
    "        test_pred.append(values[np.argmax(counts)])\n",
    "    test_pred = np.array(test_pred)\n",
    "    \n",
    "    train_acc = np.mean(train_pred == y_train)\n",
    "    test_acc = np.mean(test_pred == y_test)\n",
    "    print(\"Train Accuracy: \", train_acc)\n",
    "    print(\"Test Accuracy: \", test_acc, \"\\n\")\n",
    "    \n",
    "    print(\"Predictions:\")\n",
    "    print(np.unique(test_pred))\n",
    "    print(np.unique(test_pred, return_counts=True)[1], \"\\n\")\n",
    "    print(\"Actual:\")\n",
    "    print(np.unique(y_test))\n",
    "    print(np.unique(y_test, return_counts=True)[1], \"\\n\")"
   ]
  },
  {
   "cell_type": "code",
   "execution_count": 21,
   "id": "286b6e3f",
   "metadata": {},
   "outputs": [
    {
     "name": "stdout",
     "output_type": "stream",
     "text": [
      "0.7639748456025308 \t 0.5249626742532005\n",
      "0.6188482115767172 \t 0.5652515062430853\n",
      "0.593467741155701 \t 0.5826399620673305\n",
      "0.7400077563111871 \t 0.5274161593172119\n",
      "0.6107495977585191 \t 0.5685230851904536\n",
      "0.5913964289380285 \t 0.5839558147621305\n",
      "0.7491199618785018 \t 0.5178511774932828\n",
      "0.6294093720057173 \t 0.5533746356883199\n",
      "0.5924632105805651 \t 0.5824977019124388\n"
     ]
    }
   ],
   "source": [
    "print(np.mean(mlp_whole_train_accs), \"\\t\", np.mean(mlp_whole_test_accs))\n",
    "\n",
    "print(np.mean(mlp_wo_recurse_train_accs), \"\\t\", np.mean(mlp_wo_recurse_test_accs))\n",
    "\n",
    "print(np.mean(mlp_game_sit_train_accs), \"\\t\", np.mean(mlp_game_sit_test_accs))\n",
    "\n",
    "print(np.mean(mlp_whole_reg_train_accs), \"\\t\", np.mean(mlp_whole_reg_test_accs))\n",
    "\n",
    "print(np.mean(mlp_wo_recurse_reg_train_accs), \"\\t\", np.mean(mlp_wo_recurse_reg_test_accs))\n",
    "\n",
    "print(np.mean(mlp_game_sit_reg_train_accs), \"\\t\", np.mean(mlp_game_sit_reg_test_accs))\n",
    "\n",
    "print(np.mean(mlp_whole_pca_train_accs), \"\\t\", np.mean(mlp_whole_pca_test_accs))\n",
    "\n",
    "print(np.mean(mlp_wo_recurse_pca_train_accs), \"\\t\", np.mean(mlp_wo_recurse_pca_test_accs))\n",
    "\n",
    "print(np.mean(mlp_game_sit_pca_train_accs), \"\\t\", np.mean(mlp_game_sit_pca_test_accs))"
   ]
  }
 ],
 "metadata": {
  "kernelspec": {
   "display_name": "Python 3 (ipykernel)",
   "language": "python",
   "name": "python3"
  },
  "language_info": {
   "codemirror_mode": {
    "name": "ipython",
    "version": 3
   },
   "file_extension": ".py",
   "mimetype": "text/x-python",
   "name": "python",
   "nbconvert_exporter": "python",
   "pygments_lexer": "ipython3",
   "version": "3.9.12"
  }
 },
 "nbformat": 4,
 "nbformat_minor": 5
}
