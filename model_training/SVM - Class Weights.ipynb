{
 "cells": [
  {
   "cell_type": "code",
   "execution_count": 1,
   "id": "ca5c8b57",
   "metadata": {},
   "outputs": [],
   "source": [
    "# Libraries\n",
    "import numpy as np\n",
    "import pandas as pd\n",
    "from sklearn.svm import LinearSVC\n",
    "from sklearn.model_selection import StratifiedKFold, GridSearchCV\n",
    "from sklearn.preprocessing import MinMaxScaler\n",
    "from sklearn.decomposition import PCA"
   ]
  },
  {
   "cell_type": "code",
   "execution_count": 2,
   "id": "13371c48",
   "metadata": {},
   "outputs": [],
   "source": [
    "# Constants\n",
    "game_sit_feat = ['month', 'year', 'inning', 'inning_topbot', \n",
    "                 'outs', 'strikes', 'balls', 'pitch_number', \n",
    "                 'on_1b', 'on_2b', 'on_3b', 'score_diff', \n",
    "                 'of_std', 'of_strat', 'if_std', 'if_strat', 'if_shift']\n",
    "wo_recursive_feat = game_sit_feat + ['Pitcher_Tend_FF', 'Pitcher_Tend_CU', 'Pitcher_Tend_CH', 'Pitcher_Tend_SL', 'Pitcher_Tend_SI', \n",
    "                                     'Pitcher_Strike_Tend_FF', 'Pitcher_Strike_Tend_CU', 'Pitcher_Strike_Tend_CH', 'Pitcher_Strike_Tend_SL', 'Pitcher_Strike_Tend_SI', \n",
    "                                     'batter_stance', 'Strike_Tend_FF', 'Strike_Tend_CU', 'Strike_Tend_CH', 'Strike_Tend_SL', 'Strike_Tend_SI', 'Overall_Strike_Tend', \n",
    "                                     'Slug_Avg_FF', 'Slug_Avg_CU', 'Slug_Avg_CH', 'Slug_Avg_SL', 'Slug_Avg_SI', 'Overall_Slug_Avg', \n",
    "                                     'Zone_1_Strike_Pcnt', 'Zone_2_Strike_Pcnt', 'Zone_3_Strike_Pcnt', 'Zone_4_Strike_Pcnt', 'Zone_5_Strike_Pcnt', 'Zone_6_Strike_Pcnt', 'Zone_7_Strike_Pcnt', 'Zone_8_Strike_Pcnt', 'Zone_9_Strike_Pcnt', 'Zone_11_Strike_Pcnt', 'Zone_12_Strike_Pcnt', 'Zone_13_Strike_Pcnt', 'Zone_14_Strike_Pcnt']"
   ]
  },
  {
   "cell_type": "code",
   "execution_count": 3,
   "id": "6758248f",
   "metadata": {},
   "outputs": [],
   "source": [
    "# Import the data\n",
    "X_whole = pd.read_csv(\"../data/VerlanderOnly_X_train.csv\").to_numpy()\n",
    "y = pd.read_csv(\"../data/VerlanderOnly_y_train.csv\").to_numpy().T[0]\n",
    "\n",
    "verlander_cols = np.array(pd.read_csv(\"../data/VerlanderOnlyDataset.csv\", index_col=0).columns)\n",
    "game_sit_cols = np.where(np.isin(verlander_cols, game_sit_feat))[0] - 1\n",
    "wo_recursive_cols = np.where(np.isin(verlander_cols, wo_recursive_feat))[0] - 1\n",
    "\n",
    "X_game_sit = X_whole[:, game_sit_cols]\n",
    "X_wo_recurse = X_whole[:, wo_recursive_cols]"
   ]
  },
  {
   "cell_type": "markdown",
   "id": "63dd2bc3",
   "metadata": {},
   "source": [
    "## Non-Regularized"
   ]
  },
  {
   "cell_type": "code",
   "execution_count": 4,
   "id": "4e7d5e01",
   "metadata": {
    "scrolled": true
   },
   "outputs": [
    {
     "name": "stderr",
     "output_type": "stream",
     "text": [
      "/opt/miniconda3/lib/python3.9/site-packages/sklearn/svm/_base.py:1225: ConvergenceWarning: Liblinear failed to converge, increase the number of iterations.\n",
      "  warnings.warn(\n"
     ]
    },
    {
     "name": "stdout",
     "output_type": "stream",
     "text": [
      "Train Accuracy:  0.5123794283682269\n",
      "Test Accuracy:  0.5088\n",
      "Predictions:\n",
      "['CH' 'CU' 'FF' 'SI' 'SL']\n",
      "[ 215  927 3295   46 1142] \n",
      "\n",
      "Actual:\n",
      "['CH' 'CU' 'FF' 'SI' 'SL']\n",
      "[ 758  939 3277   38  613] \n",
      "\n"
     ]
    },
    {
     "name": "stderr",
     "output_type": "stream",
     "text": [
      "/opt/miniconda3/lib/python3.9/site-packages/sklearn/svm/_base.py:1225: ConvergenceWarning: Liblinear failed to converge, increase the number of iterations.\n",
      "  warnings.warn(\n"
     ]
    },
    {
     "name": "stdout",
     "output_type": "stream",
     "text": [
      "Train Accuracy:  0.522025158910077\n",
      "Test Accuracy:  0.5162666666666667\n",
      "Predictions:\n",
      "['CH' 'CU' 'FF' 'SI' 'SL']\n",
      "[ 266  928 3496   85  850] \n",
      "\n",
      "Actual:\n",
      "['CH' 'CU' 'FF' 'SI' 'SL']\n",
      "[ 757  939 3277   39  613] \n",
      "\n"
     ]
    },
    {
     "name": "stderr",
     "output_type": "stream",
     "text": [
      "/opt/miniconda3/lib/python3.9/site-packages/sklearn/svm/_base.py:1225: ConvergenceWarning: Liblinear failed to converge, increase the number of iterations.\n",
      "  warnings.warn(\n"
     ]
    },
    {
     "name": "stdout",
     "output_type": "stream",
     "text": [
      "Train Accuracy:  0.5181793937238865\n",
      "Test Accuracy:  0.5023115220483642\n",
      "Predictions:\n",
      "['CH' 'CU' 'FF' 'SI' 'SL']\n",
      "[ 367  827 3352   91  987] \n",
      "\n",
      "Actual:\n",
      "['CH' 'CU' 'FF' 'SI' 'SL']\n",
      "[ 757  939 3278   38  612] \n",
      "\n"
     ]
    },
    {
     "name": "stderr",
     "output_type": "stream",
     "text": [
      "/opt/miniconda3/lib/python3.9/site-packages/sklearn/svm/_base.py:1225: ConvergenceWarning: Liblinear failed to converge, increase the number of iterations.\n",
      "  warnings.warn(\n"
     ]
    },
    {
     "name": "stdout",
     "output_type": "stream",
     "text": [
      "Train Accuracy:  0.5237354431505022\n",
      "Test Accuracy:  0.5229374110953058\n",
      "Predictions:\n",
      "['CH' 'CU' 'FF' 'SI' 'SL']\n",
      "[ 227  923 3599   93  782] \n",
      "\n",
      "Actual:\n",
      "['CH' 'CU' 'FF' 'SI' 'SL']\n",
      "[ 757  939 3278   38  612] \n",
      "\n",
      "Train Accuracy:  0.5092008178504756\n",
      "Test Accuracy:  0.5096017069701281\n",
      "Predictions:\n",
      "['CH' 'CU' 'FF' 'SI' 'SL']\n",
      "[ 324  864 3277   91 1068] \n",
      "\n",
      "Actual:\n",
      "['CH' 'CU' 'FF' 'SI' 'SL']\n",
      "[ 758  938 3278   38  612] \n",
      "\n"
     ]
    },
    {
     "name": "stderr",
     "output_type": "stream",
     "text": [
      "/opt/miniconda3/lib/python3.9/site-packages/sklearn/svm/_base.py:1225: ConvergenceWarning: Liblinear failed to converge, increase the number of iterations.\n",
      "  warnings.warn(\n"
     ]
    }
   ],
   "source": [
    "# Linear SVM - Without Recursive Features: Non-regularized (53 features)\n",
    "svm_wo_recurse_models = []\n",
    "svm_wo_recurse_train_accs = []\n",
    "svm_wo_recurse_test_accs = []\n",
    "\n",
    "skf = StratifiedKFold(n_splits=5, shuffle=True, random_state=42)\n",
    "\n",
    "for train_index, test_index in skf.split(X_wo_recurse, y):\n",
    "    X_train, X_test = X_wo_recurse[train_index], X_wo_recurse[test_index]\n",
    "    y_train, y_test = y[train_index], y[test_index]\n",
    "    \n",
    "    classes, class_counts = np.unique(y_train, return_counts=True)\n",
    "    class_weights = dict(zip(classes, len(y_train) / (len(classes) * class_counts)))\n",
    "    \n",
    "    model = LinearSVC(max_iter=1000, class_weight=class_weights)\n",
    "    \n",
    "    model.fit(X_train, y_train)\n",
    "    \n",
    "    test_acc = model.score(X_test, y_test)\n",
    "    train_acc = model.score(X_train, y_train)\n",
    "    print(\"Train Accuracy: \", train_acc)\n",
    "    print(\"Test Accuracy: \", test_acc)\n",
    "    \n",
    "    print(\"Predictions:\")\n",
    "    print(np.unique(model.predict(X_test)))\n",
    "    print(np.unique(model.predict(X_test), return_counts=True)[1], \"\\n\")\n",
    "    print(\"Actual:\")\n",
    "    print(np.unique(y_test))\n",
    "    print(np.unique(y_test, return_counts=True)[1], \"\\n\")\n",
    "    \n",
    "    svm_wo_recurse_train_accs.append(train_acc)\n",
    "    svm_wo_recurse_test_accs.append(test_acc)\n",
    "    svm_wo_recurse_models.append(model)"
   ]
  },
  {
   "cell_type": "code",
   "execution_count": 5,
   "id": "c3728766",
   "metadata": {},
   "outputs": [
    {
     "name": "stderr",
     "output_type": "stream",
     "text": [
      "/opt/miniconda3/lib/python3.9/site-packages/sklearn/svm/_base.py:1225: ConvergenceWarning: Liblinear failed to converge, increase the number of iterations.\n",
      "  warnings.warn(\n"
     ]
    },
    {
     "name": "stdout",
     "output_type": "stream",
     "text": [
      "Train Accuracy:  0.5440280926345735\n",
      "Test Accuracy:  0.5415111111111112\n",
      "Predictions:\n",
      "['CH' 'CU' 'FF' 'SI' 'SL']\n",
      "[   4 1310 4011   81  219] \n",
      "\n",
      "Actual:\n",
      "['CH' 'CU' 'FF' 'SI' 'SL']\n",
      "[ 758  939 3277   38  613] \n",
      "\n"
     ]
    },
    {
     "name": "stderr",
     "output_type": "stream",
     "text": [
      "/opt/miniconda3/lib/python3.9/site-packages/sklearn/svm/_base.py:1225: ConvergenceWarning: Liblinear failed to converge, increase the number of iterations.\n",
      "  warnings.warn(\n"
     ]
    },
    {
     "name": "stdout",
     "output_type": "stream",
     "text": [
      "Train Accuracy:  0.5435391385518069\n",
      "Test Accuracy:  0.5416888888888889\n",
      "Predictions:\n",
      "['CH' 'CU' 'FF' 'SI' 'SL']\n",
      "[   8 1344 3993   35  245] \n",
      "\n",
      "Actual:\n",
      "['CH' 'CU' 'FF' 'SI' 'SL']\n",
      "[ 757  939 3277   39  613] \n",
      "\n"
     ]
    },
    {
     "name": "stderr",
     "output_type": "stream",
     "text": [
      "/opt/miniconda3/lib/python3.9/site-packages/sklearn/svm/_base.py:1225: ConvergenceWarning: Liblinear failed to converge, increase the number of iterations.\n",
      "  warnings.warn(\n"
     ]
    },
    {
     "name": "stdout",
     "output_type": "stream",
     "text": [
      "Train Accuracy:  0.5382700684505289\n",
      "Test Accuracy:  0.5229374110953058\n",
      "Predictions:\n",
      "['CH' 'CU' 'FF' 'SI' 'SL']\n",
      "[   2 1140 3863   15  604] \n",
      "\n",
      "Actual:\n",
      "['CH' 'CU' 'FF' 'SI' 'SL']\n",
      "[ 757  939 3278   38  612] \n",
      "\n"
     ]
    },
    {
     "name": "stderr",
     "output_type": "stream",
     "text": [
      "/opt/miniconda3/lib/python3.9/site-packages/sklearn/svm/_base.py:1225: ConvergenceWarning: Liblinear failed to converge, increase the number of iterations.\n",
      "  warnings.warn(\n"
     ]
    },
    {
     "name": "stdout",
     "output_type": "stream",
     "text": [
      "Train Accuracy:  0.5313361187661125\n",
      "Test Accuracy:  0.5398293029871978\n",
      "Predictions:\n",
      "['CH' 'CU' 'FF' 'SI' 'SL']\n",
      "[   3 1467 3871   64  219] \n",
      "\n",
      "Actual:\n",
      "['CH' 'CU' 'FF' 'SI' 'SL']\n",
      "[ 757  939 3278   38  612] \n",
      "\n",
      "Train Accuracy:  0.5438261178771446\n",
      "Test Accuracy:  0.5526315789473685\n",
      "Predictions:\n",
      "['CH' 'CU' 'FF' 'SI' 'SL']\n",
      "[   1 1296 4104   27  196] \n",
      "\n",
      "Actual:\n",
      "['CH' 'CU' 'FF' 'SI' 'SL']\n",
      "[ 758  938 3278   38  612] \n",
      "\n"
     ]
    },
    {
     "name": "stderr",
     "output_type": "stream",
     "text": [
      "/opt/miniconda3/lib/python3.9/site-packages/sklearn/svm/_base.py:1225: ConvergenceWarning: Liblinear failed to converge, increase the number of iterations.\n",
      "  warnings.warn(\n"
     ]
    }
   ],
   "source": [
    "# Linear SVM - Game Situational Features: Non-regularized (17 features)\n",
    "svm_game_sit_models = []\n",
    "svm_game_sit_train_accs = []\n",
    "svm_game_sit_test_accs = []\n",
    "\n",
    "skf = StratifiedKFold(n_splits=5, shuffle=True, random_state=42)\n",
    "\n",
    "for train_index, test_index in skf.split(X_game_sit, y):\n",
    "    X_train, X_test = X_game_sit[train_index], X_game_sit[test_index]\n",
    "    y_train, y_test = y[train_index], y[test_index]\n",
    "    \n",
    "    classes, class_counts = np.unique(y_train, return_counts=True)\n",
    "    class_weights = dict(zip(classes, len(y_train) / (len(classes) * class_counts)))\n",
    "    \n",
    "    model = LinearSVC(max_iter=1000, class_weight=class_weights)\n",
    "    \n",
    "    model.fit(X_train, y_train)\n",
    "    \n",
    "    test_acc = model.score(X_test, y_test)\n",
    "    train_acc = model.score(X_train, y_train)\n",
    "    print(\"Train Accuracy: \", train_acc)\n",
    "    print(\"Test Accuracy: \", test_acc)\n",
    "    \n",
    "    print(\"Predictions:\")\n",
    "    print(np.unique(model.predict(X_test)))\n",
    "    print(np.unique(model.predict(X_test), return_counts=True)[1], \"\\n\")\n",
    "    print(\"Actual:\")\n",
    "    print(np.unique(y_test))\n",
    "    print(np.unique(y_test, return_counts=True)[1], \"\\n\")\n",
    "    \n",
    "    svm_game_sit_train_accs.append(train_acc)\n",
    "    svm_game_sit_test_accs.append(test_acc)\n",
    "    svm_game_sit_models.append(model)"
   ]
  },
  {
   "cell_type": "code",
   "execution_count": 6,
   "id": "914ca409",
   "metadata": {
    "scrolled": true
   },
   "outputs": [
    {
     "name": "stderr",
     "output_type": "stream",
     "text": [
      "/opt/miniconda3/lib/python3.9/site-packages/sklearn/svm/_base.py:1225: ConvergenceWarning: Liblinear failed to converge, increase the number of iterations.\n",
      "  warnings.warn(\n"
     ]
    },
    {
     "name": "stdout",
     "output_type": "stream",
     "text": [
      "Train Accuracy:  0.5358936747121839\n",
      "Test Accuracy:  0.5212444444444444\n",
      "Predictions:\n",
      "['CH' 'CU' 'FF' 'SI' 'SL']\n",
      "[ 456  924 3264   70  911] \n",
      "\n",
      "Actual:\n",
      "['CH' 'CU' 'FF' 'SI' 'SL']\n",
      "[ 758  939 3277   38  613] \n",
      "\n"
     ]
    },
    {
     "name": "stderr",
     "output_type": "stream",
     "text": [
      "/opt/miniconda3/lib/python3.9/site-packages/sklearn/svm/_base.py:1225: ConvergenceWarning: Liblinear failed to converge, increase the number of iterations.\n",
      "  warnings.warn(\n"
     ]
    },
    {
     "name": "stdout",
     "output_type": "stream",
     "text": [
      "Train Accuracy:  0.48482019824865535\n",
      "Test Accuracy:  0.4826666666666667\n",
      "Predictions:\n",
      "['CH' 'CU' 'FF' 'SI' 'SL']\n",
      "[ 406  637 2702   55 1825] \n",
      "\n",
      "Actual:\n",
      "['CH' 'CU' 'FF' 'SI' 'SL']\n",
      "[ 757  939 3277   39  613] \n",
      "\n"
     ]
    },
    {
     "name": "stderr",
     "output_type": "stream",
     "text": [
      "/opt/miniconda3/lib/python3.9/site-packages/sklearn/svm/_base.py:1225: ConvergenceWarning: Liblinear failed to converge, increase the number of iterations.\n",
      "  warnings.warn(\n"
     ]
    },
    {
     "name": "stdout",
     "output_type": "stream",
     "text": [
      "Train Accuracy:  0.5408925237798915\n",
      "Test Accuracy:  0.530049786628734\n",
      "Predictions:\n",
      "['CH' 'CU' 'FF' 'SI' 'SL']\n",
      "[ 525  892 3285   62  860] \n",
      "\n",
      "Actual:\n",
      "['CH' 'CU' 'FF' 'SI' 'SL']\n",
      "[ 757  939 3278   38  612] \n",
      "\n"
     ]
    },
    {
     "name": "stderr",
     "output_type": "stream",
     "text": [
      "/opt/miniconda3/lib/python3.9/site-packages/sklearn/svm/_base.py:1225: ConvergenceWarning: Liblinear failed to converge, increase the number of iterations.\n",
      "  warnings.warn(\n"
     ]
    },
    {
     "name": "stdout",
     "output_type": "stream",
     "text": [
      "Train Accuracy:  0.5303138056716152\n",
      "Test Accuracy:  0.52649359886202\n",
      "Predictions:\n",
      "['CH' 'CU' 'FF' 'SI' 'SL']\n",
      "[ 548  721 3218   60 1077] \n",
      "\n",
      "Actual:\n",
      "['CH' 'CU' 'FF' 'SI' 'SL']\n",
      "[ 757  939 3278   38  612] \n",
      "\n",
      "Train Accuracy:  0.5432927371321895\n",
      "Test Accuracy:  0.5565433854907539\n",
      "Predictions:\n",
      "['CH' 'CU' 'FF' 'SI' 'SL']\n",
      "[ 447  901 3527   57  692] \n",
      "\n",
      "Actual:\n",
      "['CH' 'CU' 'FF' 'SI' 'SL']\n",
      "[ 758  938 3278   38  612] \n",
      "\n"
     ]
    },
    {
     "name": "stderr",
     "output_type": "stream",
     "text": [
      "/opt/miniconda3/lib/python3.9/site-packages/sklearn/svm/_base.py:1225: ConvergenceWarning: Liblinear failed to converge, increase the number of iterations.\n",
      "  warnings.warn(\n"
     ]
    }
   ],
   "source": [
    "# Linear SVM - All Features: Non-regularized (100 features)\n",
    "svm_whole_models = []\n",
    "svm_whole_train_accs = []\n",
    "svm_whole_test_accs = []\n",
    "\n",
    "skf = StratifiedKFold(n_splits=5, shuffle=True, random_state=42)\n",
    "\n",
    "for train_index, test_index in skf.split(X_whole, y):\n",
    "    X_train, X_test = X_whole[train_index], X_whole[test_index]\n",
    "    y_train, y_test = y[train_index], y[test_index]\n",
    "    \n",
    "    classes, class_counts = np.unique(y_train, return_counts=True)\n",
    "    class_weights = dict(zip(classes, len(y_train) / (len(classes) * class_counts)))\n",
    "    \n",
    "    model = LinearSVC(max_iter=1000, class_weight=class_weights)\n",
    "    \n",
    "    model.fit(X_train, y_train)\n",
    "    \n",
    "    test_acc = model.score(X_test, y_test)\n",
    "    train_acc = model.score(X_train, y_train)\n",
    "    print(\"Train Accuracy: \", train_acc)\n",
    "    print(\"Test Accuracy: \", test_acc)\n",
    "    \n",
    "    print(\"Predictions:\")\n",
    "    print(np.unique(model.predict(X_test)))\n",
    "    print(np.unique(model.predict(X_test), return_counts=True)[1], \"\\n\")\n",
    "    print(\"Actual:\")\n",
    "    print(np.unique(y_test))\n",
    "    print(np.unique(y_test, return_counts=True)[1], \"\\n\")\n",
    "    \n",
    "    svm_whole_train_accs.append(train_acc)\n",
    "    svm_whole_test_accs.append(test_acc)\n",
    "    svm_whole_models.append(model)"
   ]
  },
  {
   "cell_type": "markdown",
   "id": "8efca7ac",
   "metadata": {},
   "source": [
    "## Regularized"
   ]
  },
  {
   "cell_type": "code",
   "execution_count": 7,
   "id": "06b51f6d",
   "metadata": {},
   "outputs": [
    {
     "name": "stderr",
     "output_type": "stream",
     "text": [
      "/opt/miniconda3/lib/python3.9/site-packages/sklearn/svm/_base.py:1225: ConvergenceWarning: Liblinear failed to converge, increase the number of iterations.\n",
      "  warnings.warn(\n"
     ]
    },
    {
     "name": "stdout",
     "output_type": "stream",
     "text": [
      "Train Accuracy:  0.4797528559363471\n",
      "Test Accuracy:  0.4776888888888889\n",
      "Predictions:\n",
      "['CH' 'CU' 'FF' 'SI' 'SL']\n",
      "[ 225  834 3094  510  962] \n",
      "\n",
      "Actual:\n",
      "['CH' 'CU' 'FF' 'SI' 'SL']\n",
      "[ 758  939 3277   38  613] \n",
      "\n"
     ]
    },
    {
     "name": "stderr",
     "output_type": "stream",
     "text": [
      "/opt/miniconda3/lib/python3.9/site-packages/sklearn/svm/_base.py:1225: ConvergenceWarning: Liblinear failed to converge, increase the number of iterations.\n",
      "  warnings.warn(\n"
     ]
    },
    {
     "name": "stdout",
     "output_type": "stream",
     "text": [
      "Train Accuracy:  0.5047784148997644\n",
      "Test Accuracy:  0.5008\n",
      "Predictions:\n",
      "['CH' 'CU' 'FF' 'SI' 'SL']\n",
      "[ 318  884 3302  195  926] \n",
      "\n",
      "Actual:\n",
      "['CH' 'CU' 'FF' 'SI' 'SL']\n",
      "[ 757  939 3277   39  613] \n",
      "\n"
     ]
    },
    {
     "name": "stderr",
     "output_type": "stream",
     "text": [
      "/opt/miniconda3/lib/python3.9/site-packages/sklearn/svm/_base.py:1225: ConvergenceWarning: Liblinear failed to converge, increase the number of iterations.\n",
      "  warnings.warn(\n"
     ]
    },
    {
     "name": "stdout",
     "output_type": "stream",
     "text": [
      "Train Accuracy:  0.5060894301715708\n",
      "Test Accuracy:  0.4866642958748222\n",
      "Predictions:\n",
      "['CH' 'CU' 'FF' 'SI' 'SL']\n",
      "[ 322  885 3178  183 1056] \n",
      "\n",
      "Actual:\n",
      "['CH' 'CU' 'FF' 'SI' 'SL']\n",
      "[ 757  939 3278   38  612] \n",
      "\n"
     ]
    },
    {
     "name": "stderr",
     "output_type": "stream",
     "text": [
      "/opt/miniconda3/lib/python3.9/site-packages/sklearn/svm/_base.py:1225: ConvergenceWarning: Liblinear failed to converge, increase the number of iterations.\n",
      "  warnings.warn(\n"
     ]
    },
    {
     "name": "stdout",
     "output_type": "stream",
     "text": [
      "Train Accuracy:  0.505378255844964\n",
      "Test Accuracy:  0.504800853485064\n",
      "Predictions:\n",
      "['CH' 'CU' 'FF' 'SI' 'SL']\n",
      "[ 280  851 3322  195  976] \n",
      "\n",
      "Actual:\n",
      "['CH' 'CU' 'FF' 'SI' 'SL']\n",
      "[ 757  939 3278   38  612] \n",
      "\n",
      "Train Accuracy:  0.5034669748422081\n",
      "Test Accuracy:  0.5058677098150782\n",
      "Predictions:\n",
      "['CH' 'CU' 'FF' 'SI' 'SL']\n",
      "[ 373  803 3269  189  990] \n",
      "\n",
      "Actual:\n",
      "['CH' 'CU' 'FF' 'SI' 'SL']\n",
      "[ 758  938 3278   38  612] \n",
      "\n"
     ]
    },
    {
     "name": "stderr",
     "output_type": "stream",
     "text": [
      "/opt/miniconda3/lib/python3.9/site-packages/sklearn/svm/_base.py:1225: ConvergenceWarning: Liblinear failed to converge, increase the number of iterations.\n",
      "  warnings.warn(\n"
     ]
    }
   ],
   "source": [
    "# Linear SVM - Without Recursive Features: Regularized (53 features)\n",
    "svm_wo_recurse_reg_models = []\n",
    "svm_wo_recurse_reg_test_accs = []\n",
    "\n",
    "skf = StratifiedKFold(n_splits=5, shuffle=True, random_state=42)\n",
    "\n",
    "for train_index, test_index in skf.split(X_wo_recurse, y):\n",
    "    X_train, X_test = X_wo_recurse[train_index], X_wo_recurse[test_index]\n",
    "    y_train, y_test = y[train_index], y[test_index]\n",
    "    \n",
    "    classes, class_counts = np.unique(y_train, return_counts=True)\n",
    "    class_weights = dict(zip(classes, len(y_train) / (len(classes) * class_counts)))\n",
    "    \n",
    "    scaler = MinMaxScaler()\n",
    "    scaled_X_train = scaler.fit_transform(X_train)\n",
    "    scaled_X_test = scaler.transform(X_test)\n",
    "    \n",
    "    model = LinearSVC(max_iter=1000, class_weight=class_weights)\n",
    "    \n",
    "    model.fit(scaled_X_train, y_train)\n",
    "    \n",
    "    test_acc = model.score(scaled_X_test, y_test)\n",
    "    train_acc = model.score(scaled_X_train, y_train)\n",
    "    print(\"Train Accuracy: \", train_acc)\n",
    "    print(\"Test Accuracy: \", test_acc)\n",
    "    \n",
    "    print(\"Predictions:\")\n",
    "    print(np.unique(model.predict(scaled_X_test)))\n",
    "    print(np.unique(model.predict(scaled_X_test), return_counts=True)[1], \"\\n\")\n",
    "    print(\"Actual:\")\n",
    "    print(np.unique(y_test))\n",
    "    print(np.unique(y_test, return_counts=True)[1], \"\\n\")\n",
    "    \n",
    "    svm_wo_recurse_reg_test_accs.append(test_acc)\n",
    "    svm_wo_recurse_reg_models.append(model)"
   ]
  },
  {
   "cell_type": "code",
   "execution_count": 8,
   "id": "29a09c5e",
   "metadata": {},
   "outputs": [
    {
     "name": "stderr",
     "output_type": "stream",
     "text": [
      "/opt/miniconda3/lib/python3.9/site-packages/sklearn/svm/_base.py:1225: ConvergenceWarning: Liblinear failed to converge, increase the number of iterations.\n",
      "  warnings.warn(\n"
     ]
    },
    {
     "name": "stdout",
     "output_type": "stream",
     "text": [
      "Train Accuracy:  0.4845534960216918\n",
      "Test Accuracy:  0.48355555555555557\n",
      "Predictions:\n",
      "['CU' 'FF' 'SI' 'SL']\n",
      "[1109 3458  602  456] \n",
      "\n",
      "Actual:\n",
      "['CH' 'CU' 'FF' 'SI' 'SL']\n",
      "[ 758  939 3277   38  613] \n",
      "\n"
     ]
    },
    {
     "name": "stderr",
     "output_type": "stream",
     "text": [
      "/opt/miniconda3/lib/python3.9/site-packages/sklearn/svm/_base.py:1225: ConvergenceWarning: Liblinear failed to converge, increase the number of iterations.\n",
      "  warnings.warn(\n"
     ]
    },
    {
     "name": "stdout",
     "output_type": "stream",
     "text": [
      "Train Accuracy:  0.48241987820598303\n",
      "Test Accuracy:  0.4791111111111111\n",
      "Predictions:\n",
      "['CU' 'FF' 'SI' 'SL']\n",
      "[1104 3439  612  470] \n",
      "\n",
      "Actual:\n",
      "['CH' 'CU' 'FF' 'SI' 'SL']\n",
      "[ 757  939 3277   39  613] \n",
      "\n"
     ]
    },
    {
     "name": "stderr",
     "output_type": "stream",
     "text": [
      "/opt/miniconda3/lib/python3.9/site-packages/sklearn/svm/_base.py:1225: ConvergenceWarning: Liblinear failed to converge, increase the number of iterations.\n",
      "  warnings.warn(\n"
     ]
    },
    {
     "name": "stdout",
     "output_type": "stream",
     "text": [
      "Train Accuracy:  0.4938216730376033\n",
      "Test Accuracy:  0.4797297297297297\n",
      "Predictions:\n",
      "['CH' 'CU' 'FF' 'SI' 'SL']\n",
      "[   1 1129 3466  514  514] \n",
      "\n",
      "Actual:\n",
      "['CH' 'CU' 'FF' 'SI' 'SL']\n",
      "[ 757  939 3278   38  612] \n",
      "\n"
     ]
    },
    {
     "name": "stderr",
     "output_type": "stream",
     "text": [
      "/opt/miniconda3/lib/python3.9/site-packages/sklearn/svm/_base.py:1225: ConvergenceWarning: Liblinear failed to converge, increase the number of iterations.\n",
      "  warnings.warn(\n"
     ]
    },
    {
     "name": "stdout",
     "output_type": "stream",
     "text": [
      "Train Accuracy:  0.4842208196284114\n",
      "Test Accuracy:  0.48986486486486486\n",
      "Predictions:\n",
      "['CH' 'CU' 'FF' 'SI' 'SL']\n",
      "[   4 1052 3502  563  503] \n",
      "\n",
      "Actual:\n",
      "['CH' 'CU' 'FF' 'SI' 'SL']\n",
      "[ 757  939 3278   38  612] \n",
      "\n",
      "Train Accuracy:  0.4840430260467597\n",
      "Test Accuracy:  0.49324324324324326\n",
      "Predictions:\n",
      "['CU' 'FF' 'SI' 'SL']\n",
      "[ 987 3529  577  531] \n",
      "\n",
      "Actual:\n",
      "['CH' 'CU' 'FF' 'SI' 'SL']\n",
      "[ 758  938 3278   38  612] \n",
      "\n"
     ]
    },
    {
     "name": "stderr",
     "output_type": "stream",
     "text": [
      "/opt/miniconda3/lib/python3.9/site-packages/sklearn/svm/_base.py:1225: ConvergenceWarning: Liblinear failed to converge, increase the number of iterations.\n",
      "  warnings.warn(\n"
     ]
    }
   ],
   "source": [
    "# LinearSVC - Game Situational Features: Regularized (17 features)\n",
    "svm_game_sit_reg_models = []\n",
    "svm_game_sit_reg_test_accs = []\n",
    "\n",
    "skf = StratifiedKFold(n_splits=5, shuffle=True, random_state=42)\n",
    "\n",
    "for train_index, test_index in skf.split(X_game_sit, y):\n",
    "    X_train, X_test = X_game_sit[train_index], X_game_sit[test_index]\n",
    "    y_train, y_test = y[train_index], y[test_index]\n",
    "    \n",
    "    classes, class_counts = np.unique(y_train, return_counts=True)\n",
    "    class_weights = dict(zip(classes, len(y_train) / (len(classes) * class_counts)))\n",
    "    \n",
    "    scaler = MinMaxScaler()\n",
    "    scaled_X_train = scaler.fit_transform(X_train)\n",
    "    scaled_X_test = scaler.transform(X_test)\n",
    "    \n",
    "    model = LinearSVC(max_iter=1000, class_weight=class_weights)\n",
    "    \n",
    "    model.fit(scaled_X_train, y_train)\n",
    "    \n",
    "    test_acc = model.score(scaled_X_test, y_test)\n",
    "    train_acc = model.score(scaled_X_train, y_train)\n",
    "    print(\"Train Accuracy: \", train_acc)\n",
    "    print(\"Test Accuracy: \", test_acc)\n",
    "    \n",
    "    print(\"Predictions:\")\n",
    "    print(np.unique(model.predict(scaled_X_test)))\n",
    "    print(np.unique(model.predict(scaled_X_test), return_counts=True)[1], \"\\n\")\n",
    "    print(\"Actual:\")\n",
    "    print(np.unique(y_test))\n",
    "    print(np.unique(y_test, return_counts=True)[1], \"\\n\")\n",
    "    \n",
    "    svm_game_sit_reg_test_accs.append(test_acc)\n",
    "    svm_game_sit_reg_models.append(model)"
   ]
  },
  {
   "cell_type": "code",
   "execution_count": 9,
   "id": "2c4f22aa",
   "metadata": {},
   "outputs": [
    {
     "name": "stderr",
     "output_type": "stream",
     "text": [
      "/opt/miniconda3/lib/python3.9/site-packages/sklearn/svm/_base.py:1225: ConvergenceWarning: Liblinear failed to converge, increase the number of iterations.\n",
      "  warnings.warn(\n"
     ]
    },
    {
     "name": "stdout",
     "output_type": "stream",
     "text": [
      "Train Accuracy:  0.5326043472462995\n",
      "Test Accuracy:  0.5168\n",
      "Predictions:\n",
      "['CH' 'CU' 'FF' 'SI' 'SL']\n",
      "[ 502  893 3185  102  943] \n",
      "\n",
      "Actual:\n",
      "['CH' 'CU' 'FF' 'SI' 'SL']\n",
      "[ 758  939 3277   38  613] \n",
      "\n"
     ]
    },
    {
     "name": "stderr",
     "output_type": "stream",
     "text": [
      "/opt/miniconda3/lib/python3.9/site-packages/sklearn/svm/_base.py:1225: ConvergenceWarning: Liblinear failed to converge, increase the number of iterations.\n",
      "  warnings.warn(\n"
     ]
    },
    {
     "name": "stdout",
     "output_type": "stream",
     "text": [
      "Train Accuracy:  0.5322931946481753\n",
      "Test Accuracy:  0.5242666666666667\n",
      "Predictions:\n",
      "['CH' 'CU' 'FF' 'SI' 'SL']\n",
      "[ 548  878 3214   77  908] \n",
      "\n",
      "Actual:\n",
      "['CH' 'CU' 'FF' 'SI' 'SL']\n",
      "[ 757  939 3277   39  613] \n",
      "\n"
     ]
    },
    {
     "name": "stderr",
     "output_type": "stream",
     "text": [
      "/opt/miniconda3/lib/python3.9/site-packages/sklearn/svm/_base.py:1225: ConvergenceWarning: Liblinear failed to converge, increase the number of iterations.\n",
      "  warnings.warn(\n"
     ]
    },
    {
     "name": "stdout",
     "output_type": "stream",
     "text": [
      "Train Accuracy:  0.5308916348119833\n",
      "Test Accuracy:  0.5151137980085349\n",
      "Predictions:\n",
      "['CH' 'CU' 'FF' 'SI' 'SL']\n",
      "[ 524  878 3108  105 1009] \n",
      "\n",
      "Actual:\n",
      "['CH' 'CU' 'FF' 'SI' 'SL']\n",
      "[ 757  939 3278   38  612] \n",
      "\n"
     ]
    },
    {
     "name": "stderr",
     "output_type": "stream",
     "text": [
      "/opt/miniconda3/lib/python3.9/site-packages/sklearn/svm/_base.py:1225: ConvergenceWarning: Liblinear failed to converge, increase the number of iterations.\n",
      "  warnings.warn(\n"
     ]
    },
    {
     "name": "stdout",
     "output_type": "stream",
     "text": [
      "Train Accuracy:  0.529869321717486\n",
      "Test Accuracy:  0.5261379800853485\n",
      "Predictions:\n",
      "['CH' 'CU' 'FF' 'SI' 'SL']\n",
      "[ 535  797 3206  110  976] \n",
      "\n",
      "Actual:\n",
      "['CH' 'CU' 'FF' 'SI' 'SL']\n",
      "[ 757  939 3278   38  612] \n",
      "\n",
      "Train Accuracy:  0.5276469019468397\n",
      "Test Accuracy:  0.5344950213371266\n",
      "Predictions:\n",
      "['CH' 'CU' 'FF' 'SI' 'SL']\n",
      "[ 526  806 3251   95  946] \n",
      "\n",
      "Actual:\n",
      "['CH' 'CU' 'FF' 'SI' 'SL']\n",
      "[ 758  938 3278   38  612] \n",
      "\n"
     ]
    },
    {
     "name": "stderr",
     "output_type": "stream",
     "text": [
      "/opt/miniconda3/lib/python3.9/site-packages/sklearn/svm/_base.py:1225: ConvergenceWarning: Liblinear failed to converge, increase the number of iterations.\n",
      "  warnings.warn(\n"
     ]
    }
   ],
   "source": [
    "# Linear SVC - All Features: Regularized (100 features)\n",
    "svm_whole_reg_models = []\n",
    "svm_whole_reg_test_accs = []\n",
    "\n",
    "skf = StratifiedKFold(n_splits=5, shuffle=True, random_state=42)\n",
    "\n",
    "for train_index, test_index in skf.split(X_whole, y):\n",
    "    X_train, X_test = X_whole[train_index], X_whole[test_index]\n",
    "    y_train, y_test = y[train_index], y[test_index]\n",
    "    \n",
    "    classes, class_counts = np.unique(y_train, return_counts=True)\n",
    "    class_weights = dict(zip(classes, len(y_train) / (len(classes) * class_counts)))\n",
    "    \n",
    "    scaler = MinMaxScaler()\n",
    "    scaled_X_train = scaler.fit_transform(X_train)\n",
    "    scaled_X_test = scaler.transform(X_test)\n",
    "    \n",
    "    model = LinearSVC(max_iter=1000, class_weight=class_weights)\n",
    "    \n",
    "    model.fit(scaled_X_train, y_train)\n",
    "    \n",
    "    test_acc = model.score(scaled_X_test, y_test)\n",
    "    train_acc = model.score(scaled_X_train, y_train)\n",
    "    print(\"Train Accuracy: \", train_acc)\n",
    "    print(\"Test Accuracy: \", test_acc)\n",
    "    \n",
    "    print(\"Predictions:\")\n",
    "    print(np.unique(model.predict(scaled_X_test)))\n",
    "    print(np.unique(model.predict(scaled_X_test), return_counts=True)[1], \"\\n\")\n",
    "    print(\"Actual:\")\n",
    "    print(np.unique(y_test))\n",
    "    print(np.unique(y_test, return_counts=True)[1], \"\\n\")\n",
    "    \n",
    "    svm_whole_reg_test_accs.append(test_acc)\n",
    "    svm_whole_reg_models.append(model)"
   ]
  },
  {
   "cell_type": "markdown",
   "id": "0ae8a219",
   "metadata": {},
   "source": [
    "## PCA"
   ]
  },
  {
   "cell_type": "code",
   "execution_count": 10,
   "id": "9459cc85",
   "metadata": {},
   "outputs": [
    {
     "name": "stderr",
     "output_type": "stream",
     "text": [
      "/opt/miniconda3/lib/python3.9/site-packages/sklearn/svm/_base.py:1225: ConvergenceWarning: Liblinear failed to converge, increase the number of iterations.\n",
      "  warnings.warn(\n"
     ]
    },
    {
     "name": "stdout",
     "output_type": "stream",
     "text": [
      "Train Accuracy:  0.4954438369560386\n",
      "Test Accuracy:  0.49706666666666666\n",
      "Predictions:\n",
      "['CH' 'CU' 'FF' 'SI' 'SL']\n",
      "[ 186  931 3317  264  927] \n",
      "\n",
      "Actual:\n",
      "['CH' 'CU' 'FF' 'SI' 'SL']\n",
      "[ 758  939 3277   38  613] \n",
      "\n"
     ]
    },
    {
     "name": "stderr",
     "output_type": "stream",
     "text": [
      "/opt/miniconda3/lib/python3.9/site-packages/sklearn/svm/_base.py:1225: ConvergenceWarning: Liblinear failed to converge, increase the number of iterations.\n",
      "  warnings.warn(\n"
     ]
    },
    {
     "name": "stdout",
     "output_type": "stream",
     "text": [
      "Train Accuracy:  0.4945548295328266\n",
      "Test Accuracy:  0.5036444444444445\n",
      "Predictions:\n",
      "['CH' 'CU' 'FF' 'SI' 'SL']\n",
      "[ 195  921 3331  308  870] \n",
      "\n",
      "Actual:\n",
      "['CH' 'CU' 'FF' 'SI' 'SL']\n",
      "[ 757  939 3277   39  613] \n",
      "\n"
     ]
    },
    {
     "name": "stderr",
     "output_type": "stream",
     "text": [
      "/opt/miniconda3/lib/python3.9/site-packages/sklearn/svm/_base.py:1225: ConvergenceWarning: Liblinear failed to converge, increase the number of iterations.\n",
      "  warnings.warn(\n"
     ]
    },
    {
     "name": "stdout",
     "output_type": "stream",
     "text": [
      "Train Accuracy:  0.4979553738110054\n",
      "Test Accuracy:  0.48239687055476527\n",
      "Predictions:\n",
      "['CH' 'CU' 'FF' 'SI' 'SL']\n",
      "[ 207  920 3203  285 1009] \n",
      "\n",
      "Actual:\n",
      "['CH' 'CU' 'FF' 'SI' 'SL']\n",
      "[ 757  939 3278   38  612] \n",
      "\n"
     ]
    },
    {
     "name": "stderr",
     "output_type": "stream",
     "text": [
      "/opt/miniconda3/lib/python3.9/site-packages/sklearn/svm/_base.py:1225: ConvergenceWarning: Liblinear failed to converge, increase the number of iterations.\n",
      "  warnings.warn(\n"
     ]
    },
    {
     "name": "stdout",
     "output_type": "stream",
     "text": [
      "Train Accuracy:  0.4933771890834741\n",
      "Test Accuracy:  0.48826458036984355\n",
      "Predictions:\n",
      "['CH' 'CU' 'FF' 'SI' 'SL']\n",
      "[ 197  844 3334  330  919] \n",
      "\n",
      "Actual:\n",
      "['CH' 'CU' 'FF' 'SI' 'SL']\n",
      "[ 757  939 3278   38  612] \n",
      "\n",
      "Train Accuracy:  0.4951106765045782\n",
      "Test Accuracy:  0.5\n",
      "Predictions:\n",
      "['CH' 'CU' 'FF' 'SI' 'SL']\n",
      "[ 246  826 3317  296  939] \n",
      "\n",
      "Actual:\n",
      "['CH' 'CU' 'FF' 'SI' 'SL']\n",
      "[ 758  938 3278   38  612] \n",
      "\n"
     ]
    },
    {
     "name": "stderr",
     "output_type": "stream",
     "text": [
      "/opt/miniconda3/lib/python3.9/site-packages/sklearn/svm/_base.py:1225: ConvergenceWarning: Liblinear failed to converge, increase the number of iterations.\n",
      "  warnings.warn(\n"
     ]
    }
   ],
   "source": [
    "# Linear SVM - Without Recursive Features: PCA 95% (53 features)\n",
    "svm_wo_recurse_pca_models = []\n",
    "svm_wo_recurse_pca_test_accs = []\n",
    "\n",
    "skf = StratifiedKFold(n_splits=5, shuffle=True, random_state=42)\n",
    "\n",
    "for train_index, test_index in skf.split(X_wo_recurse, y):\n",
    "    X_train, X_test = X_wo_recurse[train_index], X_wo_recurse[test_index]\n",
    "    y_train, y_test = y[train_index], y[test_index]\n",
    "    \n",
    "    classes, class_counts = np.unique(y_train, return_counts=True)\n",
    "    class_weights = dict(zip(classes, len(y_train) / (len(classes) * class_counts)))\n",
    "    \n",
    "    scaler = MinMaxScaler()\n",
    "    scaled_X_train = scaler.fit_transform(X_train)\n",
    "    scaled_X_test = scaler.transform(X_test)\n",
    "    \n",
    "    pca = PCA(n_components=0.95, svd_solver='full')\n",
    "    reduced_X_train = pca.fit_transform(scaled_X_train)\n",
    "    reduced_X_test = pca.transform(scaled_X_test)\n",
    "    \n",
    "    model = LinearSVC(max_iter=1000, class_weight=class_weights)\n",
    "    \n",
    "    model.fit(reduced_X_train, y_train)\n",
    "    \n",
    "    test_acc = model.score(reduced_X_test, y_test)\n",
    "    print(\"Train Accuracy: \", model.score(reduced_X_train, y_train))\n",
    "    print(\"Test Accuracy: \", test_acc)\n",
    "    \n",
    "    print(\"Predictions:\")\n",
    "    print(np.unique(model.predict(reduced_X_test)))\n",
    "    print(np.unique(model.predict(reduced_X_test), return_counts=True)[1], \"\\n\")\n",
    "    print(\"Actual:\")\n",
    "    print(np.unique(y_test))\n",
    "    print(np.unique(y_test, return_counts=True)[1], \"\\n\")\n",
    "    \n",
    "    svm_wo_recurse_pca_test_accs.append(test_acc)\n",
    "    svm_wo_recurse_pca_models.append(model)"
   ]
  },
  {
   "cell_type": "code",
   "execution_count": 11,
   "id": "8ab39039",
   "metadata": {},
   "outputs": [
    {
     "name": "stderr",
     "output_type": "stream",
     "text": [
      "/opt/miniconda3/lib/python3.9/site-packages/sklearn/svm/_base.py:1225: ConvergenceWarning: Liblinear failed to converge, increase the number of iterations.\n",
      "  warnings.warn(\n"
     ]
    },
    {
     "name": "stdout",
     "output_type": "stream",
     "text": [
      "Train Accuracy:  0.4820642752366982\n",
      "Test Accuracy:  0.4805333333333333\n",
      "Predictions:\n",
      "['CH' 'CU' 'FF' 'SI' 'SL']\n",
      "[   1 1132 3442  617  433] \n",
      "\n",
      "Actual:\n",
      "['CH' 'CU' 'FF' 'SI' 'SL']\n",
      "[ 758  939 3277   38  613] \n",
      "\n"
     ]
    },
    {
     "name": "stderr",
     "output_type": "stream",
     "text": [
      "/opt/miniconda3/lib/python3.9/site-packages/sklearn/svm/_base.py:1225: ConvergenceWarning: Liblinear failed to converge, increase the number of iterations.\n",
      "  warnings.warn(\n"
     ]
    },
    {
     "name": "stdout",
     "output_type": "stream",
     "text": [
      "Train Accuracy:  0.48015290927679244\n",
      "Test Accuracy:  0.47964444444444443\n",
      "Predictions:\n",
      "['CU' 'FF' 'SI' 'SL']\n",
      "[1148 3427  643  407] \n",
      "\n",
      "Actual:\n",
      "['CH' 'CU' 'FF' 'SI' 'SL']\n",
      "[ 757  939 3277   39  613] \n",
      "\n"
     ]
    },
    {
     "name": "stderr",
     "output_type": "stream",
     "text": [
      "/opt/miniconda3/lib/python3.9/site-packages/sklearn/svm/_base.py:1225: ConvergenceWarning: Liblinear failed to converge, increase the number of iterations.\n",
      "  warnings.warn(\n"
     ]
    },
    {
     "name": "stdout",
     "output_type": "stream",
     "text": [
      "Train Accuracy:  0.49168815005778294\n",
      "Test Accuracy:  0.47546230440967285\n",
      "Predictions:\n",
      "['CU' 'FF' 'SI' 'SL']\n",
      "[1149 3482  552  441] \n",
      "\n",
      "Actual:\n",
      "['CH' 'CU' 'FF' 'SI' 'SL']\n",
      "[ 757  939 3278   38  612] \n",
      "\n"
     ]
    },
    {
     "name": "stderr",
     "output_type": "stream",
     "text": [
      "/opt/miniconda3/lib/python3.9/site-packages/sklearn/svm/_base.py:1225: ConvergenceWarning: Liblinear failed to converge, increase the number of iterations.\n",
      "  warnings.warn(\n"
     ]
    },
    {
     "name": "stdout",
     "output_type": "stream",
     "text": [
      "Train Accuracy:  0.48146501911281003\n",
      "Test Accuracy:  0.48541963015647227\n",
      "Predictions:\n",
      "['CU' 'FF' 'SI' 'SL']\n",
      "[1080 3498  585  461] \n",
      "\n",
      "Actual:\n",
      "['CH' 'CU' 'FF' 'SI' 'SL']\n",
      "[ 757  939 3278   38  612] \n",
      "\n",
      "Train Accuracy:  0.482087296648591\n",
      "Test Accuracy:  0.4934210526315789\n",
      "Predictions:\n",
      "['CU' 'FF' 'SI' 'SL']\n",
      "[1017 3529  616  462] \n",
      "\n",
      "Actual:\n",
      "['CH' 'CU' 'FF' 'SI' 'SL']\n",
      "[ 758  938 3278   38  612] \n",
      "\n"
     ]
    },
    {
     "name": "stderr",
     "output_type": "stream",
     "text": [
      "/opt/miniconda3/lib/python3.9/site-packages/sklearn/svm/_base.py:1225: ConvergenceWarning: Liblinear failed to converge, increase the number of iterations.\n",
      "  warnings.warn(\n"
     ]
    }
   ],
   "source": [
    "# Linear SVM - Game Situational Features: PCA 95% (53 features)\n",
    "svm_game_sit_pca_models = []\n",
    "svm_game_sit_pca_test_accs = []\n",
    "\n",
    "skf = StratifiedKFold(n_splits=5, shuffle=True, random_state=42)\n",
    "\n",
    "for train_index, test_index in skf.split(X_game_sit, y):\n",
    "    X_train, X_test = X_game_sit[train_index], X_game_sit[test_index]\n",
    "    y_train, y_test = y[train_index], y[test_index]\n",
    "    \n",
    "    classes, class_counts = np.unique(y_train, return_counts=True)\n",
    "    class_weights = dict(zip(classes, len(y_train) / (len(classes) * class_counts)))\n",
    "    \n",
    "    scaler = MinMaxScaler()\n",
    "    scaled_X_train = scaler.fit_transform(X_train)\n",
    "    scaled_X_test = scaler.transform(X_test)\n",
    "    \n",
    "    pca = PCA(n_components=0.95, svd_solver='full')\n",
    "    reduced_X_train = pca.fit_transform(scaled_X_train)\n",
    "    reduced_X_test = pca.transform(scaled_X_test)\n",
    "    \n",
    "    model = LinearSVC(max_iter=1000, class_weight=class_weights)\n",
    "    \n",
    "    model.fit(reduced_X_train, y_train)\n",
    "    \n",
    "    test_acc = model.score(reduced_X_test, y_test)\n",
    "    print(\"Train Accuracy: \", model.score(reduced_X_train, y_train))\n",
    "    print(\"Test Accuracy: \", test_acc)\n",
    "    \n",
    "    print(\"Predictions:\")\n",
    "    print(np.unique(model.predict(reduced_X_test)))\n",
    "    print(np.unique(model.predict(reduced_X_test), return_counts=True)[1], \"\\n\")\n",
    "    print(\"Actual:\")\n",
    "    print(np.unique(y_test))\n",
    "    print(np.unique(y_test, return_counts=True)[1], \"\\n\")\n",
    "    \n",
    "    svm_game_sit_pca_test_accs.append(test_acc)\n",
    "    svm_game_sit_pca_models.append(model)"
   ]
  },
  {
   "cell_type": "code",
   "execution_count": 12,
   "id": "3fc929ff",
   "metadata": {
    "scrolled": true
   },
   "outputs": [
    {
     "name": "stderr",
     "output_type": "stream",
     "text": [
      "/opt/miniconda3/lib/python3.9/site-packages/sklearn/svm/_base.py:1225: ConvergenceWarning: Liblinear failed to converge, increase the number of iterations.\n",
      "  warnings.warn(\n"
     ]
    },
    {
     "name": "stdout",
     "output_type": "stream",
     "text": [
      "Train Accuracy:  0.5193136862692803\n",
      "Test Accuracy:  0.5104 \n",
      "\n",
      "Predictions:\n",
      "['CH' 'CU' 'FF' 'SI' 'SL']\n",
      "[ 486  863 3166  194  916] \n",
      "\n",
      "Actual:\n",
      "['CH' 'CU' 'FF' 'SI' 'SL']\n",
      "[ 758  939 3277   38  613] \n",
      "\n"
     ]
    },
    {
     "name": "stderr",
     "output_type": "stream",
     "text": [
      "/opt/miniconda3/lib/python3.9/site-packages/sklearn/svm/_base.py:1225: ConvergenceWarning: Liblinear failed to converge, increase the number of iterations.\n",
      "  warnings.warn(\n"
     ]
    },
    {
     "name": "stdout",
     "output_type": "stream",
     "text": [
      "Train Accuracy:  0.519580388496244\n",
      "Test Accuracy:  0.5127111111111111 \n",
      "\n",
      "Predictions:\n",
      "['CH' 'CU' 'FF' 'SI' 'SL']\n",
      "[ 496  890 3202  171  866] \n",
      "\n",
      "Actual:\n",
      "['CH' 'CU' 'FF' 'SI' 'SL']\n",
      "[ 757  939 3277   39  613] \n",
      "\n"
     ]
    },
    {
     "name": "stderr",
     "output_type": "stream",
     "text": [
      "/opt/miniconda3/lib/python3.9/site-packages/sklearn/svm/_base.py:1225: ConvergenceWarning: Liblinear failed to converge, increase the number of iterations.\n",
      "  warnings.warn(\n"
     ]
    },
    {
     "name": "stdout",
     "output_type": "stream",
     "text": [
      "Train Accuracy:  0.5170237354431505\n",
      "Test Accuracy:  0.5026671408250356 \n",
      "\n",
      "Predictions:\n",
      "['CH' 'CU' 'FF' 'SI' 'SL']\n",
      "[ 442  859 3123  223  977] \n",
      "\n",
      "Actual:\n",
      "['CH' 'CU' 'FF' 'SI' 'SL']\n",
      "[ 757  939 3278   38  612] \n",
      "\n"
     ]
    },
    {
     "name": "stderr",
     "output_type": "stream",
     "text": [
      "/opt/miniconda3/lib/python3.9/site-packages/sklearn/svm/_base.py:1225: ConvergenceWarning: Liblinear failed to converge, increase the number of iterations.\n",
      "  warnings.warn(\n"
     ]
    },
    {
     "name": "stdout",
     "output_type": "stream",
     "text": [
      "Train Accuracy:  0.5132900702284647\n",
      "Test Accuracy:  0.5147581792318634 \n",
      "\n",
      "Predictions:\n",
      "['CH' 'CU' 'FF' 'SI' 'SL']\n",
      "[ 497  787 3188  204  948] \n",
      "\n",
      "Actual:\n",
      "['CH' 'CU' 'FF' 'SI' 'SL']\n",
      "[ 757  939 3278   38  612] \n",
      "\n",
      "Train Accuracy:  0.514934660858743\n",
      "Test Accuracy:  0.5257823613086771 \n",
      "\n",
      "Predictions:\n",
      "['CH' 'CU' 'FF' 'SI' 'SL']\n",
      "[ 438  791 3242  232  921] \n",
      "\n",
      "Actual:\n",
      "['CH' 'CU' 'FF' 'SI' 'SL']\n",
      "[ 758  938 3278   38  612] \n",
      "\n"
     ]
    },
    {
     "name": "stderr",
     "output_type": "stream",
     "text": [
      "/opt/miniconda3/lib/python3.9/site-packages/sklearn/svm/_base.py:1225: ConvergenceWarning: Liblinear failed to converge, increase the number of iterations.\n",
      "  warnings.warn(\n"
     ]
    }
   ],
   "source": [
    "# Linear SVC - Whole Features: PCA 95% (53 features)\n",
    "svm_whole_pca_models = []\n",
    "svm_whole_pca_train_accs = []\n",
    "svm_whole_pca_test_accs = []\n",
    "\n",
    "skf = StratifiedKFold(n_splits=5, shuffle=True, random_state=42)\n",
    "\n",
    "for train_index, test_index in skf.split(X_whole, y):\n",
    "    X_train, X_test = X_whole[train_index], X_whole[test_index]\n",
    "    y_train, y_test = y[train_index], y[test_index]\n",
    "    \n",
    "    classes, class_counts = np.unique(y_train, return_counts=True)\n",
    "    class_weights = dict(zip(classes, len(y_train) / (len(classes) * class_counts)))\n",
    "    \n",
    "    scaler = MinMaxScaler()\n",
    "    scaled_X_train = scaler.fit_transform(X_train)\n",
    "    scaled_X_test = scaler.transform(X_test)\n",
    "    \n",
    "    pca = PCA(n_components=0.95, svd_solver='full')\n",
    "    reduced_X_train = pca.fit_transform(scaled_X_train)\n",
    "    reduced_X_test = pca.transform(scaled_X_test)\n",
    "    \n",
    "    model = LinearSVC(max_iter=1000, class_weight=class_weights)\n",
    "    \n",
    "    model.fit(reduced_X_train, y_train)\n",
    "    \n",
    "    test_acc = model.score(reduced_X_test, y_test)\n",
    "    train_acc = model.score(reduced_X_train, y_train)\n",
    "    print(\"Train Accuracy: \", train_acc)\n",
    "    print(\"Test Accuracy: \", test_acc, \"\\n\")\n",
    "    \n",
    "    print(\"Predictions:\")\n",
    "    print(np.unique(model.predict(reduced_X_test)))\n",
    "    print(np.unique(model.predict(reduced_X_test), return_counts=True)[1], \"\\n\")\n",
    "    print(\"Actual:\")\n",
    "    print(np.unique(y_test))\n",
    "    print(np.unique(y_test, return_counts=True)[1], \"\\n\")\n",
    "    \n",
    "    svm_whole_pca_train_accs.append(train_acc)\n",
    "    svm_whole_pca_test_accs.append(test_acc)\n",
    "    svm_whole_pca_models.append(model)"
   ]
  },
  {
   "cell_type": "code",
   "execution_count": 13,
   "id": "67b2b0fa",
   "metadata": {},
   "outputs": [],
   "source": [
    "from sklearn.metrics import confusion_matrix, ConfusionMatrixDisplay\n",
    "import matplotlib.pyplot as plt"
   ]
  },
  {
   "cell_type": "code",
   "execution_count": 14,
   "id": "043d2285",
   "metadata": {},
   "outputs": [
    {
     "data": {
      "image/png": "[encoded data removed]",
      "text/plain": [
       "<Figure size 640x480 with 2 Axes>"
      ]
     },
     "metadata": {},
     "output_type": "display_data"
    },
    {
     "data": {
      "image/png": "[encoded data removed]",
      "text/plain": [
       "<Figure size 640x480 with 2 Axes>"
      ]
     },
     "metadata": {},
     "output_type": "display_data"
    },
    {
     "data": {
      "image/png": "[encoded data removed]",
      "text/plain": [
       "<Figure size 640x480 with 2 Axes>"
      ]
     },
     "metadata": {},
     "output_type": "display_data"
    },
    {
     "data": {
      "image/png": "[encoded data removed]",
      "text/plain": [
       "<Figure size 640x480 with 2 Axes>"
      ]
     },
     "metadata": {},
     "output_type": "display_data"
    },
    {
     "data": {
      "image/png": "[encoded data removed]",
      "text/plain": [
       "<Figure size 640x480 with 2 Axes>"
      ]
     },
     "metadata": {},
     "output_type": "display_data"
    }
   ],
   "source": [
    "# Linear SVC - Whole Features: PCA 95% (53 features)\n",
    "for fold, (train_index, test_index) in enumerate(skf.split(X_whole, y)):\n",
    "    X_train, X_test = X_whole[train_index], X_whole[test_index]\n",
    "    y_train, y_test = y[train_index], y[test_index]\n",
    "    \n",
    "    scaler = MinMaxScaler()\n",
    "    scaled_X_train = scaler.fit_transform(X_train)\n",
    "    scaled_X_test = scaler.transform(X_test)\n",
    "    \n",
    "    pca = PCA(n_components=0.95, svd_solver='full')\n",
    "    reduced_X_train = pca.fit_transform(scaled_X_train)\n",
    "    reduced_X_test = pca.transform(scaled_X_test)\n",
    "    \n",
    "    model = svm_whole_pca_models[fold]\n",
    "\n",
    "    # \"pred\" - Probability: Given Predicted X, what is probability it is actually Y?\n",
    "    # \"true\" - Probability: Given Actually Y, what is probability we guessed X?\n",
    "    cm = confusion_matrix(y_test, model.predict(reduced_X_test), labels=model.classes_, normalize='pred')\n",
    "    disp = ConfusionMatrixDisplay(confusion_matrix=cm,\n",
    "                                  display_labels=model.classes_)\n",
    "    disp.plot()\n",
    "    plt.show()"
   ]
  },
  {
   "cell_type": "markdown",
   "id": "05ee3c31",
   "metadata": {},
   "source": [
    "## Ensemble"
   ]
  },
  {
   "cell_type": "code",
   "execution_count": 20,
   "id": "8d3ca6fe",
   "metadata": {},
   "outputs": [],
   "source": [
    "from sklearn.ensemble import VotingClassifier"
   ]
  },
  {
   "cell_type": "code",
   "execution_count": 30,
   "id": "a1bcedae",
   "metadata": {
    "scrolled": true
   },
   "outputs": [
    {
     "name": "stdout",
     "output_type": "stream",
     "text": [
      "Train Accuracy:  0.533537805040672\n",
      "Test Accuracy:  0.5178666666666667 \n",
      "\n",
      "Predictions:\n",
      "['CH' 'CU' 'FF' 'SI' 'SL']\n",
      "[ 472  905 3231   96  921] \n",
      "\n",
      "Actual:\n",
      "['CH' 'CU' 'FF' 'SI' 'SL']\n",
      "[ 758  939 3277   38  613] \n",
      "\n",
      "Train Accuracy:  0.5273147530781882\n",
      "Test Accuracy:  0.5184 \n",
      "\n",
      "Predictions:\n",
      "['CH' 'CU' 'FF' 'SI' 'SL']\n",
      "[ 529  867 3152   69 1008] \n",
      "\n",
      "Actual:\n",
      "['CH' 'CU' 'FF' 'SI' 'SL']\n",
      "[ 757  939 3277   39  613] \n",
      "\n",
      "Train Accuracy:  0.5337363321184105\n",
      "Test Accuracy:  0.5211593172119487 \n",
      "\n",
      "Predictions:\n",
      "['CH' 'CU' 'FF' 'SI' 'SL']\n",
      "[ 523  883 3188   91  939] \n",
      "\n",
      "Actual:\n",
      "['CH' 'CU' 'FF' 'SI' 'SL']\n",
      "[ 757  939 3278   38  612] \n",
      "\n",
      "Train Accuracy:  0.5285358698550983\n",
      "Test Accuracy:  0.52649359886202 \n",
      "\n",
      "Predictions:\n",
      "['CH' 'CU' 'FF' 'SI' 'SL']\n",
      "[ 540  773 3210   97 1004] \n",
      "\n",
      "Actual:\n",
      "['CH' 'CU' 'FF' 'SI' 'SL']\n",
      "[ 757  939 3278   38  612] \n",
      "\n",
      "Train Accuracy:  0.5339141257000622\n",
      "Test Accuracy:  0.5430298719772404 \n",
      "\n",
      "Predictions:\n",
      "['CH' 'CU' 'FF' 'SI' 'SL']\n",
      "[ 484  852 3348   92  848] \n",
      "\n",
      "Actual:\n",
      "['CH' 'CU' 'FF' 'SI' 'SL']\n",
      "[ 758  938 3278   38  612] \n",
      "\n"
     ]
    }
   ],
   "source": [
    "# Ensemble of LogReg Models\n",
    "ensemble_models = []\n",
    "ensemble_train_accs = []\n",
    "ensemble_test_accs = []\n",
    "\n",
    "skf = StratifiedKFold(n_splits=5, shuffle=True, random_state=42)\n",
    "\n",
    "for fold, (train_index, test_index) in enumerate(skf.split(X_whole, y)):\n",
    "    X_train, X_test = X_whole[train_index], X_whole[test_index]\n",
    "    y_train, y_test = y[train_index], y[test_index]\n",
    "    \n",
    "    scaler = MinMaxScaler()\n",
    "    scaled_X_train = scaler.fit_transform(X_train)\n",
    "    scaled_X_test = scaler.transform(X_test)\n",
    "    \n",
    "    pca = PCA(n_components=0.95, svd_solver='full')\n",
    "    reduced_X_train = pca.fit_transform(scaled_X_train)\n",
    "    reduced_X_test = pca.transform(scaled_X_test)\n",
    "    \n",
    "    svm_pca_model = svm_whole_pca_models[fold]\n",
    "    svm_stdz_model = svm_whole_reg_models[fold]\n",
    "    svm_model = svm_whole_models[fold]\n",
    "\n",
    "    pca_mod_probs_train = svm_pca_model.predict(reduced_X_train)\n",
    "    stdz_mod_probs_train = svm_stdz_model.predict(scaled_X_train)\n",
    "    mod_probs_train = svm_model.predict(X_train)\n",
    "    \n",
    "    pca_mod_probs_test = svm_pca_model.predict(reduced_X_test)\n",
    "    stdz_mod_probs_test = svm_stdz_model.predict(scaled_X_test)\n",
    "    mod_probs_test = svm_model.predict(X_test)\n",
    "    \n",
    "#     print(\"Agreement PCA-STDZ: \", np.mean(pca_mod_probs_test == stdz_mod_probs_test))\n",
    "#     print(\"Agreement PCA-REGULAR: \", np.mean(pca_mod_probs_test == mod_probs_test))\n",
    "#     print(\"Agreement STDZ-REGULAR: \", np.mean(stdz_mod_probs_test == mod_probs_test))\n",
    "    \n",
    "    model_prob_votes_train = np.hstack([pca_mod_probs_train.reshape(-1, 1), stdz_mod_probs_train.reshape(-1, 1), mod_probs_train.reshape(-1, 1)])\n",
    "    model_prob_votes_test = np.hstack([pca_mod_probs_test.reshape(-1, 1), stdz_mod_probs_test.reshape(-1, 1), mod_probs_test.reshape(-1, 1)])\n",
    "    \n",
    "    train_pred = []\n",
    "    for votes in model_prob_votes_train:\n",
    "        values, counts = np.unique(votes, return_counts=True)\n",
    "        train_pred.append(values[np.argmax(counts)])\n",
    "    train_pred = np.array(train_pred)\n",
    "    \n",
    "    test_pred = []\n",
    "    for votes in model_prob_votes_test:\n",
    "        values, counts = np.unique(votes, return_counts=True)\n",
    "        test_pred.append(values[np.argmax(counts)])\n",
    "    test_pred = np.array(test_pred)\n",
    "    \n",
    "    train_acc = np.mean(train_pred == y_train)\n",
    "    test_acc = np.mean(test_pred == y_test)\n",
    "    print(\"Train Accuracy: \", train_acc)\n",
    "    print(\"Test Accuracy: \", test_acc, \"\\n\")\n",
    "    \n",
    "    print(\"Predictions:\")\n",
    "    print(np.unique(test_pred))\n",
    "    print(np.unique(test_pred, return_counts=True)[1], \"\\n\")\n",
    "    print(\"Actual:\")\n",
    "    print(np.unique(y_test))\n",
    "    print(np.unique(y_test, return_counts=True)[1], \"\\n\")"
   ]
  },
  {
   "cell_type": "code",
   "execution_count": 32,
   "id": "b18ff98b",
   "metadata": {},
   "outputs": [
    {
     "name": "stdout",
     "output_type": "stream",
     "text": [
      "0.5270425879089071 \t 0.5233995764185237\n",
      "0.5171040484006337 \t 0.511983461356093\n",
      "0.5401999072560333 \t 0.5397196586059745\n",
      "\t 0.5233626932195353\n",
      "\t 0.49516434961277067\n",
      "\t 0.4851009009009009\n",
      "0.5168285082591766 \t 0.5132637584953375\n",
      "\t 0.494274512407144\n",
      "\t 0.48289615299510036\n"
     ]
    }
   ],
   "source": [
    "print(np.mean(svm_whole_train_accs), \"\\t\", np.mean(svm_whole_test_accs))\n",
    "\n",
    "print(np.mean(svm_wo_recurse_train_accs), \"\\t\", np.mean(svm_wo_recurse_test_accs))\n",
    "\n",
    "print(np.mean(svm_game_sit_train_accs), \"\\t\", np.mean(svm_game_sit_test_accs))\n",
    "\n",
    "print(\"\\t\", np.mean(svm_whole_reg_test_accs))\n",
    "\n",
    "print(\"\\t\", np.mean(svm_wo_recurse_reg_test_accs))\n",
    "\n",
    "print(\"\\t\", np.mean(svm_game_sit_reg_test_accs))\n",
    "\n",
    "print(np.mean(svm_whole_pca_train_accs), \"\\t\", np.mean(svm_whole_pca_test_accs))\n",
    "\n",
    "print(\"\\t\", np.mean(svm_wo_recurse_pca_test_accs))\n",
    "\n",
    "print(\"\\t\", np.mean(svm_game_sit_pca_test_accs))"
   ]
  }
 ],
 "metadata": {
  "kernelspec": {
   "display_name": "Python 3 (ipykernel)",
   "language": "python",
   "name": "python3"
  },
  "language_info": {
   "codemirror_mode": {
    "name": "ipython",
    "version": 3
   },
   "file_extension": ".py",
   "mimetype": "text/x-python",
   "name": "python",
   "nbconvert_exporter": "python",
   "pygments_lexer": "ipython3",
   "version": "3.9.12"
  }
 },
 "nbformat": 4,
 "nbformat_minor": 5
}
