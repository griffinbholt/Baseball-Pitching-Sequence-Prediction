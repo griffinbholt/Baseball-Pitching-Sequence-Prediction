{
 "cells": [
  {
   "cell_type": "code",
   "execution_count": 1,
   "id": "ca5c8b57",
   "metadata": {},
   "outputs": [],
   "source": [
    "# Libraries\n",
    "import numpy as np\n",
    "import pandas as pd\n",
    "from sklearn.svm import LinearSVC\n",
    "from sklearn.model_selection import StratifiedKFold, GridSearchCV\n",
    "from sklearn.preprocessing import MinMaxScaler\n",
    "from sklearn.decomposition import PCA"
   ]
  },
  {
   "cell_type": "code",
   "execution_count": 2,
   "id": "13371c48",
   "metadata": {},
   "outputs": [],
   "source": [
    "# Constants\n",
    "game_sit_feat = ['month', 'year', 'inning', 'inning_topbot', \n",
    "                 'outs', 'strikes', 'balls', 'pitch_number', \n",
    "                 'on_1b', 'on_2b', 'on_3b', 'score_diff', \n",
    "                 'of_std', 'of_strat', 'if_std', 'if_strat', 'if_shift']\n",
    "wo_recursive_feat = game_sit_feat + ['Pitcher_Tend_FF', 'Pitcher_Tend_CU', 'Pitcher_Tend_CH', 'Pitcher_Tend_SL', 'Pitcher_Tend_SI', \n",
    "                                     'Pitcher_Strike_Tend_FF', 'Pitcher_Strike_Tend_CU', 'Pitcher_Strike_Tend_CH', 'Pitcher_Strike_Tend_SL', 'Pitcher_Strike_Tend_SI', \n",
    "                                     'batter_stance', 'Strike_Tend_FF', 'Strike_Tend_CU', 'Strike_Tend_CH', 'Strike_Tend_SL', 'Strike_Tend_SI', 'Overall_Strike_Tend', \n",
    "                                     'Slug_Avg_FF', 'Slug_Avg_CU', 'Slug_Avg_CH', 'Slug_Avg_SL', 'Slug_Avg_SI', 'Overall_Slug_Avg', \n",
    "                                     'Zone_1_Strike_Pcnt', 'Zone_2_Strike_Pcnt', 'Zone_3_Strike_Pcnt', 'Zone_4_Strike_Pcnt', 'Zone_5_Strike_Pcnt', 'Zone_6_Strike_Pcnt', 'Zone_7_Strike_Pcnt', 'Zone_8_Strike_Pcnt', 'Zone_9_Strike_Pcnt', 'Zone_11_Strike_Pcnt', 'Zone_12_Strike_Pcnt', 'Zone_13_Strike_Pcnt', 'Zone_14_Strike_Pcnt']"
   ]
  },
  {
   "cell_type": "code",
   "execution_count": 3,
   "id": "6758248f",
   "metadata": {},
   "outputs": [],
   "source": [
    "# Import the data\n",
    "X_whole = pd.read_csv(\"../data/VerlanderOnly_X_train.csv\").to_numpy()\n",
    "y = pd.read_csv(\"../data/VerlanderOnly_y_train.csv\").to_numpy().T[0]\n",
    "\n",
    "verlander_cols = np.array(pd.read_csv(\"../data/VerlanderOnlyDataset.csv\", index_col=0).columns)\n",
    "game_sit_cols = np.where(np.isin(verlander_cols, game_sit_feat))[0] - 1\n",
    "wo_recursive_cols = np.where(np.isin(verlander_cols, wo_recursive_feat))[0] - 1\n",
    "\n",
    "X_game_sit = X_whole[:, game_sit_cols]\n",
    "X_wo_recurse = X_whole[:, wo_recursive_cols]"
   ]
  },
  {
   "cell_type": "markdown",
   "id": "63dd2bc3",
   "metadata": {},
   "source": [
    "## Non-Regularized"
   ]
  },
  {
   "cell_type": "code",
   "execution_count": 4,
   "id": "4e7d5e01",
   "metadata": {
    "scrolled": true
   },
   "outputs": [
    {
     "name": "stderr",
     "output_type": "stream",
     "text": [
      "/opt/miniconda3/lib/python3.9/site-packages/sklearn/svm/_base.py:1225: ConvergenceWarning: Liblinear failed to converge, increase the number of iterations.\n",
      "  warnings.warn(\n"
     ]
    },
    {
     "name": "stdout",
     "output_type": "stream",
     "text": [
      "Train Accuracy:  0.581899808863404\n",
      "Test Accuracy:  0.5820444444444445\n",
      "Predictions:\n",
      "['CH' 'CU' 'FF' 'SI' 'SL']\n",
      "[  20  373 5221    9    2] \n",
      "\n",
      "Actual:\n",
      "['CH' 'CU' 'FF' 'SI' 'SL']\n",
      "[ 758  939 3277   38  613] \n",
      "\n"
     ]
    },
    {
     "name": "stderr",
     "output_type": "stream",
     "text": [
      "/opt/miniconda3/lib/python3.9/site-packages/sklearn/svm/_base.py:1225: ConvergenceWarning: Liblinear failed to converge, increase the number of iterations.\n",
      "  warnings.warn(\n"
     ]
    },
    {
     "name": "stdout",
     "output_type": "stream",
     "text": [
      "Train Accuracy:  0.5848779837311642\n",
      "Test Accuracy:  0.5799111111111112\n",
      "Predictions:\n",
      "['CH' 'CU' 'FF' 'SI' 'SL']\n",
      "[  13  171 5426   10    5] \n",
      "\n",
      "Actual:\n",
      "['CH' 'CU' 'FF' 'SI' 'SL']\n",
      "[ 757  939 3277   39  613] \n",
      "\n"
     ]
    },
    {
     "name": "stderr",
     "output_type": "stream",
     "text": [
      "/opt/miniconda3/lib/python3.9/site-packages/sklearn/svm/_base.py:1225: ConvergenceWarning: Liblinear failed to converge, increase the number of iterations.\n",
      "  warnings.warn(\n"
     ]
    },
    {
     "name": "stdout",
     "output_type": "stream",
     "text": [
      "Train Accuracy:  0.583696328562539\n",
      "Test Accuracy:  0.5807254623044097\n",
      "Predictions:\n",
      "['CH' 'CU' 'FF' 'SI' 'SL']\n",
      "[  30  231 5349    7    7] \n",
      "\n",
      "Actual:\n",
      "['CH' 'CU' 'FF' 'SI' 'SL']\n",
      "[ 757  939 3278   38  612] \n",
      "\n"
     ]
    },
    {
     "name": "stderr",
     "output_type": "stream",
     "text": [
      "/opt/miniconda3/lib/python3.9/site-packages/sklearn/svm/_base.py:1225: ConvergenceWarning: Liblinear failed to converge, increase the number of iterations.\n",
      "  warnings.warn(\n"
     ]
    },
    {
     "name": "stdout",
     "output_type": "stream",
     "text": [
      "Train Accuracy:  0.5834296381900613\n",
      "Test Accuracy:  0.5839260312944523\n",
      "Predictions:\n",
      "['CH' 'CU' 'FF' 'SI' 'SL']\n",
      "[  25  177 5405    1   16] \n",
      "\n",
      "Actual:\n",
      "['CH' 'CU' 'FF' 'SI' 'SL']\n",
      "[ 757  939 3278   38  612] \n",
      "\n",
      "Train Accuracy:  0.582451773490977\n",
      "Test Accuracy:  0.5842816500711238\n",
      "Predictions:\n",
      "['CH' 'CU' 'FF' 'SI' 'SL']\n",
      "[  14  194 5399   14    3] \n",
      "\n",
      "Actual:\n",
      "['CH' 'CU' 'FF' 'SI' 'SL']\n",
      "[ 758  938 3278   38  612] \n",
      "\n"
     ]
    },
    {
     "name": "stderr",
     "output_type": "stream",
     "text": [
      "/opt/miniconda3/lib/python3.9/site-packages/sklearn/svm/_base.py:1225: ConvergenceWarning: Liblinear failed to converge, increase the number of iterations.\n",
      "  warnings.warn(\n"
     ]
    }
   ],
   "source": [
    "# Linear SVM - Without Recursive Features: Non-regularized (53 features)\n",
    "svm_wo_recurse_models = []\n",
    "svm_wo_recurse_train_accs = []\n",
    "svm_wo_recurse_test_accs = []\n",
    "\n",
    "skf = StratifiedKFold(n_splits=5, shuffle=True, random_state=42)\n",
    "\n",
    "for train_index, test_index in skf.split(X_wo_recurse, y):\n",
    "    X_train, X_test = X_wo_recurse[train_index], X_wo_recurse[test_index]\n",
    "    y_train, y_test = y[train_index], y[test_index]\n",
    "    \n",
    "    model = LinearSVC(max_iter=1000)\n",
    "    \n",
    "    model.fit(X_train, y_train)\n",
    "    \n",
    "    test_acc = model.score(X_test, y_test)\n",
    "    train_acc = model.score(X_train, y_train)\n",
    "    print(\"Train Accuracy: \", train_acc)\n",
    "    print(\"Test Accuracy: \", test_acc)\n",
    "    \n",
    "    print(\"Predictions:\")\n",
    "    print(np.unique(model.predict(X_test)))\n",
    "    print(np.unique(model.predict(X_test), return_counts=True)[1], \"\\n\")\n",
    "    print(\"Actual:\")\n",
    "    print(np.unique(y_test))\n",
    "    print(np.unique(y_test, return_counts=True)[1], \"\\n\")\n",
    "    \n",
    "    svm_wo_recurse_train_accs.append(train_acc)\n",
    "    svm_wo_recurse_test_accs.append(test_acc)\n",
    "    svm_wo_recurse_models.append(model)"
   ]
  },
  {
   "cell_type": "code",
   "execution_count": 5,
   "id": "c3728766",
   "metadata": {},
   "outputs": [
    {
     "name": "stderr",
     "output_type": "stream",
     "text": [
      "/opt/miniconda3/lib/python3.9/site-packages/sklearn/svm/_base.py:1225: ConvergenceWarning: Liblinear failed to converge, increase the number of iterations.\n",
      "  warnings.warn(\n"
     ]
    },
    {
     "name": "stdout",
     "output_type": "stream",
     "text": [
      "Train Accuracy:  0.5811886029248344\n",
      "Test Accuracy:  0.5825777777777777\n",
      "Predictions:\n",
      "['CU' 'FF']\n",
      "[ 255 5370] \n",
      "\n",
      "Actual:\n",
      "['CH' 'CU' 'FF' 'SI' 'SL']\n",
      "[ 758  939 3277   38  613] \n",
      "\n"
     ]
    },
    {
     "name": "stderr",
     "output_type": "stream",
     "text": [
      "/opt/miniconda3/lib/python3.9/site-packages/sklearn/svm/_base.py:1225: ConvergenceWarning: Liblinear failed to converge, increase the number of iterations.\n",
      "  warnings.warn(\n"
     ]
    },
    {
     "name": "stdout",
     "output_type": "stream",
     "text": [
      "Train Accuracy:  0.5826110148019736\n",
      "Test Accuracy:  0.5799111111111112\n",
      "Predictions:\n",
      "['CU' 'FF']\n",
      "[ 159 5466] \n",
      "\n",
      "Actual:\n",
      "['CH' 'CU' 'FF' 'SI' 'SL']\n",
      "[ 757  939 3277   39  613] \n",
      "\n"
     ]
    },
    {
     "name": "stderr",
     "output_type": "stream",
     "text": [
      "/opt/miniconda3/lib/python3.9/site-packages/sklearn/svm/_base.py:1225: ConvergenceWarning: Liblinear failed to converge, increase the number of iterations.\n",
      "  warnings.warn(\n"
     ]
    },
    {
     "name": "stdout",
     "output_type": "stream",
     "text": [
      "Train Accuracy:  0.582451773490977\n",
      "Test Accuracy:  0.5819701280227596\n",
      "Predictions:\n",
      "['CU' 'FF']\n",
      "[ 155 5469] \n",
      "\n",
      "Actual:\n",
      "['CH' 'CU' 'FF' 'SI' 'SL']\n",
      "[ 757  939 3278   38  612] \n",
      "\n"
     ]
    },
    {
     "name": "stderr",
     "output_type": "stream",
     "text": [
      "/opt/miniconda3/lib/python3.9/site-packages/sklearn/svm/_base.py:1225: ConvergenceWarning: Liblinear failed to converge, increase the number of iterations.\n",
      "  warnings.warn(\n"
     ]
    },
    {
     "name": "stdout",
     "output_type": "stream",
     "text": [
      "Train Accuracy:  0.5815183571873055\n",
      "Test Accuracy:  0.5833926031294452\n",
      "Predictions:\n",
      "['CU' 'FF' 'SL']\n",
      "[ 202 5421    1] \n",
      "\n",
      "Actual:\n",
      "['CH' 'CU' 'FF' 'SI' 'SL']\n",
      "[ 757  939 3278   38  612] \n",
      "\n",
      "Train Accuracy:  0.5818739443506089\n",
      "Test Accuracy:  0.5812588904694168\n",
      "Predictions:\n",
      "['CU' 'FF']\n",
      "[ 169 5455] \n",
      "\n",
      "Actual:\n",
      "['CH' 'CU' 'FF' 'SI' 'SL']\n",
      "[ 758  938 3278   38  612] \n",
      "\n"
     ]
    },
    {
     "name": "stderr",
     "output_type": "stream",
     "text": [
      "/opt/miniconda3/lib/python3.9/site-packages/sklearn/svm/_base.py:1225: ConvergenceWarning: Liblinear failed to converge, increase the number of iterations.\n",
      "  warnings.warn(\n"
     ]
    }
   ],
   "source": [
    "# Linear SVM - Game Situational Features: Non-regularized (17 features)\n",
    "svm_game_sit_models = []\n",
    "svm_game_sit_train_accs = []\n",
    "svm_game_sit_test_accs = []\n",
    "\n",
    "skf = StratifiedKFold(n_splits=5, shuffle=True, random_state=42)\n",
    "\n",
    "for train_index, test_index in skf.split(X_game_sit, y):\n",
    "    X_train, X_test = X_game_sit[train_index], X_game_sit[test_index]\n",
    "    y_train, y_test = y[train_index], y[test_index]\n",
    "    \n",
    "    model = LinearSVC(max_iter=1000)\n",
    "    \n",
    "    model.fit(X_train, y_train)\n",
    "    \n",
    "    test_acc = model.score(X_test, y_test)\n",
    "    train_acc = model.score(X_train, y_train)\n",
    "    print(\"Train Accuracy: \", train_acc)\n",
    "    print(\"Test Accuracy: \", test_acc)\n",
    "    \n",
    "    print(\"Predictions:\")\n",
    "    print(np.unique(model.predict(X_test)))\n",
    "    print(np.unique(model.predict(X_test), return_counts=True)[1], \"\\n\")\n",
    "    print(\"Actual:\")\n",
    "    print(np.unique(y_test))\n",
    "    print(np.unique(y_test, return_counts=True)[1], \"\\n\")\n",
    "    \n",
    "    svm_game_sit_train_accs.append(train_acc)\n",
    "    svm_game_sit_test_accs.append(test_acc)\n",
    "    svm_game_sit_models.append(model)"
   ]
  },
  {
   "cell_type": "code",
   "execution_count": 6,
   "id": "914ca409",
   "metadata": {
    "scrolled": true
   },
   "outputs": [
    {
     "name": "stderr",
     "output_type": "stream",
     "text": [
      "/opt/miniconda3/lib/python3.9/site-packages/sklearn/svm/_base.py:1225: ConvergenceWarning: Liblinear failed to converge, increase the number of iterations.\n",
      "  warnings.warn(\n"
     ]
    },
    {
     "name": "stdout",
     "output_type": "stream",
     "text": [
      "Train Accuracy:  0.592656798684269\n",
      "Test Accuracy:  0.592\n",
      "Predictions:\n",
      "['CH' 'CU' 'FF' 'SI' 'SL']\n",
      "[  27  284 5216   28   70] \n",
      "\n",
      "Actual:\n",
      "['CH' 'CU' 'FF' 'SI' 'SL']\n",
      "[ 758  939 3277   38  613] \n",
      "\n"
     ]
    },
    {
     "name": "stderr",
     "output_type": "stream",
     "text": [
      "/opt/miniconda3/lib/python3.9/site-packages/sklearn/svm/_base.py:1225: ConvergenceWarning: Liblinear failed to converge, increase the number of iterations.\n",
      "  warnings.warn(\n"
     ]
    },
    {
     "name": "stdout",
     "output_type": "stream",
     "text": [
      "Train Accuracy:  0.5935902564786416\n",
      "Test Accuracy:  0.5898666666666667\n",
      "Predictions:\n",
      "['CH' 'CU' 'FF' 'SI' 'SL']\n",
      "[  33  301 5202   31   58] \n",
      "\n",
      "Actual:\n",
      "['CH' 'CU' 'FF' 'SI' 'SL']\n",
      "[ 757  939 3277   39  613] \n",
      "\n"
     ]
    },
    {
     "name": "stderr",
     "output_type": "stream",
     "text": [
      "/opt/miniconda3/lib/python3.9/site-packages/sklearn/svm/_base.py:1225: ConvergenceWarning: Liblinear failed to converge, increase the number of iterations.\n",
      "  warnings.warn(\n"
     ]
    },
    {
     "name": "stdout",
     "output_type": "stream",
     "text": [
      "Train Accuracy:  0.5916970397368655\n",
      "Test Accuracy:  0.5908605974395448\n",
      "Predictions:\n",
      "['CH' 'CU' 'FF' 'SI' 'SL']\n",
      "[  40  284 5216   31   53] \n",
      "\n",
      "Actual:\n",
      "['CH' 'CU' 'FF' 'SI' 'SL']\n",
      "[ 757  939 3278   38  612] \n",
      "\n"
     ]
    },
    {
     "name": "stderr",
     "output_type": "stream",
     "text": [
      "/opt/miniconda3/lib/python3.9/site-packages/sklearn/svm/_base.py:1225: ConvergenceWarning: Liblinear failed to converge, increase the number of iterations.\n",
      "  warnings.warn(\n"
     ]
    },
    {
     "name": "stdout",
     "output_type": "stream",
     "text": [
      "Train Accuracy:  0.5912970041781491\n",
      "Test Accuracy:  0.5915718349928877\n",
      "Predictions:\n",
      "['CH' 'CU' 'FF' 'SI' 'SL']\n",
      "[  45  303 5150   27   99] \n",
      "\n",
      "Actual:\n",
      "['CH' 'CU' 'FF' 'SI' 'SL']\n",
      "[ 757  939 3278   38  612] \n",
      "\n",
      "Train Accuracy:  0.5934305271579696\n",
      "Test Accuracy:  0.5869487908961594\n",
      "Predictions:\n",
      "['CH' 'CU' 'FF' 'SI' 'SL']\n",
      "[  22  281 5224   30   67] \n",
      "\n",
      "Actual:\n",
      "['CH' 'CU' 'FF' 'SI' 'SL']\n",
      "[ 758  938 3278   38  612] \n",
      "\n"
     ]
    },
    {
     "name": "stderr",
     "output_type": "stream",
     "text": [
      "/opt/miniconda3/lib/python3.9/site-packages/sklearn/svm/_base.py:1225: ConvergenceWarning: Liblinear failed to converge, increase the number of iterations.\n",
      "  warnings.warn(\n"
     ]
    }
   ],
   "source": [
    "# Linear SVM - All Features: Non-regularized (100 features)\n",
    "svm_whole_models = []\n",
    "svm_whole_train_accs = []\n",
    "svm_whole_test_accs = []\n",
    "\n",
    "skf = StratifiedKFold(n_splits=5, shuffle=True, random_state=42)\n",
    "\n",
    "for train_index, test_index in skf.split(X_whole, y):\n",
    "    X_train, X_test = X_whole[train_index], X_whole[test_index]\n",
    "    y_train, y_test = y[train_index], y[test_index]\n",
    "\n",
    "    model = LinearSVC(max_iter=1000)\n",
    "    \n",
    "    model.fit(X_train, y_train)\n",
    "    \n",
    "    test_acc = model.score(X_test, y_test)\n",
    "    train_acc = model.score(X_train, y_train)\n",
    "    print(\"Train Accuracy: \", train_acc)\n",
    "    print(\"Test Accuracy: \", test_acc)\n",
    "    \n",
    "    print(\"Predictions:\")\n",
    "    print(np.unique(model.predict(X_test)))\n",
    "    print(np.unique(model.predict(X_test), return_counts=True)[1], \"\\n\")\n",
    "    print(\"Actual:\")\n",
    "    print(np.unique(y_test))\n",
    "    print(np.unique(y_test, return_counts=True)[1], \"\\n\")\n",
    "    \n",
    "    svm_whole_train_accs.append(train_acc)\n",
    "    svm_whole_test_accs.append(test_acc)\n",
    "    svm_whole_models.append(model)"
   ]
  },
  {
   "cell_type": "markdown",
   "id": "8efca7ac",
   "metadata": {},
   "source": [
    "## Regularized"
   ]
  },
  {
   "cell_type": "code",
   "execution_count": 7,
   "id": "06b51f6d",
   "metadata": {},
   "outputs": [
    {
     "name": "stdout",
     "output_type": "stream",
     "text": [
      "Train Accuracy:  0.5833666711117038\n",
      "Test Accuracy:  0.5856\n",
      "Predictions:\n",
      "['CH' 'CU' 'FF' 'SI' 'SL']\n",
      "[  20  239 5349   10    7] \n",
      "\n",
      "Actual:\n",
      "['CH' 'CU' 'FF' 'SI' 'SL']\n",
      "[ 758  939 3277   38  613] \n",
      "\n",
      "Train Accuracy:  0.5848779837311642\n",
      "Test Accuracy:  0.5777777777777777\n",
      "Predictions:\n",
      "['CH' 'CU' 'FF' 'SI' 'SL']\n",
      "[  11  213 5384   12    5] \n",
      "\n",
      "Actual:\n",
      "['CH' 'CU' 'FF' 'SI' 'SL']\n",
      "[ 757  939 3277   39  613] \n",
      "\n",
      "Train Accuracy:  0.5835629833763001\n",
      "Test Accuracy:  0.5785917496443812\n",
      "Predictions:\n",
      "['CH' 'CU' 'FF' 'SI' 'SL']\n",
      "[  29  248 5333    9    5] \n",
      "\n",
      "Actual:\n",
      "['CH' 'CU' 'FF' 'SI' 'SL']\n",
      "[ 757  939 3278   38  612] \n",
      "\n",
      "Train Accuracy:  0.5824962218863899\n",
      "Test Accuracy:  0.585348506401138\n",
      "Predictions:\n",
      "['CH' 'CU' 'FF' 'SI' 'SL']\n",
      "[  22  231 5359    3    9] \n",
      "\n",
      "Actual:\n",
      "['CH' 'CU' 'FF' 'SI' 'SL']\n",
      "[ 757  939 3278   38  612] \n",
      "\n",
      "Train Accuracy:  0.5828518090496934\n",
      "Test Accuracy:  0.5839260312944523\n",
      "Predictions:\n",
      "['CH' 'CU' 'FF' 'SI' 'SL']\n",
      "[  12  194 5399   15    4] \n",
      "\n",
      "Actual:\n",
      "['CH' 'CU' 'FF' 'SI' 'SL']\n",
      "[ 758  938 3278   38  612] \n",
      "\n"
     ]
    }
   ],
   "source": [
    "# Linear SVM - Without Recursive Features: Regularized (53 features)\n",
    "svm_wo_recurse_reg_models = []\n",
    "svm_wo_recurse_reg_test_accs = []\n",
    "\n",
    "skf = StratifiedKFold(n_splits=5, shuffle=True, random_state=42)\n",
    "\n",
    "for train_index, test_index in skf.split(X_wo_recurse, y):\n",
    "    X_train, X_test = X_wo_recurse[train_index], X_wo_recurse[test_index]\n",
    "    y_train, y_test = y[train_index], y[test_index]\n",
    "\n",
    "    scaler = MinMaxScaler()\n",
    "    scaled_X_train = scaler.fit_transform(X_train)\n",
    "    scaled_X_test = scaler.transform(X_test)\n",
    "    \n",
    "    model = LinearSVC(max_iter=1000)\n",
    "    \n",
    "    model.fit(scaled_X_train, y_train)\n",
    "    \n",
    "    test_acc = model.score(scaled_X_test, y_test)\n",
    "    train_acc = model.score(scaled_X_train, y_train)\n",
    "    print(\"Train Accuracy: \", train_acc)\n",
    "    print(\"Test Accuracy: \", test_acc)\n",
    "    \n",
    "    print(\"Predictions:\")\n",
    "    print(np.unique(model.predict(scaled_X_test)))\n",
    "    print(np.unique(model.predict(scaled_X_test), return_counts=True)[1], \"\\n\")\n",
    "    print(\"Actual:\")\n",
    "    print(np.unique(y_test))\n",
    "    print(np.unique(y_test, return_counts=True)[1], \"\\n\")\n",
    "    \n",
    "    svm_wo_recurse_reg_test_accs.append(test_acc)\n",
    "    svm_wo_recurse_reg_models.append(model)"
   ]
  },
  {
   "cell_type": "code",
   "execution_count": 8,
   "id": "29a09c5e",
   "metadata": {},
   "outputs": [
    {
     "name": "stdout",
     "output_type": "stream",
     "text": [
      "Train Accuracy:  0.5815442058941193\n",
      "Test Accuracy:  0.5829333333333333\n",
      "Predictions:\n",
      "['CU' 'FF']\n",
      "[ 207 5418] \n",
      "\n",
      "Actual:\n",
      "['CH' 'CU' 'FF' 'SI' 'SL']\n",
      "[ 758  939 3277   38  613] \n",
      "\n",
      "Train Accuracy:  0.5829666177712584\n",
      "Test Accuracy:  0.5783111111111111\n",
      "Predictions:\n",
      "['CU' 'FF']\n",
      "[ 200 5425] \n",
      "\n",
      "Actual:\n",
      "['CH' 'CU' 'FF' 'SI' 'SL']\n",
      "[ 757  939 3277   39  613] \n",
      "\n",
      "Train Accuracy:  0.5823628767001511\n",
      "Test Accuracy:  0.5782361308677099\n",
      "Predictions:\n",
      "['CU' 'FF']\n",
      "[ 227 5397] \n",
      "\n",
      "Actual:\n",
      "['CH' 'CU' 'FF' 'SI' 'SL']\n",
      "[ 757  939 3278   38  612] \n",
      "\n",
      "Train Accuracy:  0.5812961152102409\n",
      "Test Accuracy:  0.5830369843527738\n",
      "Predictions:\n",
      "['CU' 'FF']\n",
      "[ 214 5410] \n",
      "\n",
      "Actual:\n",
      "['CH' 'CU' 'FF' 'SI' 'SL']\n",
      "[ 757  939 3278   38  612] \n",
      "\n",
      "Train Accuracy:  0.5820072895368478\n",
      "Test Accuracy:  0.5814366998577525\n",
      "Predictions:\n",
      "['CU' 'FF']\n",
      "[ 158 5466] \n",
      "\n",
      "Actual:\n",
      "['CH' 'CU' 'FF' 'SI' 'SL']\n",
      "[ 758  938 3278   38  612] \n",
      "\n"
     ]
    }
   ],
   "source": [
    "# LinearSVC - Game Situational Features: Regularized (17 features)\n",
    "svm_game_sit_reg_models = []\n",
    "svm_game_sit_reg_test_accs = []\n",
    "\n",
    "skf = StratifiedKFold(n_splits=5, shuffle=True, random_state=42)\n",
    "\n",
    "for train_index, test_index in skf.split(X_game_sit, y):\n",
    "    X_train, X_test = X_game_sit[train_index], X_game_sit[test_index]\n",
    "    y_train, y_test = y[train_index], y[test_index]\n",
    "    \n",
    "    scaler = MinMaxScaler()\n",
    "    scaled_X_train = scaler.fit_transform(X_train)\n",
    "    scaled_X_test = scaler.transform(X_test)\n",
    "    \n",
    "    model = LinearSVC(max_iter=1000)\n",
    "    \n",
    "    model.fit(scaled_X_train, y_train)\n",
    "    \n",
    "    test_acc = model.score(scaled_X_test, y_test)\n",
    "    train_acc = model.score(scaled_X_train, y_train)\n",
    "    print(\"Train Accuracy: \", train_acc)\n",
    "    print(\"Test Accuracy: \", test_acc)\n",
    "    \n",
    "    print(\"Predictions:\")\n",
    "    print(np.unique(model.predict(scaled_X_test)))\n",
    "    print(np.unique(model.predict(scaled_X_test), return_counts=True)[1], \"\\n\")\n",
    "    print(\"Actual:\")\n",
    "    print(np.unique(y_test))\n",
    "    print(np.unique(y_test, return_counts=True)[1], \"\\n\")\n",
    "    \n",
    "    svm_game_sit_reg_test_accs.append(test_acc)\n",
    "    svm_game_sit_reg_models.append(model)"
   ]
  },
  {
   "cell_type": "code",
   "execution_count": 9,
   "id": "2c4f22aa",
   "metadata": {},
   "outputs": [
    {
     "name": "stderr",
     "output_type": "stream",
     "text": [
      "/opt/miniconda3/lib/python3.9/site-packages/sklearn/svm/_base.py:1225: ConvergenceWarning: Liblinear failed to converge, increase the number of iterations.\n",
      "  warnings.warn(\n"
     ]
    },
    {
     "name": "stdout",
     "output_type": "stream",
     "text": [
      "Train Accuracy:  0.5927901497977508\n",
      "Test Accuracy:  0.5889777777777778\n",
      "Predictions:\n",
      "['CH' 'CU' 'FF' 'SI' 'SL']\n",
      "[  35  353 5151   23   63] \n",
      "\n",
      "Actual:\n",
      "['CH' 'CU' 'FF' 'SI' 'SL']\n",
      "[ 758  939 3277   38  613] \n",
      "\n",
      "Train Accuracy:  0.593323554251678\n",
      "Test Accuracy:  0.5898666666666667\n",
      "Predictions:\n",
      "['CH' 'CU' 'FF' 'SI' 'SL']\n",
      "[  36  307 5190   31   61] \n",
      "\n",
      "Actual:\n",
      "['CH' 'CU' 'FF' 'SI' 'SL']\n",
      "[ 757  939 3277   39  613] \n",
      "\n"
     ]
    },
    {
     "name": "stderr",
     "output_type": "stream",
     "text": [
      "/opt/miniconda3/lib/python3.9/site-packages/sklearn/svm/_base.py:1225: ConvergenceWarning: Liblinear failed to converge, increase the number of iterations.\n",
      "  warnings.warn(\n"
     ]
    },
    {
     "name": "stdout",
     "output_type": "stream",
     "text": [
      "Train Accuracy:  0.5922748688772336\n",
      "Test Accuracy:  0.5915718349928877\n",
      "Predictions:\n",
      "['CH' 'CU' 'FF' 'SI' 'SL']\n",
      "[  41  314 5166   33   70] \n",
      "\n",
      "Actual:\n",
      "['CH' 'CU' 'FF' 'SI' 'SL']\n",
      "[ 757  939 3278   38  612] \n",
      "\n"
     ]
    },
    {
     "name": "stderr",
     "output_type": "stream",
     "text": [
      "/opt/miniconda3/lib/python3.9/site-packages/sklearn/svm/_base.py:1225: ConvergenceWarning: Liblinear failed to converge, increase the number of iterations.\n",
      "  warnings.warn(\n"
     ]
    },
    {
     "name": "stdout",
     "output_type": "stream",
     "text": [
      "Train Accuracy:  0.5912525557827363\n",
      "Test Accuracy:  0.5913940256045519\n",
      "Predictions:\n",
      "['CH' 'CU' 'FF' 'SI' 'SL']\n",
      "[  37  296 5170   27   94] \n",
      "\n",
      "Actual:\n",
      "['CH' 'CU' 'FF' 'SI' 'SL']\n",
      "[ 757  939 3278   38  612] \n",
      "\n",
      "Train Accuracy:  0.5929860432038403\n",
      "Test Accuracy:  0.5874822190611664\n",
      "Predictions:\n",
      "['CH' 'CU' 'FF' 'SI' 'SL']\n",
      "[  25  246 5245   31   77] \n",
      "\n",
      "Actual:\n",
      "['CH' 'CU' 'FF' 'SI' 'SL']\n",
      "[ 758  938 3278   38  612] \n",
      "\n"
     ]
    },
    {
     "name": "stderr",
     "output_type": "stream",
     "text": [
      "/opt/miniconda3/lib/python3.9/site-packages/sklearn/svm/_base.py:1225: ConvergenceWarning: Liblinear failed to converge, increase the number of iterations.\n",
      "  warnings.warn(\n"
     ]
    }
   ],
   "source": [
    "# Linear SVC - All Features: Regularized (100 features)\n",
    "svm_whole_reg_models = []\n",
    "svm_whole_reg_test_accs = []\n",
    "\n",
    "skf = StratifiedKFold(n_splits=5, shuffle=True, random_state=42)\n",
    "\n",
    "for train_index, test_index in skf.split(X_whole, y):\n",
    "    X_train, X_test = X_whole[train_index], X_whole[test_index]\n",
    "    y_train, y_test = y[train_index], y[test_index]\n",
    "\n",
    "    scaler = MinMaxScaler()\n",
    "    scaled_X_train = scaler.fit_transform(X_train)\n",
    "    scaled_X_test = scaler.transform(X_test)\n",
    "    \n",
    "    model = LinearSVC(max_iter=1000)\n",
    "    \n",
    "    model.fit(scaled_X_train, y_train)\n",
    "    \n",
    "    test_acc = model.score(scaled_X_test, y_test)\n",
    "    train_acc = model.score(scaled_X_train, y_train)\n",
    "    print(\"Train Accuracy: \", train_acc)\n",
    "    print(\"Test Accuracy: \", test_acc)\n",
    "    \n",
    "    print(\"Predictions:\")\n",
    "    print(np.unique(model.predict(scaled_X_test)))\n",
    "    print(np.unique(model.predict(scaled_X_test), return_counts=True)[1], \"\\n\")\n",
    "    print(\"Actual:\")\n",
    "    print(np.unique(y_test))\n",
    "    print(np.unique(y_test, return_counts=True)[1], \"\\n\")\n",
    "    \n",
    "    svm_whole_reg_test_accs.append(test_acc)\n",
    "    svm_whole_reg_models.append(model)"
   ]
  },
  {
   "cell_type": "markdown",
   "id": "16e2fb50",
   "metadata": {},
   "source": [
    "## PCA"
   ]
  },
  {
   "cell_type": "code",
   "execution_count": 10,
   "id": "9459cc85",
   "metadata": {},
   "outputs": [
    {
     "name": "stdout",
     "output_type": "stream",
     "text": [
      "Train Accuracy:  0.5815886562652798\n",
      "Test Accuracy:  0.5836444444444444\n",
      "Predictions:\n",
      "['CU' 'FF' 'SL']\n",
      "[ 219 5403    3] \n",
      "\n",
      "Actual:\n",
      "['CH' 'CU' 'FF' 'SI' 'SL']\n",
      "[ 758  939 3277   38  613] \n",
      "\n",
      "Train Accuracy:  0.5828332666577766\n",
      "Test Accuracy:  0.5792\n",
      "Predictions:\n",
      "['CH' 'CU' 'FF' 'SI' 'SL']\n",
      "[   4  190 5427    2    2] \n",
      "\n",
      "Actual:\n",
      "['CH' 'CU' 'FF' 'SI' 'SL']\n",
      "[ 757  939 3277   39  613] \n",
      "\n",
      "Train Accuracy:  0.5819183927460219\n",
      "Test Accuracy:  0.5778805120910384\n",
      "Predictions:\n",
      "['CH' 'CU' 'FF' 'SL']\n",
      "[   3  234 5385    2] \n",
      "\n",
      "Actual:\n",
      "['CH' 'CU' 'FF' 'SI' 'SL']\n",
      "[ 757  939 3278   38  612] \n",
      "\n",
      "Train Accuracy:  0.5813405636056538\n",
      "Test Accuracy:  0.583570412517781\n",
      "Predictions:\n",
      "['CH' 'CU' 'FF' 'SL']\n",
      "[   9  218 5392    5] \n",
      "\n",
      "Actual:\n",
      "['CH' 'CU' 'FF' 'SI' 'SL']\n",
      "[ 757  939 3278   38  612] \n",
      "\n",
      "Train Accuracy:  0.5813850120010667\n",
      "Test Accuracy:  0.5832147937411095\n",
      "Predictions:\n",
      "['CH' 'CU' 'FF' 'SL']\n",
      "[   1  172 5446    5] \n",
      "\n",
      "Actual:\n",
      "['CH' 'CU' 'FF' 'SI' 'SL']\n",
      "[ 758  938 3278   38  612] \n",
      "\n"
     ]
    }
   ],
   "source": [
    "# Linear SVM - Without Recursive Features: PCA 95% (53 features)\n",
    "svm_wo_recurse_pca_models = []\n",
    "svm_wo_recurse_pca_test_accs = []\n",
    "\n",
    "skf = StratifiedKFold(n_splits=5, shuffle=True, random_state=42)\n",
    "\n",
    "for train_index, test_index in skf.split(X_wo_recurse, y):\n",
    "    X_train, X_test = X_wo_recurse[train_index], X_wo_recurse[test_index]\n",
    "    y_train, y_test = y[train_index], y[test_index]\n",
    "    \n",
    "    scaler = MinMaxScaler()\n",
    "    scaled_X_train = scaler.fit_transform(X_train)\n",
    "    scaled_X_test = scaler.transform(X_test)\n",
    "    \n",
    "    pca = PCA(n_components=0.95, svd_solver='full')\n",
    "    reduced_X_train = pca.fit_transform(scaled_X_train)\n",
    "    reduced_X_test = pca.transform(scaled_X_test)\n",
    "    \n",
    "    model = LinearSVC(max_iter=1000)\n",
    "    \n",
    "    model.fit(reduced_X_train, y_train)\n",
    "    \n",
    "    test_acc = model.score(reduced_X_test, y_test)\n",
    "    print(\"Train Accuracy: \", model.score(reduced_X_train, y_train))\n",
    "    print(\"Test Accuracy: \", test_acc)\n",
    "    \n",
    "    print(\"Predictions:\")\n",
    "    print(np.unique(model.predict(reduced_X_test)))\n",
    "    print(np.unique(model.predict(reduced_X_test), return_counts=True)[1], \"\\n\")\n",
    "    print(\"Actual:\")\n",
    "    print(np.unique(y_test))\n",
    "    print(np.unique(y_test, return_counts=True)[1], \"\\n\")\n",
    "    \n",
    "    svm_wo_recurse_pca_test_accs.append(test_acc)\n",
    "    svm_wo_recurse_pca_models.append(model)"
   ]
  },
  {
   "cell_type": "code",
   "execution_count": 11,
   "id": "8ab39039",
   "metadata": {},
   "outputs": [
    {
     "name": "stdout",
     "output_type": "stream",
     "text": [
      "Train Accuracy:  0.5816331066364404\n",
      "Test Accuracy:  0.5824\n",
      "Predictions:\n",
      "['CU' 'FF' 'SL']\n",
      "[ 203 5420    2] \n",
      "\n",
      "Actual:\n",
      "['CH' 'CU' 'FF' 'SI' 'SL']\n",
      "[ 758  939 3277   38  613] \n",
      "\n",
      "Train Accuracy:  0.5818553584922435\n",
      "Test Accuracy:  0.5802666666666667\n",
      "Predictions:\n",
      "['CU' 'FF' 'SL']\n",
      "[ 183 5439    3] \n",
      "\n",
      "Actual:\n",
      "['CH' 'CU' 'FF' 'SI' 'SL']\n",
      "[ 757  939 3277   39  613] \n",
      "\n",
      "Train Accuracy:  0.5821406347230865\n",
      "Test Accuracy:  0.5777027027027027\n",
      "Predictions:\n",
      "['CU' 'FF' 'SL']\n",
      "[ 221 5400    3] \n",
      "\n",
      "Actual:\n",
      "['CH' 'CU' 'FF' 'SI' 'SL']\n",
      "[ 757  939 3278   38  612] \n",
      "\n",
      "Train Accuracy:  0.5811627700240022\n",
      "Test Accuracy:  0.582325746799431\n",
      "Predictions:\n",
      "['CU' 'FF' 'SL']\n",
      "[ 209 5410    5] \n",
      "\n",
      "Actual:\n",
      "['CH' 'CU' 'FF' 'SI' 'SL']\n",
      "[ 757  939 3278   38  612] \n",
      "\n",
      "Train Accuracy:  0.5808960796515246\n",
      "Test Accuracy:  0.5816145092460882\n",
      "Predictions:\n",
      "['CU' 'FF' 'SL']\n",
      "[ 156 5467    1] \n",
      "\n",
      "Actual:\n",
      "['CH' 'CU' 'FF' 'SI' 'SL']\n",
      "[ 758  938 3278   38  612] \n",
      "\n"
     ]
    }
   ],
   "source": [
    "# Linear SVM - Game Situational Features: PCA 95% (53 features)\n",
    "svm_game_sit_pca_models = []\n",
    "svm_game_sit_pca_test_accs = []\n",
    "\n",
    "skf = StratifiedKFold(n_splits=5, shuffle=True, random_state=42)\n",
    "\n",
    "for train_index, test_index in skf.split(X_game_sit, y):\n",
    "    X_train, X_test = X_game_sit[train_index], X_game_sit[test_index]\n",
    "    y_train, y_test = y[train_index], y[test_index]\n",
    "\n",
    "    scaler = MinMaxScaler()\n",
    "    scaled_X_train = scaler.fit_transform(X_train)\n",
    "    scaled_X_test = scaler.transform(X_test)\n",
    "    \n",
    "    pca = PCA(n_components=0.95, svd_solver='full')\n",
    "    reduced_X_train = pca.fit_transform(scaled_X_train)\n",
    "    reduced_X_test = pca.transform(scaled_X_test)\n",
    "    \n",
    "    model = LinearSVC(max_iter=1000)\n",
    "    \n",
    "    model.fit(reduced_X_train, y_train)\n",
    "    \n",
    "    test_acc = model.score(reduced_X_test, y_test)\n",
    "    print(\"Train Accuracy: \", model.score(reduced_X_train, y_train))\n",
    "    print(\"Test Accuracy: \", test_acc)\n",
    "    \n",
    "    print(\"Predictions:\")\n",
    "    print(np.unique(model.predict(reduced_X_test)))\n",
    "    print(np.unique(model.predict(reduced_X_test), return_counts=True)[1], \"\\n\")\n",
    "    print(\"Actual:\")\n",
    "    print(np.unique(y_test))\n",
    "    print(np.unique(y_test, return_counts=True)[1], \"\\n\")\n",
    "    \n",
    "    svm_game_sit_pca_test_accs.append(test_acc)\n",
    "    svm_game_sit_pca_models.append(model)"
   ]
  },
  {
   "cell_type": "code",
   "execution_count": 12,
   "id": "3fc929ff",
   "metadata": {
    "scrolled": true
   },
   "outputs": [
    {
     "name": "stdout",
     "output_type": "stream",
     "text": [
      "PCA Reduced Dimensions:  (22497, 35)\n",
      "Train Accuracy:  0.5877672578566031\n",
      "Test Accuracy:  0.5888 \n",
      "\n",
      "Predictions:\n",
      "['CH' 'CU' 'FF' 'SI' 'SL']\n",
      "[  16  313 5227   11   58] \n",
      "\n",
      "Actual:\n",
      "['CH' 'CU' 'FF' 'SI' 'SL']\n",
      "[ 758  939 3277   38  613] \n",
      "\n",
      "PCA Reduced Dimensions:  (22497, 35)\n",
      "Train Accuracy:  0.5899453260434725\n",
      "Test Accuracy:  0.5868444444444444 \n",
      "\n",
      "Predictions:\n",
      "['CH' 'CU' 'FF' 'SI' 'SL']\n",
      "[  13  288 5248   21   55] \n",
      "\n",
      "Actual:\n",
      "['CH' 'CU' 'FF' 'SI' 'SL']\n",
      "[ 757  939 3277   39  613] \n",
      "\n",
      "PCA Reduced Dimensions:  (22498, 35)\n",
      "Train Accuracy:  0.5877411325451152\n",
      "Test Accuracy:  0.5867709815078236 \n",
      "\n",
      "Predictions:\n",
      "['CH' 'CU' 'FF' 'SI' 'SL']\n",
      "[  12  311 5210   20   71] \n",
      "\n",
      "Actual:\n",
      "['CH' 'CU' 'FF' 'SI' 'SL']\n",
      "[ 757  939 3278   38  612] \n",
      "\n",
      "PCA Reduced Dimensions:  (22498, 35)\n",
      "Train Accuracy:  0.5892968263845675\n",
      "Test Accuracy:  0.5876600284495022 \n",
      "\n",
      "Predictions:\n",
      "['CH' 'CU' 'FF' 'SI' 'SL']\n",
      "[  20  276 5228   20   80] \n",
      "\n",
      "Actual:\n",
      "['CH' 'CU' 'FF' 'SI' 'SL']\n",
      "[ 757  939 3278   38  612] \n",
      "\n",
      "PCA Reduced Dimensions:  (22498, 35)\n",
      "Train Accuracy:  0.5889412392212641\n",
      "Test Accuracy:  0.5874822190611664 \n",
      "\n",
      "Predictions:\n",
      "['CH' 'CU' 'FF' 'SI' 'SL']\n",
      "[   5  240 5297   14   68] \n",
      "\n",
      "Actual:\n",
      "['CH' 'CU' 'FF' 'SI' 'SL']\n",
      "[ 758  938 3278   38  612] \n",
      "\n"
     ]
    }
   ],
   "source": [
    "# Linear SVC - Whole Features: PCA 95% (53 features)\n",
    "svm_whole_pca_models = []\n",
    "svm_whole_pca_train_accs = []\n",
    "svm_whole_pca_test_accs = []\n",
    "\n",
    "skf = StratifiedKFold(n_splits=5, shuffle=True, random_state=42)\n",
    "\n",
    "for train_index, test_index in skf.split(X_whole, y):\n",
    "    X_train, X_test = X_whole[train_index], X_whole[test_index]\n",
    "    y_train, y_test = y[train_index], y[test_index]\n",
    "    \n",
    "    scaler = MinMaxScaler()\n",
    "    scaled_X_train = scaler.fit_transform(X_train)\n",
    "    scaled_X_test = scaler.transform(X_test)\n",
    "    \n",
    "    pca = PCA(n_components=0.95, svd_solver='full')\n",
    "    reduced_X_train = pca.fit_transform(scaled_X_train)\n",
    "    reduced_X_test = pca.transform(scaled_X_test)\n",
    "    \n",
    "    print(\"PCA Reduced Dimensions: \", reduced_X_train.shape)\n",
    "    \n",
    "    model = LinearSVC(max_iter=1000)\n",
    "    \n",
    "    model.fit(reduced_X_train, y_train)\n",
    "    \n",
    "    test_acc = model.score(reduced_X_test, y_test)\n",
    "    train_acc = model.score(reduced_X_train, y_train)\n",
    "    print(\"Train Accuracy: \", train_acc)\n",
    "    print(\"Test Accuracy: \", test_acc, \"\\n\")\n",
    "    \n",
    "    print(\"Predictions:\")\n",
    "    print(np.unique(model.predict(reduced_X_test)))\n",
    "    print(np.unique(model.predict(reduced_X_test), return_counts=True)[1], \"\\n\")\n",
    "    print(\"Actual:\")\n",
    "    print(np.unique(y_test))\n",
    "    print(np.unique(y_test, return_counts=True)[1], \"\\n\")\n",
    "    \n",
    "    svm_whole_pca_train_accs.append(train_acc)\n",
    "    svm_whole_pca_test_accs.append(test_acc)\n",
    "    svm_whole_pca_models.append(model)"
   ]
  },
  {
   "cell_type": "code",
   "execution_count": 13,
   "id": "4a25b76e",
   "metadata": {},
   "outputs": [],
   "source": [
    "from sklearn.metrics import confusion_matrix, ConfusionMatrixDisplay\n",
    "import matplotlib.pyplot as plt"
   ]
  },
  {
   "cell_type": "code",
   "execution_count": 14,
   "id": "216ddc36",
   "metadata": {
    "scrolled": true
   },
   "outputs": [
    {
     "data": {
      "image/png": "[encoded data removed]",
      "text/plain": [
       "<Figure size 640x480 with 2 Axes>"
      ]
     },
     "metadata": {},
     "output_type": "display_data"
    },
    {
     "data": {
      "image/png": "[encoded data removed]",
      "text/plain": [
       "<Figure size 640x480 with 2 Axes>"
      ]
     },
     "metadata": {},
     "output_type": "display_data"
    },
    {
     "data": {
      "image/png": "[encoded data removed]",
      "text/plain": [
       "<Figure size 640x480 with 2 Axes>"
      ]
     },
     "metadata": {},
     "output_type": "display_data"
    },
    {
     "data": {
      "image/png": "[encoded data removed]",
      "text/plain": [
       "<Figure size 640x480 with 2 Axes>"
      ]
     },
     "metadata": {},
     "output_type": "display_data"
    },
    {
     "data": {
      "image/png": "[encoded data removed]",
      "text/plain": [
       "<Figure size 640x480 with 2 Axes>"
      ]
     },
     "metadata": {},
     "output_type": "display_data"
    }
   ],
   "source": [
    "# Linear SVC - Whole Features: PCA 95% (53 features)\n",
    "for fold, (train_index, test_index) in enumerate(skf.split(X_whole, y)):\n",
    "    X_train, X_test = X_whole[train_index], X_whole[test_index]\n",
    "    y_train, y_test = y[train_index], y[test_index]\n",
    "    \n",
    "    scaler = MinMaxScaler()\n",
    "    scaled_X_train = scaler.fit_transform(X_train)\n",
    "    scaled_X_test = scaler.transform(X_test)\n",
    "    \n",
    "    pca = PCA(n_components=0.95, svd_solver='full')\n",
    "    reduced_X_train = pca.fit_transform(scaled_X_train)\n",
    "    reduced_X_test = pca.transform(scaled_X_test)\n",
    "    \n",
    "    model = svm_whole_pca_models[fold]\n",
    "\n",
    "    # \"pred\" - Probability: Given Predicted X, what is probability it is actually Y?\n",
    "    # \"true\" - Probability: Given Actually Y, what is probability we guessed X?\n",
    "    cm = confusion_matrix(y_test, model.predict(reduced_X_test), labels=model.classes_, normalize='true')\n",
    "    disp = ConfusionMatrixDisplay(confusion_matrix=cm,\n",
    "                                  display_labels=model.classes_)\n",
    "    disp.plot()\n",
    "    plt.show()"
   ]
  },
  {
   "cell_type": "markdown",
   "id": "fb3d3304",
   "metadata": {},
   "source": [
    "## Ensemble"
   ]
  },
  {
   "cell_type": "code",
   "execution_count": 16,
   "id": "c47523c2",
   "metadata": {
    "scrolled": true
   },
   "outputs": [
    {
     "name": "stdout",
     "output_type": "stream",
     "text": [
      "Agreement PCA-STDZ:  0.9594666666666667\n",
      "Agreement PCA-REGULAR:  0.9635555555555556\n",
      "Agreement STDZ-REGULAR:  0.9845333333333334\n",
      "Agreement PCA-STDZ:  0.9639111111111112\n",
      "Agreement PCA-REGULAR:  0.9648\n",
      "Agreement STDZ-REGULAR:  0.9928888888888889\n",
      "Agreement PCA-STDZ:  0.9614153627311522\n",
      "Agreement PCA-REGULAR:  0.9639046941678521\n",
      "Agreement STDZ-REGULAR:  0.9886201991465149\n",
      "Agreement PCA-STDZ:  0.9642603129445235\n",
      "Agreement PCA-REGULAR:  0.9631934566145093\n",
      "Agreement STDZ-REGULAR:  0.9935988620199147\n",
      "Agreement PCA-STDZ:  0.9672830725462305\n",
      "Agreement PCA-REGULAR:  0.9676386913229018\n",
      "Agreement STDZ-REGULAR:  0.9912873399715505\n"
     ]
    }
   ],
   "source": [
    "# Ensemble of LogReg Models\n",
    "ensemble_models = []\n",
    "ensemble_train_accs = []\n",
    "ensemble_test_accs = []\n",
    "\n",
    "skf = StratifiedKFold(n_splits=5, shuffle=True, random_state=42)\n",
    "\n",
    "for fold, (train_index, test_index) in enumerate(skf.split(X_whole, y)):\n",
    "    X_train, X_test = X_whole[train_index], X_whole[test_index]\n",
    "    y_train, y_test = y[train_index], y[test_index]\n",
    "    \n",
    "    scaler = MinMaxScaler()\n",
    "    scaled_X_train = scaler.fit_transform(X_train)\n",
    "    scaled_X_test = scaler.transform(X_test)\n",
    "    \n",
    "    pca = PCA(n_components=0.95, svd_solver='full')\n",
    "    reduced_X_train = pca.fit_transform(scaled_X_train)\n",
    "    reduced_X_test = pca.transform(scaled_X_test)\n",
    "    \n",
    "    svm_pca_model = svm_whole_pca_models[fold]\n",
    "    svm_stdz_model = svm_whole_reg_models[fold]\n",
    "    svm_model = svm_whole_models[fold]\n",
    "\n",
    "    pca_mod_probs_train = svm_pca_model.predict(reduced_X_train)\n",
    "    stdz_mod_probs_train = svm_stdz_model.predict(scaled_X_train)\n",
    "    mod_probs_train = svm_model.predict(X_train)\n",
    "    \n",
    "    pca_mod_probs_test = svm_pca_model.predict(reduced_X_test)\n",
    "    stdz_mod_probs_test = svm_stdz_model.predict(scaled_X_test)\n",
    "    mod_probs_test = svm_model.predict(X_test)\n",
    "    \n",
    "    print(\"Agreement PCA-STDZ: \", np.mean(pca_mod_probs_test == stdz_mod_probs_test))\n",
    "    print(\"Agreement PCA-REGULAR: \", np.mean(pca_mod_probs_test == mod_probs_test))\n",
    "    print(\"Agreement STDZ-REGULAR: \", np.mean(stdz_mod_probs_test == mod_probs_test))\n",
    "    \n",
    "#     model_prob_votes_train = np.hstack([pca_mod_probs_train, stdz_mod_probs_train, mod_probs_train])\n",
    "#     model_prob_votes_test = np.hstack([pca_mod_probs_test, stdz_mod_probs_test, mod_probs_test])\n",
    "    \n",
    "#     ensemble = LogisticRegression()\n",
    "#     ensemble.fit(model_prob_votes_train, y_train)\n",
    "    \n",
    "#     train_acc = ensemble.score(model_prob_votes_train, y_train) \n",
    "#     test_acc = ensemble.score(model_prob_votes_test, y_test)\n",
    "#     print(\"Train Accuracy: \", train_acc)\n",
    "#     print(\"Test Accuracy: \", test_acc, \"\\n\")\n",
    "    \n",
    "#     print(\"Predictions:\")\n",
    "#     print(np.unique(ensemble.predict(model_prob_votes_test)))\n",
    "#     print(np.unique(ensemble.predict(model_prob_votes_test), return_counts=True)[1], \"\\n\")\n",
    "#     print(\"Actual:\")\n",
    "#     print(np.unique(y_test))\n",
    "#     print(np.unique(y_test, return_counts=True)[1], \"\\n\")\n",
    "    \n",
    "#     ensemble_train_accs.append(train_acc)\n",
    "#     ensemble_test_accs.append(test_acc)\n",
    "#     ensemble_models.append(ensemble)"
   ]
  },
  {
   "cell_type": "code",
   "execution_count": 22,
   "id": "d8142ed9",
   "metadata": {},
   "outputs": [
    {
     "name": "stdout",
     "output_type": "stream",
     "text": [
      "0.5925343252471789 \t 0.5902495779990516\n",
      "0.583271106567629 \t 0.5821777398451082\n",
      "0.5819287385511398 \t 0.5818221021021022\n",
      "\t 0.5898585048206101\n",
      "\t 0.5822488130235499\n",
      "\t 0.580790851904536\n",
      "0.5887383564102044 \t 0.5875115346925872\n",
      "\t 0.5815020325588747\n",
      "\t 0.5808619250829777\n"
     ]
    }
   ],
   "source": [
    "print(np.mean(svm_whole_train_accs), \"\\t\", np.mean(svm_whole_test_accs))\n",
    "\n",
    "print(np.mean(svm_wo_recurse_train_accs), \"\\t\", np.mean(svm_wo_recurse_test_accs))\n",
    "\n",
    "print(np.mean(svm_game_sit_train_accs), \"\\t\", np.mean(svm_game_sit_test_accs))\n",
    "\n",
    "print(\"\\t\", np.mean(svm_whole_reg_test_accs))\n",
    "\n",
    "print(\"\\t\", np.mean(svm_wo_recurse_reg_test_accs))\n",
    "\n",
    "print(\"\\t\", np.mean(svm_game_sit_reg_test_accs))\n",
    "\n",
    "print(np.mean(svm_whole_pca_train_accs), \"\\t\", np.mean(svm_whole_pca_test_accs))\n",
    "\n",
    "print(\"\\t\", np.mean(svm_wo_recurse_pca_test_accs))\n",
    "\n",
    "print(\"\\t\", np.mean(svm_game_sit_pca_test_accs))"
   ]
  },
  {
   "cell_type": "code",
   "execution_count": null,
   "id": "2a6f9588",
   "metadata": {},
   "outputs": [],
   "source": []
  }
 ],
 "metadata": {
  "kernelspec": {
   "display_name": "Python 3 (ipykernel)",
   "language": "python",
   "name": "python3"
  },
  "language_info": {
   "codemirror_mode": {
    "name": "ipython",
    "version": 3
   },
   "file_extension": ".py",
   "mimetype": "text/x-python",
   "name": "python",
   "nbconvert_exporter": "python",
   "pygments_lexer": "ipython3",
   "version": "3.9.12"
  }
 },
 "nbformat": 4,
 "nbformat_minor": 5
}
