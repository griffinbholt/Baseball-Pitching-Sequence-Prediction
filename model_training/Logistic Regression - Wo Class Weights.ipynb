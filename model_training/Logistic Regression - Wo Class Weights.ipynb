{
 "cells": [
  {
   "cell_type": "code",
   "execution_count": 1,
   "id": "41a6dc7c",
   "metadata": {},
   "outputs": [],
   "source": [
    "# Libraries\n",
    "import numpy as np\n",
    "import pandas as pd\n",
    "from sklearn.linear_model import LogisticRegression\n",
    "from sklearn.svm import LinearSVC\n",
    "from sklearn.model_selection import StratifiedKFold, GridSearchCV\n",
    "from sklearn.preprocessing import MinMaxScaler\n",
    "from sklearn.decomposition import PCA"
   ]
  },
  {
   "cell_type": "code",
   "execution_count": 2,
   "id": "40cf8269",
   "metadata": {},
   "outputs": [],
   "source": [
    "# Constants\n",
    "game_sit_feat = ['month', 'year', 'inning', 'inning_topbot', \n",
    "                 'outs', 'strikes', 'balls', 'pitch_number', \n",
    "                 'on_1b', 'on_2b', 'on_3b', 'score_diff', \n",
    "                 'of_std', 'of_strat', 'if_std', 'if_strat', 'if_shift']\n",
    "wo_recursive_feat = game_sit_feat + ['Pitcher_Tend_FF', 'Pitcher_Tend_CU', 'Pitcher_Tend_CH', 'Pitcher_Tend_SL', 'Pitcher_Tend_SI', \n",
    "                                     'Pitcher_Strike_Tend_FF', 'Pitcher_Strike_Tend_CU', 'Pitcher_Strike_Tend_CH', 'Pitcher_Strike_Tend_SL', 'Pitcher_Strike_Tend_SI', \n",
    "                                     'batter_stance', 'Strike_Tend_FF', 'Strike_Tend_CU', 'Strike_Tend_CH', 'Strike_Tend_SL', 'Strike_Tend_SI', 'Overall_Strike_Tend', \n",
    "                                     'Slug_Avg_FF', 'Slug_Avg_CU', 'Slug_Avg_CH', 'Slug_Avg_SL', 'Slug_Avg_SI', 'Overall_Slug_Avg', \n",
    "                                     'Zone_1_Strike_Pcnt', 'Zone_2_Strike_Pcnt', 'Zone_3_Strike_Pcnt', 'Zone_4_Strike_Pcnt', 'Zone_5_Strike_Pcnt', 'Zone_6_Strike_Pcnt', 'Zone_7_Strike_Pcnt', 'Zone_8_Strike_Pcnt', 'Zone_9_Strike_Pcnt', 'Zone_11_Strike_Pcnt', 'Zone_12_Strike_Pcnt', 'Zone_13_Strike_Pcnt', 'Zone_14_Strike_Pcnt']"
   ]
  },
  {
   "cell_type": "code",
   "execution_count": 3,
   "id": "a1f8891c",
   "metadata": {},
   "outputs": [],
   "source": [
    "# Import the data\n",
    "X_whole = pd.read_csv(\"../data/VerlanderOnly_X_train.csv\").to_numpy()\n",
    "y = pd.read_csv(\"../data/VerlanderOnly_y_train.csv\").to_numpy().T[0]\n",
    "\n",
    "verlander_cols = np.array(pd.read_csv(\"../data/VerlanderOnlyDataset.csv\", index_col=0).columns)\n",
    "game_sit_cols = np.where(np.isin(verlander_cols, game_sit_feat))[0] - 1\n",
    "wo_recursive_cols = np.where(np.isin(verlander_cols, wo_recursive_feat))[0] - 1\n",
    "\n",
    "X_game_sit = X_whole[:, game_sit_cols]\n",
    "X_wo_recurse = X_whole[:, wo_recursive_cols]"
   ]
  },
  {
   "cell_type": "markdown",
   "id": "dc9d4a40",
   "metadata": {},
   "source": [
    "## Non-Regularized"
   ]
  },
  {
   "cell_type": "code",
   "execution_count": 4,
   "id": "09222d1a",
   "metadata": {
    "scrolled": true
   },
   "outputs": [
    {
     "name": "stderr",
     "output_type": "stream",
     "text": [
      "/opt/miniconda3/lib/python3.9/site-packages/sklearn/linear_model/_logistic.py:444: ConvergenceWarning: lbfgs failed to converge (status=1):\n",
      "STOP: TOTAL NO. of ITERATIONS REACHED LIMIT.\n",
      "\n",
      "Increase the number of iterations (max_iter) or scale the data as shown in:\n",
      "    https://scikit-learn.org/stable/modules/preprocessing.html\n",
      "Please also refer to the documentation for alternative solver options:\n",
      "    https://scikit-learn.org/stable/modules/linear_model.html#logistic-regression\n",
      "  n_iter_i = _check_optimize_result(\n"
     ]
    },
    {
     "name": "stdout",
     "output_type": "stream",
     "text": [
      "Test Accuracy:  0.5802666666666667\n"
     ]
    },
    {
     "name": "stderr",
     "output_type": "stream",
     "text": [
      "/opt/miniconda3/lib/python3.9/site-packages/sklearn/linear_model/_logistic.py:444: ConvergenceWarning: lbfgs failed to converge (status=1):\n",
      "STOP: TOTAL NO. of ITERATIONS REACHED LIMIT.\n",
      "\n",
      "Increase the number of iterations (max_iter) or scale the data as shown in:\n",
      "    https://scikit-learn.org/stable/modules/preprocessing.html\n",
      "Please also refer to the documentation for alternative solver options:\n",
      "    https://scikit-learn.org/stable/modules/linear_model.html#logistic-regression\n",
      "  n_iter_i = _check_optimize_result(\n"
     ]
    },
    {
     "name": "stdout",
     "output_type": "stream",
     "text": [
      "Test Accuracy:  0.5784888888888889\n"
     ]
    },
    {
     "name": "stderr",
     "output_type": "stream",
     "text": [
      "/opt/miniconda3/lib/python3.9/site-packages/sklearn/linear_model/_logistic.py:444: ConvergenceWarning: lbfgs failed to converge (status=1):\n",
      "STOP: TOTAL NO. of ITERATIONS REACHED LIMIT.\n",
      "\n",
      "Increase the number of iterations (max_iter) or scale the data as shown in:\n",
      "    https://scikit-learn.org/stable/modules/preprocessing.html\n",
      "Please also refer to the documentation for alternative solver options:\n",
      "    https://scikit-learn.org/stable/modules/linear_model.html#logistic-regression\n",
      "  n_iter_i = _check_optimize_result(\n"
     ]
    },
    {
     "name": "stdout",
     "output_type": "stream",
     "text": [
      "Test Accuracy:  0.5739687055476529\n"
     ]
    },
    {
     "name": "stderr",
     "output_type": "stream",
     "text": [
      "/opt/miniconda3/lib/python3.9/site-packages/sklearn/linear_model/_logistic.py:444: ConvergenceWarning: lbfgs failed to converge (status=1):\n",
      "STOP: TOTAL NO. of ITERATIONS REACHED LIMIT.\n",
      "\n",
      "Increase the number of iterations (max_iter) or scale the data as shown in:\n",
      "    https://scikit-learn.org/stable/modules/preprocessing.html\n",
      "Please also refer to the documentation for alternative solver options:\n",
      "    https://scikit-learn.org/stable/modules/linear_model.html#logistic-regression\n",
      "  n_iter_i = _check_optimize_result(\n"
     ]
    },
    {
     "name": "stdout",
     "output_type": "stream",
     "text": [
      "Test Accuracy:  0.5753911806543386\n",
      "Test Accuracy:  0.5812588904694168\n"
     ]
    },
    {
     "name": "stderr",
     "output_type": "stream",
     "text": [
      "/opt/miniconda3/lib/python3.9/site-packages/sklearn/linear_model/_logistic.py:444: ConvergenceWarning: lbfgs failed to converge (status=1):\n",
      "STOP: TOTAL NO. of ITERATIONS REACHED LIMIT.\n",
      "\n",
      "Increase the number of iterations (max_iter) or scale the data as shown in:\n",
      "    https://scikit-learn.org/stable/modules/preprocessing.html\n",
      "Please also refer to the documentation for alternative solver options:\n",
      "    https://scikit-learn.org/stable/modules/linear_model.html#logistic-regression\n",
      "  n_iter_i = _check_optimize_result(\n"
     ]
    }
   ],
   "source": [
    "# Logistic Regression - Without Recursive Features: Non-regularized (53 features)\n",
    "log_reg_wo_recurse_models = []\n",
    "log_reg_wo_recurse_test_accs = []\n",
    "\n",
    "skf = StratifiedKFold(n_splits=5, shuffle=True, random_state=42)\n",
    "\n",
    "for train_index, test_index in skf.split(X_wo_recurse, y):\n",
    "    X_train, X_test = X_wo_recurse[train_index], X_wo_recurse[test_index]\n",
    "    y_train, y_test = y[train_index], y[test_index]\n",
    "    \n",
    "    model = LogisticRegression(max_iter=1000)\n",
    "    \n",
    "    model.fit(X_train, y_train)\n",
    "    \n",
    "    test_acc = model.score(X_test, y_test)\n",
    "    print(\"Test Accuracy: \", test_acc)\n",
    "    \n",
    "    log_reg_wo_recurse_test_accs.append(test_acc)\n",
    "    log_reg_wo_recurse_models.append(model)"
   ]
  },
  {
   "cell_type": "code",
   "execution_count": 5,
   "id": "1d6dbb84",
   "metadata": {},
   "outputs": [
    {
     "name": "stdout",
     "output_type": "stream",
     "text": [
      "Test Accuracy:  0.5783111111111111\n",
      "Test Accuracy:  0.5779555555555556\n",
      "Test Accuracy:  0.5764580369843528\n",
      "Test Accuracy:  0.5785917496443812\n",
      "Test Accuracy:  0.582325746799431\n"
     ]
    }
   ],
   "source": [
    "# Logistic Regression - Game Situational Features: Non-regularized (17 features)\n",
    "log_reg_game_sit_models = []\n",
    "log_reg_game_sit_test_accs = []\n",
    "\n",
    "skf = StratifiedKFold(n_splits=5, shuffle=True, random_state=42)\n",
    "\n",
    "for train_index, test_index in skf.split(X_game_sit, y):\n",
    "    X_train, X_test = X_game_sit[train_index], X_game_sit[test_index]\n",
    "    y_train, y_test = y[train_index], y[test_index]\n",
    "    \n",
    "    model = LogisticRegression(max_iter=1000)\n",
    "    \n",
    "    model.fit(X_train, y_train)\n",
    "    \n",
    "    test_acc = model.score(X_test, y_test)\n",
    "    print(\"Test Accuracy: \", test_acc)\n",
    "    \n",
    "    log_reg_game_sit_test_accs.append(test_acc)\n",
    "    log_reg_game_sit_models.append(model)"
   ]
  },
  {
   "cell_type": "code",
   "execution_count": 6,
   "id": "78b93d44",
   "metadata": {
    "scrolled": true
   },
   "outputs": [
    {
     "name": "stderr",
     "output_type": "stream",
     "text": [
      "/opt/miniconda3/lib/python3.9/site-packages/sklearn/linear_model/_logistic.py:444: ConvergenceWarning: lbfgs failed to converge (status=1):\n",
      "STOP: TOTAL NO. of ITERATIONS REACHED LIMIT.\n",
      "\n",
      "Increase the number of iterations (max_iter) or scale the data as shown in:\n",
      "    https://scikit-learn.org/stable/modules/preprocessing.html\n",
      "Please also refer to the documentation for alternative solver options:\n",
      "    https://scikit-learn.org/stable/modules/linear_model.html#logistic-regression\n",
      "  n_iter_i = _check_optimize_result(\n"
     ]
    },
    {
     "name": "stdout",
     "output_type": "stream",
     "text": [
      "Test Accuracy:  0.5850666666666666\n"
     ]
    },
    {
     "name": "stderr",
     "output_type": "stream",
     "text": [
      "/opt/miniconda3/lib/python3.9/site-packages/sklearn/linear_model/_logistic.py:444: ConvergenceWarning: lbfgs failed to converge (status=1):\n",
      "STOP: TOTAL NO. of ITERATIONS REACHED LIMIT.\n",
      "\n",
      "Increase the number of iterations (max_iter) or scale the data as shown in:\n",
      "    https://scikit-learn.org/stable/modules/preprocessing.html\n",
      "Please also refer to the documentation for alternative solver options:\n",
      "    https://scikit-learn.org/stable/modules/linear_model.html#logistic-regression\n",
      "  n_iter_i = _check_optimize_result(\n"
     ]
    },
    {
     "name": "stdout",
     "output_type": "stream",
     "text": [
      "Test Accuracy:  0.5886222222222223\n"
     ]
    },
    {
     "name": "stderr",
     "output_type": "stream",
     "text": [
      "/opt/miniconda3/lib/python3.9/site-packages/sklearn/linear_model/_logistic.py:444: ConvergenceWarning: lbfgs failed to converge (status=1):\n",
      "STOP: TOTAL NO. of ITERATIONS REACHED LIMIT.\n",
      "\n",
      "Increase the number of iterations (max_iter) or scale the data as shown in:\n",
      "    https://scikit-learn.org/stable/modules/preprocessing.html\n",
      "Please also refer to the documentation for alternative solver options:\n",
      "    https://scikit-learn.org/stable/modules/linear_model.html#logistic-regression\n",
      "  n_iter_i = _check_optimize_result(\n"
     ]
    },
    {
     "name": "stdout",
     "output_type": "stream",
     "text": [
      "Test Accuracy:  0.5825035561877667\n"
     ]
    },
    {
     "name": "stderr",
     "output_type": "stream",
     "text": [
      "/opt/miniconda3/lib/python3.9/site-packages/sklearn/linear_model/_logistic.py:444: ConvergenceWarning: lbfgs failed to converge (status=1):\n",
      "STOP: TOTAL NO. of ITERATIONS REACHED LIMIT.\n",
      "\n",
      "Increase the number of iterations (max_iter) or scale the data as shown in:\n",
      "    https://scikit-learn.org/stable/modules/preprocessing.html\n",
      "Please also refer to the documentation for alternative solver options:\n",
      "    https://scikit-learn.org/stable/modules/linear_model.html#logistic-regression\n",
      "  n_iter_i = _check_optimize_result(\n"
     ]
    },
    {
     "name": "stdout",
     "output_type": "stream",
     "text": [
      "Test Accuracy:  0.5864153627311522\n",
      "Test Accuracy:  0.5890825035561877\n"
     ]
    },
    {
     "name": "stderr",
     "output_type": "stream",
     "text": [
      "/opt/miniconda3/lib/python3.9/site-packages/sklearn/linear_model/_logistic.py:444: ConvergenceWarning: lbfgs failed to converge (status=1):\n",
      "STOP: TOTAL NO. of ITERATIONS REACHED LIMIT.\n",
      "\n",
      "Increase the number of iterations (max_iter) or scale the data as shown in:\n",
      "    https://scikit-learn.org/stable/modules/preprocessing.html\n",
      "Please also refer to the documentation for alternative solver options:\n",
      "    https://scikit-learn.org/stable/modules/linear_model.html#logistic-regression\n",
      "  n_iter_i = _check_optimize_result(\n"
     ]
    }
   ],
   "source": [
    "# Logistic Regression - All Features: Non-regularized (100 features)\n",
    "log_reg_whole_models = []\n",
    "log_reg_whole_test_accs = []\n",
    "\n",
    "skf = StratifiedKFold(n_splits=5, shuffle=True, random_state=42)\n",
    "\n",
    "for train_index, test_index in skf.split(X_whole, y):\n",
    "    X_train, X_test = X_whole[train_index], X_whole[test_index]\n",
    "    y_train, y_test = y[train_index], y[test_index]\n",
    "    \n",
    "    model = LogisticRegression(max_iter=1000)\n",
    "    \n",
    "    model.fit(X_train, y_train)\n",
    "    \n",
    "    test_acc = model.score(X_test, y_test)\n",
    "    print(\"Test Accuracy: \", test_acc)\n",
    "    \n",
    "    log_reg_whole_test_accs.append(test_acc)\n",
    "    log_reg_whole_models.append(model)"
   ]
  },
  {
   "cell_type": "markdown",
   "id": "0028f81b",
   "metadata": {},
   "source": [
    "## Regularized"
   ]
  },
  {
   "cell_type": "code",
   "execution_count": 7,
   "id": "558cafac",
   "metadata": {},
   "outputs": [
    {
     "name": "stdout",
     "output_type": "stream",
     "text": [
      "Test Accuracy:  0.5799111111111112\n",
      "Test Accuracy:  0.5783111111111111\n",
      "Test Accuracy:  0.5755689900426743\n",
      "Test Accuracy:  0.5785917496443812\n",
      "Test Accuracy:  0.5832147937411095\n"
     ]
    }
   ],
   "source": [
    "# Logistic Regression - Without Recursive Features: Regularized (53 features)\n",
    "log_reg_wo_recurse_reg_models = []\n",
    "log_reg_wo_recurse_reg_test_accs = []\n",
    "\n",
    "skf = StratifiedKFold(n_splits=5, shuffle=True, random_state=42)\n",
    "\n",
    "for train_index, test_index in skf.split(X_wo_recurse, y):\n",
    "    X_train, X_test = X_wo_recurse[train_index], X_wo_recurse[test_index]\n",
    "    y_train, y_test = y[train_index], y[test_index]\n",
    "    \n",
    "    scaler = MinMaxScaler()\n",
    "    scaled_X_train = scaler.fit_transform(X_train)\n",
    "    scaled_X_test = scaler.transform(X_test)\n",
    "    \n",
    "    model = LogisticRegression(max_iter=1000)\n",
    "    \n",
    "    model.fit(scaled_X_train, y_train)\n",
    "    \n",
    "    test_acc = model.score(scaled_X_test, y_test)\n",
    "    print(\"Test Accuracy: \", test_acc)\n",
    "    \n",
    "    log_reg_wo_recurse_reg_test_accs.append(test_acc)\n",
    "    log_reg_wo_recurse_reg_models.append(model)"
   ]
  },
  {
   "cell_type": "code",
   "execution_count": 8,
   "id": "9e0ce190",
   "metadata": {},
   "outputs": [
    {
     "name": "stdout",
     "output_type": "stream",
     "text": [
      "Test Accuracy:  0.5779555555555556\n",
      "Test Accuracy:  0.5776\n",
      "Test Accuracy:  0.5764580369843528\n",
      "Test Accuracy:  0.5787695590327169\n",
      "Test Accuracy:  0.5821479374110953\n"
     ]
    }
   ],
   "source": [
    "# Logistic Regression - Game Situational Features: Regularized (17 features)\n",
    "log_reg_game_sit_reg_models = []\n",
    "log_reg_game_sit_reg_test_accs = []\n",
    "\n",
    "skf = StratifiedKFold(n_splits=5, shuffle=True, random_state=42)\n",
    "\n",
    "for train_index, test_index in skf.split(X_game_sit, y):\n",
    "    X_train, X_test = X_game_sit[train_index], X_game_sit[test_index]\n",
    "    y_train, y_test = y[train_index], y[test_index]\n",
    "    \n",
    "    scaler = MinMaxScaler()\n",
    "    scaled_X_train = scaler.fit_transform(X_train)\n",
    "    scaled_X_test = scaler.transform(X_test)\n",
    "    \n",
    "    model = LogisticRegression(max_iter=1000)\n",
    "    \n",
    "    model.fit(scaled_X_train, y_train)\n",
    "    \n",
    "    test_acc = model.score(scaled_X_test, y_test)\n",
    "    print(\"Test Accuracy: \", test_acc)\n",
    "    \n",
    "    log_reg_game_sit_reg_test_accs.append(test_acc)\n",
    "    log_reg_game_sit_reg_models.append(model)"
   ]
  },
  {
   "cell_type": "code",
   "execution_count": 9,
   "id": "9de8015c",
   "metadata": {},
   "outputs": [
    {
     "name": "stdout",
     "output_type": "stream",
     "text": [
      "Test Accuracy:  0.5873777777777778\n",
      "Test Accuracy:  0.5889777777777778\n",
      "Test Accuracy:  0.5830369843527738\n",
      "Test Accuracy:  0.5880156472261735\n",
      "Test Accuracy:  0.5890825035561877\n"
     ]
    }
   ],
   "source": [
    "# Logistic Regression - All Features: Regularized (100 features)\n",
    "log_reg_whole_reg_models = []\n",
    "log_reg_whole_reg_test_accs = []\n",
    "\n",
    "skf = StratifiedKFold(n_splits=5, shuffle=True, random_state=42)\n",
    "\n",
    "for train_index, test_index in skf.split(X_whole, y):\n",
    "    X_train, X_test = X_whole[train_index], X_whole[test_index]\n",
    "    y_train, y_test = y[train_index], y[test_index]\n",
    "    \n",
    "    scaler = MinMaxScaler()\n",
    "    scaled_X_train = scaler.fit_transform(X_train)\n",
    "    scaled_X_test = scaler.transform(X_test)\n",
    "    \n",
    "    model = LogisticRegression(max_iter=1000)\n",
    "    \n",
    "    model.fit(scaled_X_train, y_train)\n",
    "    \n",
    "    test_acc = model.score(scaled_X_test, y_test)\n",
    "    print(\"Test Accuracy: \", test_acc)\n",
    "    \n",
    "    log_reg_whole_reg_test_accs.append(test_acc)\n",
    "    log_reg_whole_reg_models.append(model)"
   ]
  },
  {
   "cell_type": "code",
   "execution_count": 10,
   "id": "eebe4972",
   "metadata": {},
   "outputs": [
    {
     "name": "stdout",
     "output_type": "stream",
     "text": [
      "Train Accuracy:  0.5769658176645776\n",
      "Test Accuracy:  0.5758222222222222\n",
      "Predictions:\n",
      "['CH' 'CU' 'FF' 'SI' 'SL']\n",
      "[   9  340 5181   11   84] \n",
      "\n",
      "Actual:\n",
      "['CH' 'CU' 'FF' 'SI' 'SL']\n",
      "[ 758  939 3277   38  613] \n",
      "\n",
      "Train Accuracy:  0.577454771747344\n",
      "Test Accuracy:  0.5767111111111111\n",
      "Predictions:\n",
      "['CH' 'CU' 'FF' 'SI' 'SL']\n",
      "[  20  317 5186   14   88] \n",
      "\n",
      "Actual:\n",
      "['CH' 'CU' 'FF' 'SI' 'SL']\n",
      "[ 757  939 3277   39  613] \n",
      "\n",
      "Train Accuracy:  0.5774291048093164\n",
      "Test Accuracy:  0.5720128022759602\n",
      "Predictions:\n",
      "['CH' 'CU' 'FF' 'SI' 'SL']\n",
      "[  11  347 5124   12  130] \n",
      "\n",
      "Actual:\n",
      "['CH' 'CU' 'FF' 'SI' 'SL']\n",
      "[ 757  939 3278   38  612] \n",
      "\n",
      "Train Accuracy:  0.5777402435772069\n",
      "Test Accuracy:  0.5741465149359887\n",
      "Predictions:\n",
      "['CH' 'CU' 'FF' 'SI' 'SL']\n",
      "[   8  329 5159   16  112] \n",
      "\n",
      "Actual:\n",
      "['CH' 'CU' 'FF' 'SI' 'SL']\n",
      "[ 757  939 3278   38  612] \n",
      "\n",
      "Train Accuracy:  0.5764067917148191\n",
      "Test Accuracy:  0.5809032716927454\n",
      "Predictions:\n",
      "['CH' 'CU' 'FF' 'SI' 'SL']\n",
      "[  10  276 5238   15   85] \n",
      "\n",
      "Actual:\n",
      "['CH' 'CU' 'FF' 'SI' 'SL']\n",
      "[ 758  938 3278   38  612] \n",
      "\n"
     ]
    }
   ],
   "source": [
    "# Logistic Regression - Without Recursive Features: PCA 95% (53 features)\n",
    "log_reg_wo_recurse_pca_models = []\n",
    "log_reg_wo_recurse_pca_test_accs = []\n",
    "\n",
    "skf = StratifiedKFold(n_splits=5, shuffle=True, random_state=42)\n",
    "\n",
    "for train_index, test_index in skf.split(X_wo_recurse, y):\n",
    "    X_train, X_test = X_wo_recurse[train_index], X_wo_recurse[test_index]\n",
    "    y_train, y_test = y[train_index], y[test_index]\n",
    "    \n",
    "    scaler = MinMaxScaler()\n",
    "    scaled_X_train = scaler.fit_transform(X_train)\n",
    "    scaled_X_test = scaler.transform(X_test)\n",
    "    \n",
    "    pca = PCA(n_components=0.95, svd_solver='full')\n",
    "    reduced_X_train = pca.fit_transform(scaled_X_train)\n",
    "    reduced_X_test = pca.transform(scaled_X_test)\n",
    "    \n",
    "    model = LogisticRegression(max_iter=1000)\n",
    "    \n",
    "    model.fit(reduced_X_train, y_train)\n",
    "    \n",
    "    test_acc = model.score(reduced_X_test, y_test)\n",
    "    print(\"Train Accuracy: \", model.score(reduced_X_train, y_train))\n",
    "    print(\"Test Accuracy: \", test_acc)\n",
    "    \n",
    "    print(\"Predictions:\")\n",
    "    print(np.unique(model.predict(reduced_X_test)))\n",
    "    print(np.unique(model.predict(reduced_X_test), return_counts=True)[1], \"\\n\")\n",
    "    print(\"Actual:\")\n",
    "    print(np.unique(y_test))\n",
    "    print(np.unique(y_test, return_counts=True)[1], \"\\n\")\n",
    "    \n",
    "    log_reg_wo_recurse_pca_test_accs.append(test_acc)\n",
    "    log_reg_wo_recurse_pca_models.append(model)"
   ]
  },
  {
   "cell_type": "code",
   "execution_count": 11,
   "id": "dba8d318",
   "metadata": {},
   "outputs": [
    {
     "name": "stdout",
     "output_type": "stream",
     "text": [
      "Train Accuracy:  0.5781215273147531\n",
      "Test Accuracy:  0.5774222222222222\n",
      "Predictions:\n",
      "['CU' 'FF' 'SL']\n",
      "[ 352 5251   22] \n",
      "\n",
      "Actual:\n",
      "['CH' 'CU' 'FF' 'SI' 'SL']\n",
      "[ 758  939 3277   38  613] \n",
      "\n",
      "Train Accuracy:  0.57789927545895\n",
      "Test Accuracy:  0.5772444444444444\n",
      "Predictions:\n",
      "['CU' 'FF' 'SL']\n",
      "[ 332 5269   24] \n",
      "\n",
      "Actual:\n",
      "['CH' 'CU' 'FF' 'SI' 'SL']\n",
      "[ 757  939 3277   39  613] \n",
      "\n",
      "Train Accuracy:  0.5780513823450973\n",
      "Test Accuracy:  0.5743243243243243\n",
      "Predictions:\n",
      "['CU' 'FF' 'SL']\n",
      "[ 364 5228   32] \n",
      "\n",
      "Actual:\n",
      "['CH' 'CU' 'FF' 'SI' 'SL']\n",
      "[ 757  939 3278   38  612] \n",
      "\n",
      "Train Accuracy:  0.5773846564139035\n",
      "Test Accuracy:  0.5764580369843528\n",
      "Predictions:\n",
      "['CU' 'FF' 'SL']\n",
      "[ 339 5257   28] \n",
      "\n",
      "Actual:\n",
      "['CH' 'CU' 'FF' 'SI' 'SL']\n",
      "[ 757  939 3278   38  612] \n",
      "\n",
      "Train Accuracy:  0.5761401013423415\n",
      "Test Accuracy:  0.5807254623044097\n",
      "Predictions:\n",
      "['CU' 'FF' 'SL']\n",
      "[ 285 5317   22] \n",
      "\n",
      "Actual:\n",
      "['CH' 'CU' 'FF' 'SI' 'SL']\n",
      "[ 758  938 3278   38  612] \n",
      "\n"
     ]
    }
   ],
   "source": [
    "# Logistic Regression - Game Situational Features: PCA 95% (53 features)\n",
    "log_reg_game_sit_pca_models = []\n",
    "log_reg_game_sit_pca_test_accs = []\n",
    "\n",
    "skf = StratifiedKFold(n_splits=5, shuffle=True, random_state=42)\n",
    "\n",
    "for train_index, test_index in skf.split(X_game_sit, y):\n",
    "    X_train, X_test = X_game_sit[train_index], X_game_sit[test_index]\n",
    "    y_train, y_test = y[train_index], y[test_index]\n",
    "    \n",
    "    scaler = MinMaxScaler()\n",
    "    scaled_X_train = scaler.fit_transform(X_train)\n",
    "    scaled_X_test = scaler.transform(X_test)\n",
    "    \n",
    "    pca = PCA(n_components=0.95, svd_solver='full')\n",
    "    reduced_X_train = pca.fit_transform(scaled_X_train)\n",
    "    reduced_X_test = pca.transform(scaled_X_test)\n",
    "    \n",
    "    model = LogisticRegression(max_iter=1000)\n",
    "    \n",
    "    model.fit(reduced_X_train, y_train)\n",
    "    \n",
    "    test_acc = model.score(reduced_X_test, y_test)\n",
    "    print(\"Train Accuracy: \", model.score(reduced_X_train, y_train))\n",
    "    print(\"Test Accuracy: \", test_acc)\n",
    "    \n",
    "    print(\"Predictions:\")\n",
    "    print(np.unique(model.predict(reduced_X_test)))\n",
    "    print(np.unique(model.predict(reduced_X_test), return_counts=True)[1], \"\\n\")\n",
    "    print(\"Actual:\")\n",
    "    print(np.unique(y_test))\n",
    "    print(np.unique(y_test, return_counts=True)[1], \"\\n\")\n",
    "    \n",
    "    log_reg_game_sit_pca_test_accs.append(test_acc)\n",
    "    log_reg_game_sit_pca_models.append(model)"
   ]
  },
  {
   "cell_type": "code",
   "execution_count": 12,
   "id": "aeac1c74",
   "metadata": {
    "scrolled": true
   },
   "outputs": [
    {
     "name": "stdout",
     "output_type": "stream",
     "text": [
      "Train Accuracy:  0.5851891363292884\n",
      "Test Accuracy:  0.5866666666666667 \n",
      "\n",
      "Predictions:\n",
      "['CH' 'CU' 'FF' 'SI' 'SL']\n",
      "[  45  421 4979   24  156] \n",
      "\n",
      "Actual:\n",
      "['CH' 'CU' 'FF' 'SI' 'SL']\n",
      "[ 758  939 3277   38  613] \n",
      "\n",
      "Train Accuracy:  0.5867893496910699\n",
      "Test Accuracy:  0.5852444444444445 \n",
      "\n",
      "Predictions:\n",
      "['CH' 'CU' 'FF' 'SI' 'SL']\n",
      "[  63  395 4977   30  160] \n",
      "\n",
      "Actual:\n",
      "['CH' 'CU' 'FF' 'SI' 'SL']\n",
      "[ 757  939 3277   39  613] \n",
      "\n",
      "Train Accuracy:  0.5856965063561206\n",
      "Test Accuracy:  0.5796586059743954 \n",
      "\n",
      "Predictions:\n",
      "['CH' 'CU' 'FF' 'SI' 'SL']\n",
      "[  46  405 4947   28  198] \n",
      "\n",
      "Actual:\n",
      "['CH' 'CU' 'FF' 'SI' 'SL']\n",
      "[ 757  939 3278   38  612] \n",
      "\n",
      "Train Accuracy:  0.5855631611698817\n",
      "Test Accuracy:  0.5812588904694168 \n",
      "\n",
      "Predictions:\n",
      "['CH' 'CU' 'FF' 'SI' 'SL']\n",
      "[  51  355 4995   30  193] \n",
      "\n",
      "Actual:\n",
      "['CH' 'CU' 'FF' 'SI' 'SL']\n",
      "[ 757  939 3278   38  612] \n",
      "\n",
      "Train Accuracy:  0.5853409191928172\n",
      "Test Accuracy:  0.5869487908961594 \n",
      "\n",
      "Predictions:\n",
      "['CH' 'CU' 'FF' 'SI' 'SL']\n",
      "[  34  325 5065   21  179] \n",
      "\n",
      "Actual:\n",
      "['CH' 'CU' 'FF' 'SI' 'SL']\n",
      "[ 758  938 3278   38  612] \n",
      "\n"
     ]
    }
   ],
   "source": [
    "# Logistic Regression - Whole Features: PCA 95% (53 features)\n",
    "log_reg_whole_pca_models = []\n",
    "log_reg_whole_pca_train_accs = []\n",
    "log_reg_whole_pca_test_accs = []\n",
    "\n",
    "skf = StratifiedKFold(n_splits=5, shuffle=True, random_state=42)\n",
    "\n",
    "for train_index, test_index in skf.split(X_whole, y):\n",
    "    X_train, X_test = X_whole[train_index], X_whole[test_index]\n",
    "    y_train, y_test = y[train_index], y[test_index]\n",
    "    \n",
    "    scaler = MinMaxScaler()\n",
    "    scaled_X_train = scaler.fit_transform(X_train)\n",
    "    scaled_X_test = scaler.transform(X_test)\n",
    "    \n",
    "    pca = PCA(n_components=0.95, svd_solver='full')\n",
    "    reduced_X_train = pca.fit_transform(scaled_X_train)\n",
    "    reduced_X_test = pca.transform(scaled_X_test)\n",
    "    \n",
    "    model = LogisticRegression(max_iter=1000)\n",
    "    \n",
    "    model.fit(reduced_X_train, y_train)\n",
    "    \n",
    "    test_acc = model.score(reduced_X_test, y_test)\n",
    "    train_acc = model.score(reduced_X_train, y_train)\n",
    "    print(\"Train Accuracy: \", train_acc)\n",
    "    print(\"Test Accuracy: \", test_acc, \"\\n\")\n",
    "    \n",
    "    print(\"Predictions:\")\n",
    "    print(np.unique(model.predict(reduced_X_test)))\n",
    "    print(np.unique(model.predict(reduced_X_test), return_counts=True)[1], \"\\n\")\n",
    "    print(\"Actual:\")\n",
    "    print(np.unique(y_test))\n",
    "    print(np.unique(y_test, return_counts=True)[1], \"\\n\")\n",
    "    \n",
    "    log_reg_whole_pca_train_accs.append(train_acc)\n",
    "    log_reg_whole_pca_test_accs.append(test_acc)\n",
    "    log_reg_whole_pca_models.append(model)"
   ]
  },
  {
   "cell_type": "markdown",
   "id": "c5d69b31",
   "metadata": {},
   "source": [
    "## Ensemble"
   ]
  },
  {
   "cell_type": "code",
   "execution_count": 19,
   "id": "d733b55f",
   "metadata": {},
   "outputs": [
    {
     "name": "stdout",
     "output_type": "stream",
     "text": [
      "Agreement PCA-STDZ:  0.9552\n",
      "Agreement PCA-REGULAR:  0.9571555555555555\n",
      "Agreement STDZ-REGULAR:  0.9882666666666666\n",
      "Agreement PCA-STDZ:  0.9523555555555555\n",
      "Agreement PCA-REGULAR:  0.9521777777777778\n",
      "Agreement STDZ-REGULAR:  0.9880888888888889\n",
      "Agreement PCA-STDZ:  0.94950213371266\n",
      "Agreement PCA-REGULAR:  0.94950213371266\n",
      "Agreement STDZ-REGULAR:  0.9907539118065434\n",
      "Agreement PCA-STDZ:  0.9541251778093883\n",
      "Agreement PCA-REGULAR:  0.954302987197724\n",
      "Agreement STDZ-REGULAR:  0.9905761024182077\n",
      "Agreement PCA-STDZ:  0.9557254623044097\n",
      "Agreement PCA-REGULAR:  0.9589260312944523\n",
      "Agreement STDZ-REGULAR:  0.9893314366998578\n"
     ]
    }
   ],
   "source": [
    "# Ensemble of LogReg Models\n",
    "ensemble_models = []\n",
    "ensemble_train_accs = []\n",
    "ensemble_test_accs = []\n",
    "\n",
    "skf = StratifiedKFold(n_splits=5, shuffle=True, random_state=42)\n",
    "\n",
    "for fold, (train_index, test_index) in enumerate(skf.split(X_whole, y)):\n",
    "    X_train, X_test = X_whole[train_index], X_whole[test_index]\n",
    "    y_train, y_test = y[train_index], y[test_index]\n",
    "    \n",
    "    scaler = MinMaxScaler()\n",
    "    scaled_X_train = scaler.fit_transform(X_train)\n",
    "    scaled_X_test = scaler.transform(X_test)\n",
    "    \n",
    "    pca = PCA(n_components=0.95, svd_solver='full')\n",
    "    reduced_X_train = pca.fit_transform(scaled_X_train)\n",
    "    reduced_X_test = pca.transform(scaled_X_test)\n",
    "    \n",
    "    log_reg_pca_model = log_reg_whole_pca_models[fold]\n",
    "    log_reg_stdz_model = log_reg_whole_reg_models[fold]\n",
    "    log_reg_model = log_reg_whole_models[fold]\n",
    "    \n",
    "    pca_mod_probs_train = log_reg_pca_model.predict(reduced_X_train)\n",
    "    stdz_mod_probs_train = log_reg_stdz_model.predict(scaled_X_train)\n",
    "    mod_probs_train = log_reg_model.predict(X_train)\n",
    "    \n",
    "    pca_mod_probs_test = log_reg_pca_model.predict(reduced_X_test)\n",
    "    stdz_mod_probs_test = log_reg_stdz_model.predict(scaled_X_test)\n",
    "    mod_probs_test = log_reg_model.predict(X_test)\n",
    "    \n",
    "    print(\"Agreement PCA-STDZ: \", np.mean(pca_mod_probs_test == stdz_mod_probs_test))\n",
    "    print(\"Agreement PCA-REGULAR: \", np.mean(pca_mod_probs_test == mod_probs_test))\n",
    "    print(\"Agreement STDZ-REGULAR: \", np.mean(stdz_mod_probs_test == mod_probs_test))\n",
    "    \n",
    "#     model_prob_votes_train = np.hstack([pca_mod_probs_train.reshape(-1, 1), stdz_mod_probs_train.reshape(-1, 1), mod_probs_train.reshape(-1, 1)])\n",
    "#     model_prob_votes_test = np.hstack([pca_mod_probs_test.reshape(-1, 1), stdz_mod_probs_test.reshape(-1, 1), mod_probs_test.reshape(-1, 1)])\n",
    "    \n",
    "#     ensemble = LogisticRegression()\n",
    "#     ensemble.fit(model_prob_votes_train, y_train)\n",
    "    \n",
    "#     train_acc = ensemble.score(model_prob_votes_train, y_train) \n",
    "#     test_acc = ensemble.score(model_prob_votes_test, y_test)\n",
    "#     print(\"Train Accuracy: \", train_acc)\n",
    "#     print(\"Test Accuracy: \", test_acc, \"\\n\")\n",
    "    \n",
    "#     print(\"Predictions:\")\n",
    "#     print(np.unique(ensemble.predict(model_prob_votes_test)))\n",
    "#     print(np.unique(ensemble.predict(model_prob_votes_test), return_counts=True)[1], \"\\n\")\n",
    "#     print(\"Actual:\")\n",
    "#     print(np.unique(y_test))\n",
    "#     print(np.unique(y_test, return_counts=True)[1], \"\\n\")\n",
    "    \n",
    "#     ensemble_train_accs.append(train_acc)\n",
    "#     ensemble_test_accs.append(test_acc)\n",
    "#     ensemble_models.append(ensemble)"
   ]
  },
  {
   "cell_type": "code",
   "execution_count": 28,
   "id": "b4c6d5af",
   "metadata": {},
   "outputs": [
    {
     "name": "stdout",
     "output_type": "stream",
     "text": [
      "\t 0.5863380622727992\n",
      "\t 0.5778748664453928\n",
      "\t 0.5787284400189664\n",
      "\t 0.5872981381381381\n",
      "\t 0.5791195511300774\n",
      "\t 0.5785862177967441\n",
      "0.5857158145478356 \t 0.5839554796902166\n",
      "\t 0.5759191844476056\n",
      "\t 0.5772348980559506\n"
     ]
    }
   ],
   "source": [
    "print(\"\\t\", np.mean(log_reg_whole_test_accs))\n",
    "\n",
    "print(\"\\t\", np.mean(log_reg_wo_recurse_test_accs))\n",
    "\n",
    "print(\"\\t\", np.mean(log_reg_game_sit_test_accs))\n",
    "\n",
    "print(\"\\t\", np.mean(log_reg_whole_reg_test_accs))\n",
    "\n",
    "print(\"\\t\", np.mean(log_reg_wo_recurse_reg_test_accs))\n",
    "\n",
    "print(\"\\t\", np.mean(log_reg_game_sit_reg_test_accs))\n",
    "\n",
    "print(np.mean(log_reg_whole_pca_train_accs), \"\\t\", np.mean(log_reg_whole_pca_test_accs))\n",
    "\n",
    "print(\"\\t\", np.mean(log_reg_wo_recurse_pca_test_accs))\n",
    "\n",
    "print(\"\\t\", np.mean(log_reg_game_sit_pca_test_accs))"
   ]
  },
  {
   "cell_type": "code",
   "execution_count": 29,
   "id": "2bcc3ba2",
   "metadata": {
    "scrolled": true
   },
   "outputs": [
    {
     "data": {
      "text/plain": [
       "array(['pitch_type', 'month', 'year', 'inning', 'inning_topbot', 'outs',\n",
       "       'strikes', 'balls', 'pitch_number', 'on_1b', 'on_2b', 'on_3b',\n",
       "       'score_diff', 'of_std', 'of_strat', 'if_std', 'if_strat',\n",
       "       'if_shift', 'Pitcher_Tend_FF', 'Pitcher_Tend_CU',\n",
       "       'Pitcher_Tend_CH', 'Pitcher_Tend_SL', 'Pitcher_Tend_SI',\n",
       "       'Pitcher_Strike_Tend_FF', 'Pitcher_Strike_Tend_CU',\n",
       "       'Pitcher_Strike_Tend_CH', 'Pitcher_Strike_Tend_SL',\n",
       "       'Pitcher_Strike_Tend_SI', 'PrevPitch_FF', 'PrevPitch_CU',\n",
       "       'PrevPitch_CH', 'PrevPitch_SL', 'PrevPitch_SI', 'PrevPitch_Strike',\n",
       "       'PrevPitch_Ball', 'PrevPitch_InPlay', 'Prev5_Pcnt_FF',\n",
       "       'Prev5_FF_Strike', 'Prev5_Pcnt_CU', 'Prev5_CU_Strike',\n",
       "       'Prev5_Pcnt_CH', 'Prev5_CH_Strike', 'Prev5_Pcnt_SL',\n",
       "       'Prev5_SL_Strike', 'Prev5_Pcnt_SI', 'Prev5_SI_Strike',\n",
       "       'Prev10_Pcnt_FF', 'Prev10_FF_Strike', 'Prev10_Pcnt_CU',\n",
       "       'Prev10_CU_Strike', 'Prev10_Pcnt_CH', 'Prev10_CH_Strike',\n",
       "       'Prev10_Pcnt_SL', 'Prev10_SL_Strike', 'Prev10_Pcnt_SI',\n",
       "       'Prev10_SI_Strike', 'Prev20_Pcnt_FF', 'Prev20_FF_Strike',\n",
       "       'Prev20_Pcnt_CU', 'Prev20_CU_Strike', 'Prev20_Pcnt_CH',\n",
       "       'Prev20_CH_Strike', 'Prev20_Pcnt_SL', 'Prev20_SL_Strike',\n",
       "       'Prev20_Pcnt_SI', 'Prev20_SI_Strike', 'batter_stance',\n",
       "       'Last_At_Bat_Strikeout', 'Last_At_Bat_Out', 'Last_At_Bat_Homerun',\n",
       "       'Last_At_Bat_Triple', 'Last_At_Bat_Double', 'Last_At_Bat_Single',\n",
       "       'Last_At_Bat_Walk', 'Last_At_Bat_Error', 'Last_At_Bat_Other',\n",
       "       'Strike_Tend_FF', 'Strike_Tend_CU', 'Strike_Tend_CH',\n",
       "       'Strike_Tend_SL', 'Strike_Tend_SI', 'Overall_Strike_Tend',\n",
       "       'Slug_Avg_FF', 'Slug_Avg_CU', 'Slug_Avg_CH', 'Slug_Avg_SL',\n",
       "       'Slug_Avg_SI', 'Overall_Slug_Avg', 'Zone_1_Strike_Pcnt',\n",
       "       'Zone_2_Strike_Pcnt', 'Zone_3_Strike_Pcnt', 'Zone_4_Strike_Pcnt',\n",
       "       'Zone_5_Strike_Pcnt', 'Zone_6_Strike_Pcnt', 'Zone_7_Strike_Pcnt',\n",
       "       'Zone_8_Strike_Pcnt', 'Zone_9_Strike_Pcnt', 'Zone_11_Strike_Pcnt',\n",
       "       'Zone_12_Strike_Pcnt', 'Zone_13_Strike_Pcnt',\n",
       "       'Zone_14_Strike_Pcnt'], dtype=object)"
      ]
     },
     "execution_count": 29,
     "metadata": {},
     "output_type": "execute_result"
    }
   ],
   "source": [
    "verlander_cols"
   ]
  },
  {
   "cell_type": "code",
   "execution_count": null,
   "id": "99dbfab1",
   "metadata": {},
   "outputs": [],
   "source": []
  }
 ],
 "metadata": {
  "kernelspec": {
   "display_name": "Python 3 (ipykernel)",
   "language": "python",
   "name": "python3"
  },
  "language_info": {
   "codemirror_mode": {
    "name": "ipython",
    "version": 3
   },
   "file_extension": ".py",
   "mimetype": "text/x-python",
   "name": "python",
   "nbconvert_exporter": "python",
   "pygments_lexer": "ipython3",
   "version": "3.9.12"
  }
 },
 "nbformat": 4,
 "nbformat_minor": 5
}
